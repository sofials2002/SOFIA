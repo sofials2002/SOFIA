{
  "cells": [
    {
      "cell_type": "markdown",
      "metadata": {
        "id": "view-in-github",
        "colab_type": "text"
      },
      "source": [
        "<a href=\"https://colab.research.google.com/github/sofials2002/SOFIA/blob/master/DiD_Modern.ipynb\" target=\"_parent\"><img src=\"https://colab.research.google.com/assets/colab-badge.svg\" alt=\"Open In Colab\"/></a>"
      ]
    },
    {
      "cell_type": "markdown",
      "metadata": {
        "id": "80HEeryWKbUC"
      },
      "source": [
        "# Modern DiD Approaches\n",
        "\n"
      ]
    },
    {
      "cell_type": "code",
      "execution_count": 1,
      "metadata": {
        "id": "xLrAjLZBKbUD"
      },
      "outputs": [],
      "source": [
        "import numpy as np\n",
        "import pandas as pd\n",
        "import matplotlib.pyplot as plt\n",
        "\n",
        "import warnings\n",
        "warnings.simplefilter('ignore')\n",
        "\n",
        "%config InlineBackend.figure_format = \"retina\""
      ]
    },
    {
      "cell_type": "code",
      "source": [
        "import subprocess\n",
        "\n",
        "# Installation on Google Colab\n",
        "try:\n",
        "    import google.colab\n",
        "    subprocess.run(['python', '-m', 'pip', 'install', 'pyfixest'])\n",
        "except ImportError:\n",
        "    pass\n",
        "\n",
        "import pyfixest as pf"
      ],
      "metadata": {
        "id": "9WqQ-qVyKtAp"
      },
      "execution_count": 2,
      "outputs": []
    },
    {
      "cell_type": "markdown",
      "metadata": {
        "id": "DmikCDUKKbUE"
      },
      "source": [
        "The data is from [Callaway (2022)](https://bcallaway11.github.io/files/Callaway-Chapter-2022/main.pdf), annual county level data from the United States covering 2001 to 2007. The outcome variable is log county-level teen employment, and the treatment variable is an indicator for whether the county has a minimum wage above the federal minimum wage. See [Callaway and Sant’Anna (2021)](https://www.sciencedirect.com/science/article/abs/pii/S0304407620303948) for additional details on the data."
      ]
    },
    {
      "cell_type": "code",
      "execution_count": 3,
      "metadata": {
        "id": "ZIbr0H4qKbUF",
        "outputId": "d48d42e0-2ed1-43e5-b4ea-7bf25f3e5a17",
        "colab": {
          "base_uri": "https://localhost:8080/",
          "height": 363
        }
      },
      "outputs": [
        {
          "output_type": "execute_result",
          "data": {
            "text/plain": [
              "     year  treated     G      lemp      lpop   lavg_pay  region    id\n",
              "554  2001        0  2007  5.556828  9.614137  10.057495       4  8003\n",
              "555  2002        0  2007  5.356586  9.623972  10.097120       4  8003\n",
              "556  2003        0  2007  5.389072  9.620859  10.107611       4  8003\n",
              "557  2004        0  2007  5.356586  9.626548  10.140337       4  8003\n",
              "558  2005        0  2007  5.303305  9.637958  10.175497       4  8003\n",
              "559  2006        0  2007  5.342334  9.633056  10.218590       4  8003\n",
              "560  2007        1  2007  5.220356  9.635412  10.289702       4  8003\n",
              "561  2001        0  2007  5.198497  9.260368  10.021359       4  8007\n",
              "562  2002        0  2007  5.262690  9.312265  10.031045       4  8007\n",
              "563  2003        0  2007  5.278115  9.338118  10.071795       4  8007"
            ],
            "text/html": [
              "\n",
              "  <div id=\"df-38458918-6a62-48f5-b657-19eb867f2cb2\" class=\"colab-df-container\">\n",
              "    <div>\n",
              "<style scoped>\n",
              "    .dataframe tbody tr th:only-of-type {\n",
              "        vertical-align: middle;\n",
              "    }\n",
              "\n",
              "    .dataframe tbody tr th {\n",
              "        vertical-align: top;\n",
              "    }\n",
              "\n",
              "    .dataframe thead th {\n",
              "        text-align: right;\n",
              "    }\n",
              "</style>\n",
              "<table border=\"1\" class=\"dataframe\">\n",
              "  <thead>\n",
              "    <tr style=\"text-align: right;\">\n",
              "      <th></th>\n",
              "      <th>year</th>\n",
              "      <th>treated</th>\n",
              "      <th>G</th>\n",
              "      <th>lemp</th>\n",
              "      <th>lpop</th>\n",
              "      <th>lavg_pay</th>\n",
              "      <th>region</th>\n",
              "      <th>id</th>\n",
              "    </tr>\n",
              "  </thead>\n",
              "  <tbody>\n",
              "    <tr>\n",
              "      <th>554</th>\n",
              "      <td>2001</td>\n",
              "      <td>0</td>\n",
              "      <td>2007</td>\n",
              "      <td>5.556828</td>\n",
              "      <td>9.614137</td>\n",
              "      <td>10.057495</td>\n",
              "      <td>4</td>\n",
              "      <td>8003</td>\n",
              "    </tr>\n",
              "    <tr>\n",
              "      <th>555</th>\n",
              "      <td>2002</td>\n",
              "      <td>0</td>\n",
              "      <td>2007</td>\n",
              "      <td>5.356586</td>\n",
              "      <td>9.623972</td>\n",
              "      <td>10.097120</td>\n",
              "      <td>4</td>\n",
              "      <td>8003</td>\n",
              "    </tr>\n",
              "    <tr>\n",
              "      <th>556</th>\n",
              "      <td>2003</td>\n",
              "      <td>0</td>\n",
              "      <td>2007</td>\n",
              "      <td>5.389072</td>\n",
              "      <td>9.620859</td>\n",
              "      <td>10.107611</td>\n",
              "      <td>4</td>\n",
              "      <td>8003</td>\n",
              "    </tr>\n",
              "    <tr>\n",
              "      <th>557</th>\n",
              "      <td>2004</td>\n",
              "      <td>0</td>\n",
              "      <td>2007</td>\n",
              "      <td>5.356586</td>\n",
              "      <td>9.626548</td>\n",
              "      <td>10.140337</td>\n",
              "      <td>4</td>\n",
              "      <td>8003</td>\n",
              "    </tr>\n",
              "    <tr>\n",
              "      <th>558</th>\n",
              "      <td>2005</td>\n",
              "      <td>0</td>\n",
              "      <td>2007</td>\n",
              "      <td>5.303305</td>\n",
              "      <td>9.637958</td>\n",
              "      <td>10.175497</td>\n",
              "      <td>4</td>\n",
              "      <td>8003</td>\n",
              "    </tr>\n",
              "    <tr>\n",
              "      <th>559</th>\n",
              "      <td>2006</td>\n",
              "      <td>0</td>\n",
              "      <td>2007</td>\n",
              "      <td>5.342334</td>\n",
              "      <td>9.633056</td>\n",
              "      <td>10.218590</td>\n",
              "      <td>4</td>\n",
              "      <td>8003</td>\n",
              "    </tr>\n",
              "    <tr>\n",
              "      <th>560</th>\n",
              "      <td>2007</td>\n",
              "      <td>1</td>\n",
              "      <td>2007</td>\n",
              "      <td>5.220356</td>\n",
              "      <td>9.635412</td>\n",
              "      <td>10.289702</td>\n",
              "      <td>4</td>\n",
              "      <td>8003</td>\n",
              "    </tr>\n",
              "    <tr>\n",
              "      <th>561</th>\n",
              "      <td>2001</td>\n",
              "      <td>0</td>\n",
              "      <td>2007</td>\n",
              "      <td>5.198497</td>\n",
              "      <td>9.260368</td>\n",
              "      <td>10.021359</td>\n",
              "      <td>4</td>\n",
              "      <td>8007</td>\n",
              "    </tr>\n",
              "    <tr>\n",
              "      <th>562</th>\n",
              "      <td>2002</td>\n",
              "      <td>0</td>\n",
              "      <td>2007</td>\n",
              "      <td>5.262690</td>\n",
              "      <td>9.312265</td>\n",
              "      <td>10.031045</td>\n",
              "      <td>4</td>\n",
              "      <td>8007</td>\n",
              "    </tr>\n",
              "    <tr>\n",
              "      <th>563</th>\n",
              "      <td>2003</td>\n",
              "      <td>0</td>\n",
              "      <td>2007</td>\n",
              "      <td>5.278115</td>\n",
              "      <td>9.338118</td>\n",
              "      <td>10.071795</td>\n",
              "      <td>4</td>\n",
              "      <td>8007</td>\n",
              "    </tr>\n",
              "  </tbody>\n",
              "</table>\n",
              "</div>\n",
              "    <div class=\"colab-df-buttons\">\n",
              "\n",
              "  <div class=\"colab-df-container\">\n",
              "    <button class=\"colab-df-convert\" onclick=\"convertToInteractive('df-38458918-6a62-48f5-b657-19eb867f2cb2')\"\n",
              "            title=\"Convert this dataframe to an interactive table.\"\n",
              "            style=\"display:none;\">\n",
              "\n",
              "  <svg xmlns=\"http://www.w3.org/2000/svg\" height=\"24px\" viewBox=\"0 -960 960 960\">\n",
              "    <path d=\"M120-120v-720h720v720H120Zm60-500h600v-160H180v160Zm220 220h160v-160H400v160Zm0 220h160v-160H400v160ZM180-400h160v-160H180v160Zm440 0h160v-160H620v160ZM180-180h160v-160H180v160Zm440 0h160v-160H620v160Z\"/>\n",
              "  </svg>\n",
              "    </button>\n",
              "\n",
              "  <style>\n",
              "    .colab-df-container {\n",
              "      display:flex;\n",
              "      gap: 12px;\n",
              "    }\n",
              "\n",
              "    .colab-df-convert {\n",
              "      background-color: #E8F0FE;\n",
              "      border: none;\n",
              "      border-radius: 50%;\n",
              "      cursor: pointer;\n",
              "      display: none;\n",
              "      fill: #1967D2;\n",
              "      height: 32px;\n",
              "      padding: 0 0 0 0;\n",
              "      width: 32px;\n",
              "    }\n",
              "\n",
              "    .colab-df-convert:hover {\n",
              "      background-color: #E2EBFA;\n",
              "      box-shadow: 0px 1px 2px rgba(60, 64, 67, 0.3), 0px 1px 3px 1px rgba(60, 64, 67, 0.15);\n",
              "      fill: #174EA6;\n",
              "    }\n",
              "\n",
              "    .colab-df-buttons div {\n",
              "      margin-bottom: 4px;\n",
              "    }\n",
              "\n",
              "    [theme=dark] .colab-df-convert {\n",
              "      background-color: #3B4455;\n",
              "      fill: #D2E3FC;\n",
              "    }\n",
              "\n",
              "    [theme=dark] .colab-df-convert:hover {\n",
              "      background-color: #434B5C;\n",
              "      box-shadow: 0px 1px 3px 1px rgba(0, 0, 0, 0.15);\n",
              "      filter: drop-shadow(0px 1px 2px rgba(0, 0, 0, 0.3));\n",
              "      fill: #FFFFFF;\n",
              "    }\n",
              "  </style>\n",
              "\n",
              "    <script>\n",
              "      const buttonEl =\n",
              "        document.querySelector('#df-38458918-6a62-48f5-b657-19eb867f2cb2 button.colab-df-convert');\n",
              "      buttonEl.style.display =\n",
              "        google.colab.kernel.accessAllowed ? 'block' : 'none';\n",
              "\n",
              "      async function convertToInteractive(key) {\n",
              "        const element = document.querySelector('#df-38458918-6a62-48f5-b657-19eb867f2cb2');\n",
              "        const dataTable =\n",
              "          await google.colab.kernel.invokeFunction('convertToInteractive',\n",
              "                                                    [key], {});\n",
              "        if (!dataTable) return;\n",
              "\n",
              "        const docLinkHtml = 'Like what you see? Visit the ' +\n",
              "          '<a target=\"_blank\" href=https://colab.research.google.com/notebooks/data_table.ipynb>data table notebook</a>'\n",
              "          + ' to learn more about interactive tables.';\n",
              "        element.innerHTML = '';\n",
              "        dataTable['output_type'] = 'display_data';\n",
              "        await google.colab.output.renderOutput(dataTable, element);\n",
              "        const docLink = document.createElement('div');\n",
              "        docLink.innerHTML = docLinkHtml;\n",
              "        element.appendChild(docLink);\n",
              "      }\n",
              "    </script>\n",
              "  </div>\n",
              "\n",
              "\n",
              "<div id=\"df-3fddf364-a1b7-455d-bac5-52aac7336dcc\">\n",
              "  <button class=\"colab-df-quickchart\" onclick=\"quickchart('df-3fddf364-a1b7-455d-bac5-52aac7336dcc')\"\n",
              "            title=\"Suggest charts\"\n",
              "            style=\"display:none;\">\n",
              "\n",
              "<svg xmlns=\"http://www.w3.org/2000/svg\" height=\"24px\"viewBox=\"0 0 24 24\"\n",
              "     width=\"24px\">\n",
              "    <g>\n",
              "        <path d=\"M19 3H5c-1.1 0-2 .9-2 2v14c0 1.1.9 2 2 2h14c1.1 0 2-.9 2-2V5c0-1.1-.9-2-2-2zM9 17H7v-7h2v7zm4 0h-2V7h2v10zm4 0h-2v-4h2v4z\"/>\n",
              "    </g>\n",
              "</svg>\n",
              "  </button>\n",
              "\n",
              "<style>\n",
              "  .colab-df-quickchart {\n",
              "      --bg-color: #E8F0FE;\n",
              "      --fill-color: #1967D2;\n",
              "      --hover-bg-color: #E2EBFA;\n",
              "      --hover-fill-color: #174EA6;\n",
              "      --disabled-fill-color: #AAA;\n",
              "      --disabled-bg-color: #DDD;\n",
              "  }\n",
              "\n",
              "  [theme=dark] .colab-df-quickchart {\n",
              "      --bg-color: #3B4455;\n",
              "      --fill-color: #D2E3FC;\n",
              "      --hover-bg-color: #434B5C;\n",
              "      --hover-fill-color: #FFFFFF;\n",
              "      --disabled-bg-color: #3B4455;\n",
              "      --disabled-fill-color: #666;\n",
              "  }\n",
              "\n",
              "  .colab-df-quickchart {\n",
              "    background-color: var(--bg-color);\n",
              "    border: none;\n",
              "    border-radius: 50%;\n",
              "    cursor: pointer;\n",
              "    display: none;\n",
              "    fill: var(--fill-color);\n",
              "    height: 32px;\n",
              "    padding: 0;\n",
              "    width: 32px;\n",
              "  }\n",
              "\n",
              "  .colab-df-quickchart:hover {\n",
              "    background-color: var(--hover-bg-color);\n",
              "    box-shadow: 0 1px 2px rgba(60, 64, 67, 0.3), 0 1px 3px 1px rgba(60, 64, 67, 0.15);\n",
              "    fill: var(--button-hover-fill-color);\n",
              "  }\n",
              "\n",
              "  .colab-df-quickchart-complete:disabled,\n",
              "  .colab-df-quickchart-complete:disabled:hover {\n",
              "    background-color: var(--disabled-bg-color);\n",
              "    fill: var(--disabled-fill-color);\n",
              "    box-shadow: none;\n",
              "  }\n",
              "\n",
              "  .colab-df-spinner {\n",
              "    border: 2px solid var(--fill-color);\n",
              "    border-color: transparent;\n",
              "    border-bottom-color: var(--fill-color);\n",
              "    animation:\n",
              "      spin 1s steps(1) infinite;\n",
              "  }\n",
              "\n",
              "  @keyframes spin {\n",
              "    0% {\n",
              "      border-color: transparent;\n",
              "      border-bottom-color: var(--fill-color);\n",
              "      border-left-color: var(--fill-color);\n",
              "    }\n",
              "    20% {\n",
              "      border-color: transparent;\n",
              "      border-left-color: var(--fill-color);\n",
              "      border-top-color: var(--fill-color);\n",
              "    }\n",
              "    30% {\n",
              "      border-color: transparent;\n",
              "      border-left-color: var(--fill-color);\n",
              "      border-top-color: var(--fill-color);\n",
              "      border-right-color: var(--fill-color);\n",
              "    }\n",
              "    40% {\n",
              "      border-color: transparent;\n",
              "      border-right-color: var(--fill-color);\n",
              "      border-top-color: var(--fill-color);\n",
              "    }\n",
              "    60% {\n",
              "      border-color: transparent;\n",
              "      border-right-color: var(--fill-color);\n",
              "    }\n",
              "    80% {\n",
              "      border-color: transparent;\n",
              "      border-right-color: var(--fill-color);\n",
              "      border-bottom-color: var(--fill-color);\n",
              "    }\n",
              "    90% {\n",
              "      border-color: transparent;\n",
              "      border-bottom-color: var(--fill-color);\n",
              "    }\n",
              "  }\n",
              "</style>\n",
              "\n",
              "  <script>\n",
              "    async function quickchart(key) {\n",
              "      const quickchartButtonEl =\n",
              "        document.querySelector('#' + key + ' button');\n",
              "      quickchartButtonEl.disabled = true;  // To prevent multiple clicks.\n",
              "      quickchartButtonEl.classList.add('colab-df-spinner');\n",
              "      try {\n",
              "        const charts = await google.colab.kernel.invokeFunction(\n",
              "            'suggestCharts', [key], {});\n",
              "      } catch (error) {\n",
              "        console.error('Error during call to suggestCharts:', error);\n",
              "      }\n",
              "      quickchartButtonEl.classList.remove('colab-df-spinner');\n",
              "      quickchartButtonEl.classList.add('colab-df-quickchart-complete');\n",
              "    }\n",
              "    (() => {\n",
              "      let quickchartButtonEl =\n",
              "        document.querySelector('#df-3fddf364-a1b7-455d-bac5-52aac7336dcc button');\n",
              "      quickchartButtonEl.style.display =\n",
              "        google.colab.kernel.accessAllowed ? 'block' : 'none';\n",
              "    })();\n",
              "  </script>\n",
              "</div>\n",
              "\n",
              "    </div>\n",
              "  </div>\n"
            ],
            "application/vnd.google.colaboratory.intrinsic+json": {
              "type": "dataframe",
              "variable_name": "data",
              "summary": "{\n  \"name\": \"data\",\n  \"rows\": 17549,\n  \"fields\": [\n    {\n      \"column\": \"year\",\n      \"properties\": {\n        \"dtype\": \"number\",\n        \"std\": 2,\n        \"min\": 2001,\n        \"max\": 2007,\n        \"num_unique_values\": 7,\n        \"samples\": [\n          2001,\n          2002,\n          2006\n        ],\n        \"semantic_type\": \"\",\n        \"description\": \"\"\n      }\n    },\n    {\n      \"column\": \"treated\",\n      \"properties\": {\n        \"dtype\": \"number\",\n        \"std\": 0,\n        \"min\": 0,\n        \"max\": 1,\n        \"num_unique_values\": 2,\n        \"samples\": [\n          1,\n          0\n        ],\n        \"semantic_type\": \"\",\n        \"description\": \"\"\n      }\n    },\n    {\n      \"column\": \"G\",\n      \"properties\": {\n        \"dtype\": \"number\",\n        \"std\": 994,\n        \"min\": 0,\n        \"max\": 2007,\n        \"num_unique_values\": 6,\n        \"samples\": [\n          2007,\n          2006\n        ],\n        \"semantic_type\": \"\",\n        \"description\": \"\"\n      }\n    },\n    {\n      \"column\": \"lemp\",\n      \"properties\": {\n        \"dtype\": \"number\",\n        \"std\": 1.566678961655767,\n        \"min\": 1.09861228866811,\n        \"max\": 11.3878836479893,\n        \"num_unique_values\": 3688,\n        \"samples\": [\n          7.99967857949945,\n          9.30710404040849\n        ],\n        \"semantic_type\": \"\",\n        \"description\": \"\"\n      }\n    },\n    {\n      \"column\": \"lpop\",\n      \"properties\": {\n        \"dtype\": \"number\",\n        \"std\": 1.3923167463103474,\n        \"min\": 6.39692965521615,\n        \"max\": 15.4979325397814,\n        \"num_unique_values\": 15729,\n        \"samples\": [\n          9.84808054526439,\n          10.0335504368343\n        ],\n        \"semantic_type\": \"\",\n        \"description\": \"\"\n      }\n    },\n    {\n      \"column\": \"lavg_pay\",\n      \"properties\": {\n        \"dtype\": \"number\",\n        \"std\": 0.20813753808204674,\n        \"min\": 9.4953689269624,\n        \"max\": 11.5219644896209,\n        \"num_unique_values\": 11630,\n        \"samples\": [\n          10.4101545411533,\n          10.4249563364006\n        ],\n        \"semantic_type\": \"\",\n        \"description\": \"\"\n      }\n    },\n    {\n      \"column\": \"region\",\n      \"properties\": {\n        \"dtype\": \"number\",\n        \"std\": 0,\n        \"min\": 1,\n        \"max\": 4,\n        \"num_unique_values\": 4,\n        \"samples\": [\n          3,\n          1\n        ],\n        \"semantic_type\": \"\",\n        \"description\": \"\"\n      }\n    },\n    {\n      \"column\": \"id\",\n      \"properties\": {\n        \"dtype\": \"number\",\n        \"std\": 13631,\n        \"min\": 8001,\n        \"max\": 55141,\n        \"num_unique_values\": 2507,\n        \"samples\": [\n          48313,\n          8121\n        ],\n        \"semantic_type\": \"\",\n        \"description\": \"\"\n      }\n    }\n  ]\n}"
            }
          },
          "metadata": {},
          "execution_count": 3
        }
      ],
      "source": [
        "url = \"https://raw.githubusercontent.com/CausalAIBook/MetricsMLNotebooks/main/data/minwage_data.csv\"\n",
        "data = pd.read_csv(url,index_col=0)\n",
        "\n",
        "# Remove observations that are already treated in the first observed period (2001).\n",
        "data = data.loc[(data.G == 0) | (data.G > 2001)]\n",
        "\n",
        "# Drop all variables that we won't use\n",
        "data.drop(columns=[\"countyreal\", \"state_name\", \"FIPS\", \"emp0A01_BS\",\n",
        "                   \"quarter\", \"censusdiv\", \"pop\", \"annual_avg_pay\",\n",
        "                   \"state_mw\", \"fed_mw\", \"ever_treated\"], inplace=True)\n",
        "\n",
        "data.head(10)"
      ]
    },
    {
      "cell_type": "code",
      "execution_count": 6,
      "metadata": {
        "id": "S028c6v7KbUG",
        "outputId": "b084a912-5d8f-435a-db97-73e128af2ac1",
        "colab": {
          "base_uri": "https://localhost:8080/",
          "height": 476
        }
      },
      "outputs": [
        {
          "output_type": "display_data",
          "data": {
            "text/plain": [
              "<Figure size 640x480 with 1 Axes>"
            ],
            "image/png": "[encoded data removed]"
          },
          "metadata": {
            "image/png": {
              "width": 580,
              "height": 459
            }
          }
        }
      ],
      "source": [
        "# Visualize the treatment cohorts using panelview\n",
        "pf.panelview(\n",
        "    data,\n",
        "    unit=\"id\",\n",
        "    time=\"year\",\n",
        "    treat=\"treated\",\n",
        "    sort_by_timing=True,\n",
        "    ylab=\"Cohorts\",\n",
        "    xlab=\"Year\",\n",
        "    title=\"Treatment Assignment Cohorts\",\n",
        "    figsize=(0.5, 0.5),\n",
        ")\n",
        "\n",
        "plt.show()\n",
        "\n",
        "#This graph shows when all the cohorts get treated. On the Y axis it's the number of counties."
      ]
    },
    {
      "cell_type": "code",
      "execution_count": 15,
      "metadata": {
        "id": "h5nUsWxUKbUG",
        "outputId": "a9ea20d2-12e9-4ed0-d3f1-f562b9de3fef",
        "colab": {
          "base_uri": "https://localhost:8080/",
          "height": 311
        }
      },
      "outputs": [
        {
          "output_type": "display_data",
          "data": {
            "text/plain": [
              "<Figure size 600x300 with 1 Axes>"
            ],
            "image/png": "[encoded data removed]"
          },
          "metadata": {
            "image/png": {
              "width": 536,
              "height": 294
            }
          }
        }
      ],
      "source": [
        "# Visualize the trends of employment for each treatment cohort\n",
        "fig, ax = plt.subplots(figsize=(6, 3))\n",
        "\n",
        "# Calculate means and standard errors\n",
        "means = data.groupby([\"year\", \"G\"])[\"lemp\"].mean().unstack()\n",
        "std_errors = data.groupby([\"year\", \"G\"])[\"lemp\"].sem().unstack()\n",
        "\n",
        "# Plot means\n",
        "means.plot(ax=ax, color=['tab:red', 'tab:blue'])\n",
        "\n",
        "# Add legend, vertical line, labels, and show plot\n",
        "plt.legend(loc=\"upper left\")\n",
        "plt.xlabel(\"Year\")\n",
        "plt.ylabel(\"Outcome\")\n",
        "plt.show()\n",
        "\n",
        "#there are a lot of treatment cohorts and it's hard to see evident paralell trends."
      ]
    },
    {
      "cell_type": "markdown",
      "metadata": {
        "id": "_AvK6ofmKbUG"
      },
      "source": [
        "Even though we know the problems of using TWFE with staggered adoption, we will use it as a benchmark to compare with the other methods."
      ]
    },
    {
      "cell_type": "code",
      "execution_count": 20,
      "metadata": {
        "id": "-ZzKfi81KbUG",
        "outputId": "757a64fd-694c-4dab-83fe-e9ad8073be61",
        "colab": {
          "base_uri": "https://localhost:8080/"
        }
      },
      "outputs": [
        {
          "output_type": "stream",
          "name": "stdout",
          "text": [
            "###\n",
            "\n",
            "Estimation:  OLS\n",
            "Dep. var.: lemp, Fixed effects: id+year\n",
            "Inference:  CRV1\n",
            "Observations:  17549\n",
            "\n",
            "| Coefficient   |   Estimate |   Std. Error |   t value |   Pr(>|t|) |   2.5% |   97.5% |\n",
            "|:--------------|-----------:|-------------:|----------:|-----------:|-------:|--------:|\n",
            "| treated       |     -0.035 |        0.006 |    -6.189 |      0.000 | -0.046 |  -0.024 |\n",
            "---\n",
            "RMSE: 0.13 R2: 0.993 R2 Within: 0.003 \n"
          ]
        }
      ],
      "source": [
        "# TWFE no dynamics\n",
        "fit_static_twfe = pf.feols(\"lemp ~ treated | id + year\",\n",
        "                           data, vcov={\"CRV1\": \"id\"})\n",
        "fit_static_twfe.summary()\n",
        "\n",
        "#shows tht when a county is treated (has a minimum wage above federal wage), the lemp (outcome) is lower by 3 percent.\n",
        "#can make sense from a theory perspective."
      ]
    },
    {
      "cell_type": "code",
      "source": [
        "# prompt: create a relative year\n",
        "\n",
        "import numpy as np\n",
        "import pandas as pd\n",
        "import matplotlib.pyplot as plt\n",
        "import warnings\n",
        "import subprocess\n",
        "import google.colab\n",
        "import pyfixest as pf\n",
        "\n",
        "warnings.simplefilter('ignore')\n",
        "\n",
        "%config InlineBackend.figure_format = \"retina\"\n",
        "\n",
        "# Installation on Google Colab\n",
        "try:\n",
        "    subprocess.run(['python', '-m', 'pip', 'install', 'pyfixest'])\n",
        "except ImportError:\n",
        "    pass\n",
        "\n",
        "url = \"https://raw.githubusercontent.com/CausalAIBook/MetricsMLNotebooks/main/data/minwage_data.csv\"\n",
        "data = pd.read_csv(url,index_col=0)\n",
        "\n",
        "# Remove observations that are already treated in the first observed period (2001).\n",
        "data = data.loc[(data.G == 0) | (data.G > 2001)]\n",
        "\n",
        "# Drop all variables that we won't use\n",
        "data.drop(columns=[\"countyreal\", \"state_name\", \"FIPS\", \"emp0A01_BS\",\n",
        "                   \"quarter\", \"censusdiv\", \"pop\", \"annual_avg_pay\",\n",
        "                   \"state_mw\", \"fed_mw\", \"ever_treated\"], inplace=True)\n",
        "\n",
        "\n",
        "# Create relative year\n",
        "data['relative_year'] = data.groupby('id')['year'].transform(lambda x: x - x.min())\n",
        "\n",
        "data.head(10)"
      ],
      "metadata": {
        "id": "LCOgQa04q6ea"
      },
      "execution_count": null,
      "outputs": []
    },
    {
      "cell_type": "code",
      "source": [
        "# TWFE with dynamic treatment effects\n",
        "data[\"relative_year\"]= np.where(data['G']>0, data['year']-data['G'], -np.inf)\n",
        "\n",
        "fit_dynamic_twfe = pf.feols(\"lemp ~ i(relative_year, treated, ref = -1.0) | id + year\",\n",
        "                            data, vcov={\"CRV1\": \"id\"})\n",
        "\n",
        "dynamic_twfe.iplot(\n",
        "        coord_flip = False,\n",
        "        title= 'Ugly Plot',\n",
        "        figsize= [800, 300],\n",
        "        xintercept = 4.5,\n",
        "        yintercept = 5.0\n",
        "\n",
        "\n",
        "\n",
        "        )\n",
        "\n",
        "\n",
        "fit_dynamic_twfe.summary()"
      ],
      "metadata": {
        "id": "Vi1Wm6LgLEJ0",
        "outputId": "fef3a9e1-1feb-467d-b4cf-9970bc922c45",
        "colab": {
          "base_uri": "https://localhost:8080/",
          "height": 211
        }
      },
      "execution_count": 25,
      "outputs": [
        {
          "output_type": "error",
          "ename": "NameError",
          "evalue": "name 'dynamic_twfe' is not defined",
          "traceback": [
            "\u001b[0;31m---------------------------------------------------------------------------\u001b[0m",
            "\u001b[0;31mNameError\u001b[0m                                 Traceback (most recent call last)",
            "\u001b[0;32m<ipython-input-25-e731efd4bc54>\u001b[0m in \u001b[0;36m<cell line: 7>\u001b[0;34m()\u001b[0m\n\u001b[1;32m      5\u001b[0m                             data, vcov={\"CRV1\": \"id\"})\n\u001b[1;32m      6\u001b[0m \u001b[0;34m\u001b[0m\u001b[0m\n\u001b[0;32m----> 7\u001b[0;31m dynamic_twfe.iplot(\n\u001b[0m\u001b[1;32m      8\u001b[0m         \u001b[0mcoord_flip\u001b[0m \u001b[0;34m=\u001b[0m \u001b[0;32mFalse\u001b[0m\u001b[0;34m,\u001b[0m\u001b[0;34m\u001b[0m\u001b[0;34m\u001b[0m\u001b[0m\n\u001b[1;32m      9\u001b[0m         \u001b[0mtitle\u001b[0m\u001b[0;34m=\u001b[0m \u001b[0;34m'Ugly Plot'\u001b[0m\u001b[0;34m,\u001b[0m\u001b[0;34m\u001b[0m\u001b[0;34m\u001b[0m\u001b[0m\n",
            "\u001b[0;31mNameError\u001b[0m: name 'dynamic_twfe' is not defined"
          ]
        }
      ]
    },
    {
      "cell_type": "markdown",
      "metadata": {
        "id": "xxH47VlRKbUH"
      },
      "source": [
        "## Callaway and Sant'Anna (2020)\n",
        "\n",
        "CS propose two ways of dealing with the negative weights.\n",
        "\n",
        "1. Compare average outcomes in any post-adoption period $(\\bar{Y}_{t \\mid a} \\text{ for } t \\geq a)$ to average outcomes for the same group immediately prior to the adoption $(\\bar{Y}_{a-1 \\mid a})$. Then, subtract the difference in outcomes for the same two time periods for the single group that never adopts the treatment $(a=\\infty)$. Formally, for $t \\geq a$, this double difference is\n",
        "$$\n",
        "\\hat{\\tau}_{t, a-1}^{a, \\infty}=\\left(\\bar{Y}_{t \\mid a}-\\bar{Y}_{a-1 \\mid a}\\right)-\\left(\\bar{Y}_{t \\mid \\infty}-\\bar{Y}_{a-1 \\mid \\infty}\\right) .\n",
        "$$\n",
        "\n",
        "2. Same as above, but instead of using the group that never adopts the treatment as the control group, use the average of the groups that do adopt the treatment, but restrict this to those who adopt after period $t$.\n",
        "$$\n",
        "\\hat{\\tau}_{t, a-1}^{a,>t} \\equiv\\left(\\bar{Y}_{t \\mid a}-\\bar{Y}_{a-1 \\mid a}\\right)-\\frac{1}{T-t} \\sum_{a^{\\prime}=t+1}^T\\left(\\bar{Y}_{t \\mid a^{\\prime}}-\\bar{Y}_{a-1 \\mid a^{\\prime}}\\right)\n",
        "$$\n",
        "\n",
        "3. Given these two estimators, CS suggest reporting averages over periods $t$ and adoption dates $a$, using a variety of possible weight functions $\\omega(a, t)$. This leads to an average of treatment effects, over different adoption dates, at exactly $e$ periods after adoption, for their two control groups,\n",
        "$$\n",
        "\\hat{\\tau}^{\\mathrm{CS}, \\mathrm{I}}(e)=\\sum_{a=2}^{T-e} \\omega_e(a, t) \\cdot \\hat{\\tau}_{t, a-1}^{a, \\infty}, \\quad \\text { or } \\quad \\hat{\\tau}^{\\mathrm{CS}, \\mathrm{II}}(e)=\\sum_{a=2}^{T-e} \\omega_e(a, t) \\cdot \\hat{\\tau}_{t, a-1}^{a,>t} .\n",
        "$$\n",
        "\n",
        "A concern is that the control group that never adopts the treatment might be fundamentally different from the other groups and thus less suitable as a comparison for the trends in the absence of the treatment."
      ]
    },
    {
      "cell_type": "code",
      "source": [
        "!pip install csdid"
      ],
      "metadata": {
        "id": "oFx5PavmuH7D",
        "outputId": "b17a4d05-8963-48da-ed77-c02fcee368f0",
        "colab": {
          "base_uri": "https://localhost:8080/",
          "height": 1000
        }
      },
      "execution_count": 28,
      "outputs": [
        {
          "output_type": "stream",
          "name": "stdout",
          "text": [
            "Collecting csdid\n",
            "  Downloading csdid-0.2.5.tar.gz (18 kB)\n",
            "  Preparing metadata (setup.py) ... \u001b[?25l\u001b[?25hdone\n",
            "Requirement already satisfied: pandas in /usr/local/lib/python3.10/dist-packages (from csdid) (2.2.2)\n",
            "Collecting numpy<=1.24.3 (from csdid)\n",
            "  Downloading numpy-1.24.3-cp310-cp310-manylinux_2_17_x86_64.manylinux2014_x86_64.whl.metadata (5.6 kB)\n",
            "Requirement already satisfied: scipy in /usr/local/lib/python3.10/dist-packages (from csdid) (1.13.1)\n",
            "Requirement already satisfied: patsy in /usr/local/lib/python3.10/dist-packages (from csdid) (0.5.6)\n",
            "Requirement already satisfied: plotnine in /usr/local/lib/python3.10/dist-packages (from csdid) (0.14.1)\n",
            "Collecting twine (from csdid)\n",
            "  Downloading twine-5.1.1-py3-none-any.whl.metadata (3.5 kB)\n",
            "Requirement already satisfied: python-dateutil>=2.8.2 in /usr/local/lib/python3.10/dist-packages (from pandas->csdid) (2.8.2)\n",
            "Requirement already satisfied: pytz>=2020.1 in /usr/local/lib/python3.10/dist-packages (from pandas->csdid) (2024.2)\n",
            "Requirement already satisfied: tzdata>=2022.7 in /usr/local/lib/python3.10/dist-packages (from pandas->csdid) (2024.2)\n",
            "Requirement already satisfied: six in /usr/local/lib/python3.10/dist-packages (from patsy->csdid) (1.16.0)\n",
            "Requirement already satisfied: matplotlib>=3.8.0 in /usr/local/lib/python3.10/dist-packages (from plotnine->csdid) (3.8.0)\n",
            "Requirement already satisfied: mizani~=0.13.0 in /usr/local/lib/python3.10/dist-packages (from plotnine->csdid) (0.13.0)\n",
            "Requirement already satisfied: statsmodels>=0.14.0 in /usr/local/lib/python3.10/dist-packages (from plotnine->csdid) (0.14.4)\n",
            "Collecting pkginfo>=1.8.1 (from twine->csdid)\n",
            "  Downloading pkginfo-1.11.2-py3-none-any.whl.metadata (11 kB)\n",
            "Collecting readme-renderer>=35.0 (from twine->csdid)\n",
            "  Downloading readme_renderer-44.0-py3-none-any.whl.metadata (2.8 kB)\n",
            "Requirement already satisfied: requests>=2.20 in /usr/local/lib/python3.10/dist-packages (from twine->csdid) (2.32.3)\n",
            "Requirement already satisfied: requests-toolbelt!=0.9.0,>=0.8.0 in /usr/local/lib/python3.10/dist-packages (from twine->csdid) (1.0.0)\n",
            "Requirement already satisfied: urllib3>=1.26.0 in /usr/local/lib/python3.10/dist-packages (from twine->csdid) (2.2.3)\n",
            "Requirement already satisfied: importlib-metadata>=3.6 in /usr/local/lib/python3.10/dist-packages (from twine->csdid) (8.5.0)\n",
            "Requirement already satisfied: keyring>=15.1 in /usr/lib/python3/dist-packages (from twine->csdid) (23.5.0)\n",
            "Collecting rfc3986>=1.4.0 (from twine->csdid)\n",
            "  Downloading rfc3986-2.0.0-py2.py3-none-any.whl.metadata (6.6 kB)\n",
            "Requirement already satisfied: rich>=12.0.0 in /usr/local/lib/python3.10/dist-packages (from twine->csdid) (13.9.4)\n",
            "Collecting pkginfo>=1.8.1 (from twine->csdid)\n",
            "  Downloading pkginfo-1.10.0-py3-none-any.whl.metadata (11 kB)\n",
            "Requirement already satisfied: zipp>=3.20 in /usr/local/lib/python3.10/dist-packages (from importlib-metadata>=3.6->twine->csdid) (3.20.2)\n",
            "Requirement already satisfied: contourpy>=1.0.1 in /usr/local/lib/python3.10/dist-packages (from matplotlib>=3.8.0->plotnine->csdid) (1.3.0)\n",
            "Requirement already satisfied: cycler>=0.10 in /usr/local/lib/python3.10/dist-packages (from matplotlib>=3.8.0->plotnine->csdid) (0.12.1)\n",
            "Requirement already satisfied: fonttools>=4.22.0 in /usr/local/lib/python3.10/dist-packages (from matplotlib>=3.8.0->plotnine->csdid) (4.54.1)\n",
            "Requirement already satisfied: kiwisolver>=1.0.1 in /usr/local/lib/python3.10/dist-packages (from matplotlib>=3.8.0->plotnine->csdid) (1.4.7)\n",
            "Requirement already satisfied: packaging>=20.0 in /usr/local/lib/python3.10/dist-packages (from matplotlib>=3.8.0->plotnine->csdid) (24.2)\n",
            "Requirement already satisfied: pillow>=6.2.0 in /usr/local/lib/python3.10/dist-packages (from matplotlib>=3.8.0->plotnine->csdid) (11.0.0)\n",
            "Requirement already satisfied: pyparsing>=2.3.1 in /usr/local/lib/python3.10/dist-packages (from matplotlib>=3.8.0->plotnine->csdid) (3.2.0)\n",
            "Collecting nh3>=0.2.14 (from readme-renderer>=35.0->twine->csdid)\n",
            "  Downloading nh3-0.2.18-cp37-abi3-manylinux_2_17_x86_64.manylinux2014_x86_64.whl.metadata (1.7 kB)\n",
            "Requirement already satisfied: docutils>=0.21.2 in /usr/local/lib/python3.10/dist-packages (from readme-renderer>=35.0->twine->csdid) (0.21.2)\n",
            "Requirement already satisfied: Pygments>=2.5.1 in /usr/local/lib/python3.10/dist-packages (from readme-renderer>=35.0->twine->csdid) (2.18.0)\n",
            "Requirement already satisfied: charset-normalizer<4,>=2 in /usr/local/lib/python3.10/dist-packages (from requests>=2.20->twine->csdid) (3.4.0)\n",
            "Requirement already satisfied: idna<4,>=2.5 in /usr/local/lib/python3.10/dist-packages (from requests>=2.20->twine->csdid) (3.10)\n",
            "Requirement already satisfied: certifi>=2017.4.17 in /usr/local/lib/python3.10/dist-packages (from requests>=2.20->twine->csdid) (2024.8.30)\n",
            "Requirement already satisfied: markdown-it-py>=2.2.0 in /usr/local/lib/python3.10/dist-packages (from rich>=12.0.0->twine->csdid) (3.0.0)\n",
            "Requirement already satisfied: typing-extensions<5.0,>=4.0.0 in /usr/local/lib/python3.10/dist-packages (from rich>=12.0.0->twine->csdid) (4.12.2)\n",
            "Requirement already satisfied: mdurl~=0.1 in /usr/local/lib/python3.10/dist-packages (from markdown-it-py>=2.2.0->rich>=12.0.0->twine->csdid) (0.1.2)\n",
            "Downloading numpy-1.24.3-cp310-cp310-manylinux_2_17_x86_64.manylinux2014_x86_64.whl (17.3 MB)\n",
            "\u001b[2K   \u001b[90m━━━━━━━━━━━━━━━━━━━━━━━━━━━━━━━━━━━━━━━━\u001b[0m \u001b[32m17.3/17.3 MB\u001b[0m \u001b[31m52.7 MB/s\u001b[0m eta \u001b[36m0:00:00\u001b[0m\n",
            "\u001b[?25hDownloading twine-5.1.1-py3-none-any.whl (38 kB)\n",
            "Downloading pkginfo-1.10.0-py3-none-any.whl (30 kB)\n",
            "Downloading readme_renderer-44.0-py3-none-any.whl (13 kB)\n",
            "Downloading rfc3986-2.0.0-py2.py3-none-any.whl (31 kB)\n",
            "Downloading nh3-0.2.18-cp37-abi3-manylinux_2_17_x86_64.manylinux2014_x86_64.whl (769 kB)\n",
            "\u001b[2K   \u001b[90m━━━━━━━━━━━━━━━━━━━━━━━━━━━━━━━━━━━━━━━━\u001b[0m \u001b[32m769.2/769.2 kB\u001b[0m \u001b[31m35.4 MB/s\u001b[0m eta \u001b[36m0:00:00\u001b[0m\n",
            "\u001b[?25hBuilding wheels for collected packages: csdid\n",
            "  Building wheel for csdid (setup.py) ... \u001b[?25l\u001b[?25hdone\n",
            "  Created wheel for csdid: filename=csdid-0.2.5-py3-none-any.whl size=22349 sha256=e5157d8f86d64fc9b4a193d065aec7b6c159aed5112542cab740f0eb80658af1\n",
            "  Stored in directory: /root/.cache/pip/wheels/b7/ed/ce/85e1d7548d898fddfa839d8947d1be93af80b8c62d3e724da3\n",
            "Successfully built csdid\n",
            "Installing collected packages: nh3, rfc3986, readme-renderer, pkginfo, numpy, twine, csdid\n",
            "  Attempting uninstall: numpy\n",
            "    Found existing installation: numpy 1.26.4\n",
            "    Uninstalling numpy-1.26.4:\n",
            "      Successfully uninstalled numpy-1.26.4\n",
            "\u001b[31mERROR: pip's dependency resolver does not currently take into account all the packages that are installed. This behaviour is the source of the following dependency conflicts.\n",
            "albucore 0.0.19 requires numpy>=1.24.4, but you have numpy 1.24.3 which is incompatible.\n",
            "albumentations 1.4.20 requires numpy>=1.24.4, but you have numpy 1.24.3 which is incompatible.\u001b[0m\u001b[31m\n",
            "\u001b[0mSuccessfully installed csdid-0.2.5 nh3-0.2.18 numpy-1.24.3 pkginfo-1.10.0 readme-renderer-44.0 rfc3986-2.0.0 twine-5.1.1\n"
          ]
        },
        {
          "output_type": "display_data",
          "data": {
            "application/vnd.colab-display-data+json": {
              "pip_warning": {
                "packages": [
                  "numpy"
                ]
              },
              "id": "b35ab298c0f14a5296c02dd29ec23e8a"
            }
          },
          "metadata": {}
        }
      ]
    },
    {
      "cell_type": "code",
      "execution_count": 27,
      "metadata": {
        "id": "eqhKGvunKbUH",
        "outputId": "33592600-e8dc-4ea6-e9cc-fb628d2bcf2e",
        "colab": {
          "base_uri": "https://localhost:8080/",
          "height": 384
        }
      },
      "outputs": [
        {
          "output_type": "error",
          "ename": "ModuleNotFoundError",
          "evalue": "No module named 'csdid'",
          "traceback": [
            "\u001b[0;31m---------------------------------------------------------------------------\u001b[0m",
            "\u001b[0;31mModuleNotFoundError\u001b[0m                       Traceback (most recent call last)",
            "\u001b[0;32m<ipython-input-27-14fec2d21ba0>\u001b[0m in \u001b[0;36m<cell line: 1>\u001b[0;34m()\u001b[0m\n\u001b[0;32m----> 1\u001b[0;31m \u001b[0;32mfrom\u001b[0m \u001b[0mcsdid\u001b[0m\u001b[0;34m.\u001b[0m\u001b[0matt_gt\u001b[0m \u001b[0;32mimport\u001b[0m \u001b[0mATTgt\u001b[0m\u001b[0;34m\u001b[0m\u001b[0;34m\u001b[0m\u001b[0m\n\u001b[0m\u001b[1;32m      2\u001b[0m \u001b[0;34m\u001b[0m\u001b[0m\n\u001b[1;32m      3\u001b[0m \u001b[0;31m# Estimate group-time average treatment effects without covariates\u001b[0m\u001b[0;34m\u001b[0m\u001b[0;34m\u001b[0m\u001b[0m\n\u001b[1;32m      4\u001b[0m \u001b[0mattgt\u001b[0m \u001b[0;34m=\u001b[0m \u001b[0mATTgt\u001b[0m\u001b[0;34m(\u001b[0m\u001b[0myname\u001b[0m\u001b[0;34m=\u001b[0m \u001b[0;34m'lemp'\u001b[0m\u001b[0;34m,\u001b[0m \u001b[0mgname\u001b[0m\u001b[0;34m=\u001b[0m\u001b[0;34m'G'\u001b[0m\u001b[0;34m,\u001b[0m \u001b[0midname\u001b[0m\u001b[0;34m=\u001b[0m\u001b[0;34m'id'\u001b[0m\u001b[0;34m,\u001b[0m \u001b[0mtname\u001b[0m\u001b[0;34m=\u001b[0m\u001b[0;34m'year'\u001b[0m\u001b[0;34m,\u001b[0m \u001b[0mdata\u001b[0m\u001b[0;34m=\u001b[0m\u001b[0mdata\u001b[0m\u001b[0;34m)\u001b[0m\u001b[0;34m.\u001b[0m\u001b[0mfit\u001b[0m\u001b[0;34m(\u001b[0m\u001b[0;34m)\u001b[0m\u001b[0;34m\u001b[0m\u001b[0;34m\u001b[0m\u001b[0m\n\u001b[1;32m      5\u001b[0m \u001b[0mattgt\u001b[0m\u001b[0;34m.\u001b[0m\u001b[0msumm_attgt\u001b[0m\u001b[0;34m(\u001b[0m\u001b[0;34m)\u001b[0m\u001b[0;34m.\u001b[0m\u001b[0msummary\u001b[0m\u001b[0;34m(\u001b[0m\u001b[0;34m)\u001b[0m\u001b[0;34m\u001b[0m\u001b[0;34m\u001b[0m\u001b[0m\n",
            "\u001b[0;31mModuleNotFoundError\u001b[0m: No module named 'csdid'",
            "",
            "\u001b[0;31m---------------------------------------------------------------------------\u001b[0;32m\nNOTE: If your import is failing due to a missing package, you can\nmanually install dependencies using either !pip or !apt.\n\nTo view examples of installing some common dependencies, click the\n\"Open Examples\" button below.\n\u001b[0;31m---------------------------------------------------------------------------\u001b[0m\n"
          ],
          "errorDetails": {
            "actions": [
              {
                "action": "open_url",
                "actionText": "Open Examples",
                "url": "/notebooks/snippets/importing_libraries.ipynb"
              }
            ]
          }
        }
      ],
      "source": [
        "from csdid.att_gt import ATTgt\n",
        "\n",
        "# Estimate group-time average treatment effects without covariates\n",
        "attgt = ATTgt(yname= 'lemp', gname='G', idname='id', tname='year', data=data).fit()\n",
        "attgt.summ_attgt().summary()"
      ]
    },
    {
      "cell_type": "code",
      "execution_count": null,
      "metadata": {
        "id": "z4u3OCCAKbUH"
      },
      "outputs": [],
      "source": [
        "# Plot the treatment effects by group\n",
        "\n"
      ]
    },
    {
      "cell_type": "code",
      "execution_count": null,
      "metadata": {
        "id": "_bYbGPzIKbUH"
      },
      "outputs": [],
      "source": [
        "# Agreggated treatment effect\n",
        "\n"
      ]
    },
    {
      "cell_type": "code",
      "execution_count": null,
      "metadata": {
        "id": "saDtcS6KKbUH"
      },
      "outputs": [],
      "source": [
        "# Agreggated by group\n",
        "\n"
      ]
    },
    {
      "cell_type": "code",
      "execution_count": null,
      "metadata": {
        "id": "yBha3p20KbUI"
      },
      "outputs": [],
      "source": [
        "# Agreggated by time\n",
        "\n"
      ]
    },
    {
      "cell_type": "markdown",
      "metadata": {
        "id": "rF4RDCb6KbUI"
      },
      "source": [
        "What happen if we introduce covariates? And what if we use the not-yet-adopted group as control group?"
      ]
    },
    {
      "cell_type": "code",
      "execution_count": null,
      "metadata": {
        "id": "1PycifMXKbUI"
      },
      "outputs": [],
      "source": []
    }
  ],
  "metadata": {
    "kernelspec": {
      "display_name": "causalML",
      "language": "python",
      "name": "python3"
    },
    "language_info": {
      "codemirror_mode": {
        "name": "ipython",
        "version": 3
      },
      "file_extension": ".py",
      "mimetype": "text/x-python",
      "name": "python",
      "nbconvert_exporter": "python",
      "pygments_lexer": "ipython3",
      "version": "3.9.18"
    },
    "colab": {
      "provenance": [],
      "include_colab_link": true
    }
  },
  "nbformat": 4,
  "nbformat_minor": 0
}