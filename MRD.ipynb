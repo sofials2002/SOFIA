{
  "cells": [
    {
      "cell_type": "markdown",
      "metadata": {
        "id": "view-in-github",
        "colab_type": "text"
      },
      "source": [
        "<a href=\"https://colab.research.google.com/github/sofials2002/SOFIA/blob/master/MRD.ipynb\" target=\"_parent\"><img src=\"https://colab.research.google.com/assets/colab-badge.svg\" alt=\"Open In Colab\"/></a>"
      ]
    },
    {
      "cell_type": "markdown",
      "metadata": {
        "id": "z8nNvxCm481D"
      },
      "source": [
        "# Multiple Randomization Design\n",
        "\n",
        "### Double-sided Marketplace\n",
        "\n",
        "[Bajari et al. (2023)](https://www.amazon.science/publications/experimental-design-in-marketplaces) discuss a business scenario involving a video streaming service where viewers watch content provided by various content creators. The company is interested in understanding the impact of increasing the number of advertisements shown before the content begins (referred to as Pre-Roll Ads or PRAs) on the time viewers spend watching the content.\n",
        "\n",
        "The specific business problem is to assess the effect of doubling the number of PRAs (from one to two) on the engagement of viewers with content creators. The company needs to determine whether increasing the number of PRAs will reduce viewer engagement and how content creators might react to this change, particularly in terms of adjusting the number of ads shown during the content (Mid-Roll Ads or MRAs). You can refer to the paper for more details on MRAs and PRAs.\n",
        "\n",
        "### Experimental Setup\n",
        "\n",
        "The viewer-creator pair $(i, j)$ is the unit of observation in this experiment. The outcome of interest $Y_{ij}$ is the time spent by viewer $i$ watching content from creator $j$. We are interested in the effect of doubling the number of PRAs to all viewers. This is represented by\n",
        "$$\n",
        "\\tau=\\frac{1}{I J} \\sum_{i=1}^I \\sum_{j=1}^J\\left(Y_{ij}(\\mathbf{T}) - Y_{ij}(\\mathbf{C})\\right) ,\n",
        "$$\n",
        "where $Y_{ij}(\\mathbf{T})$ is the potential time spent when every viewer-created pair is exposed to two PRAs, $Y_{ij}(\\mathbf{C})$ is the potential time spent when every viewer-created pair is exposed to one PRA, and $I$ and $J$ are the number of viewers and content creators, respectively.\n",
        "\n",
        "$$\n",
        "\\mathbf{Y} =\n",
        "\\begin{pmatrix}\n",
        "Y_{1,1} & Y_{1,2} & Y_{1,3} & Y_{1,4} & Y_{1,5} & Y_{1,6} \\\\\n",
        "Y_{2,1} & Y_{2,2} & Y_{2,3} & Y_{2,4} & Y_{2,5} & Y_{2,6} \\\\\n",
        "Y_{3,1} & Y_{3,2} & Y_{3,3} & Y_{3,4} & Y_{3,5} & Y_{3,6} \\\\\n",
        "Y_{4,1} & Y_{4,2} & Y_{4,3} & Y_{4,4} & Y_{4,5} & Y_{4,6} \\\\\n",
        "Y_{5,1} & Y_{5,2} & Y_{5,3} & Y_{5,4} & Y_{5,5} & Y_{5,6} \\\\\n",
        "Y_{6,1} & Y_{6,2} & Y_{6,3} & Y_{6,4} & Y_{6,5} & Y_{6,6} \\\\\n",
        "Y_{7,1} & Y_{7,2} & Y_{7,3} & Y_{7,4} & Y_{7,5} & Y_{7,6} \\\\\n",
        "Y_{8,1} & Y_{8,2} & Y_{8,3} & Y_{8,4} & Y_{8,5} & Y_{8,6} \\\\\n",
        "Y_{9,1} & Y_{9,2} & Y_{9,3} & Y_{9,4} & Y_{9,5} & Y_{9,6} \\\\\n",
        "Y_{10,1} & Y_{10,2} & Y_{10,3} & Y_{10,4} & Y_{10,5} & Y_{10,6} \\\\\n",
        "\\end{pmatrix}\n",
        "$$\n",
        "\n",
        "\n",
        "- *Direct Effects:* changes in outcome for a viewer-creator pair $(i, j)$ caused directly by a change in exposure for that pair, $W_{i j}$.\n",
        "- *Spillover Effects:* changes in outcome for viewer-creator pair $(i, j)$ caused indirectly by the change in exposure for another pair $(i', j') \\neq(i, j)$.\n",
        "\n",
        "When full exposure $\\mathbf{T}$ is implemented, meaning the new policy of showing two PRAs is applied to all viewer-creator pairs, both direct and spillover effects occur. With the direct effect, the viewers' experience is impacted by the additional PRAs, which is expected to lead to fewer streams being watched overall. This effect is captured by a \"dispersion\" parameter, $\\delta > 0$. This triggers an indirect response from content creators: as a result of the viewers' dispersion, some content creators may choose to reduce their MRAs to lessen the impact of the increased PRAs. This response is captured by a \"premium\" parameter, $\\alpha > 0$."
      ]
    },
    {
      "cell_type": "code",
      "execution_count": null,
      "metadata": {
        "id": "pI77cQMt481F"
      },
      "outputs": [],
      "source": [
        "import numpy as np\n",
        "\n",
        "rng = np.random.default_rng(42)\n",
        "\n",
        "# Define the number of buyers (I) and sellers (J)\n",
        "I = 4000  # Number of buyers\n",
        "J = 100   # Number of sellers"
      ]
    },
    {
      "cell_type": "code",
      "execution_count": null,
      "metadata": {
        "id": "u4CQVIXF481H"
      },
      "outputs": [],
      "source": [
        "# Generate the potential outcomes with one PRA Y_ij(C)\n",
        "\n",
        "# Probability that the outcome is zero\n",
        "pi = 0.1\n",
        "B_0 = rng.binomial(1, pi, (I, J))\n",
        "\n",
        "# Mean 300 minutes/month per active content\n",
        "mean0, sd0 = (300, 50)\n",
        "F_0 = rng.gamma(mean0**2/sd0**2, sd0**2/mean0, (I, J))\n",
        "\n",
        "# Potential outcomes when nobody is treated\n",
        "Y_C = B_0 * F_0\n",
        "\n",
        "Y_C[:10, :10].round(0).astype(int)"
      ]
    },
    {
      "cell_type": "code",
      "execution_count": null,
      "metadata": {
        "id": "9ne4CVU9481H"
      },
      "outputs": [],
      "source": [
        "# Generate the potential outcomes with double PRA Y_ij(T)\n",
        "\n",
        "# Dispersion: decrease in time viewers spend watching a stream when PRAs are increased\n",
        "muD, sdD = (0.05, 0.1)\n",
        "alphaD = ((1-muD)/sdD**2 - 1/muD) * muD**2\n",
        "betaD = alphaD * (1/muD - 1)\n",
        "Dispersion = rng.beta(alphaD, betaD, size=(I, J))  # Direct effect\n",
        "\n",
        "# Premium: extra time viewers spend watching a stream when MRAs are reduced\n",
        "muA, sdA = (0.02, 0.1)\n",
        "alphaA = ((1-muA)/sdA**2 - 1/muA) * muA**2\n",
        "betaA = alphaA * (1/muA - 1)\n",
        "Premium = rng.beta(alphaA, betaA, size=(I, J))\n",
        "\n",
        "# Potential outcomes when everyone is treated\n",
        "Y_T = Y_C * (1 + Premium - Dispersion)\n",
        "\n",
        "Y_T[:10, :10].round(0).astype(int)"
      ]
    },
    {
      "cell_type": "code",
      "execution_count": null,
      "metadata": {
        "id": "5WN2UUj9481I"
      },
      "outputs": [],
      "source": [
        "# Average treatment effect\n",
        "ATE = (Y_T - Y_C).mean()\n",
        "print(f\"ATE: {ATE:.4f}\")"
      ]
    },
    {
      "cell_type": "markdown",
      "metadata": {
        "id": "3NPCGTNj481J"
      },
      "source": [
        "## Viewer-Randomized Experiment\n",
        "\n",
        "Randomize viewers into treatment and control groups regardless of the content they are watching:\n",
        "\n",
        "$$\n",
        "\\mathbf{W} =\n",
        "\\begin{pmatrix}\n",
        "\\textcolor{blue}{C} & \\textcolor{blue}{C} & \\textcolor{blue}{C} & \\textcolor{blue}{C} & \\textcolor{blue}{C} & \\textcolor{blue}{C} \\\\\n",
        "\\textcolor{blue}{C} & \\textcolor{blue}{C} & \\textcolor{blue}{C} & \\textcolor{blue}{C} & \\textcolor{blue}{C} & \\textcolor{blue}{C} \\\\\n",
        "\\textcolor{red}{T} & \\textcolor{red}{T} & \\textcolor{red}{T} & \\textcolor{red}{T} & \\textcolor{red}{T} & \\textcolor{red}{T} \\\\\n",
        "\\textcolor{red}{T} & \\textcolor{red}{T} & \\textcolor{red}{T} & \\textcolor{red}{T} & \\textcolor{red}{T} & \\textcolor{red}{T} \\\\\n",
        "\\textcolor{blue}{C} & \\textcolor{blue}{C} & \\textcolor{blue}{C} & \\textcolor{blue}{C} & \\textcolor{blue}{C} & \\textcolor{blue}{C} \\\\\n",
        "\\textcolor{red}{T} & \\textcolor{red}{T} & \\textcolor{red}{T} & \\textcolor{red}{T} & \\textcolor{red}{T} & \\textcolor{red}{T} \\\\\n",
        "\\textcolor{blue}{C} & \\textcolor{blue}{C} & \\textcolor{blue}{C} & \\textcolor{blue}{C} & \\textcolor{blue}{C} & \\textcolor{blue}{C} \\\\\n",
        "\\textcolor{red}{T} & \\textcolor{red}{T} & \\textcolor{red}{T} & \\textcolor{red}{T} & \\textcolor{red}{T} & \\textcolor{red}{T} \\\\\n",
        "\\textcolor{red}{T} & \\textcolor{red}{T} & \\textcolor{red}{T} & \\textcolor{red}{T} & \\textcolor{red}{T} & \\textcolor{red}{T} \\\\\n",
        "\\textcolor{blue}{C} & \\textcolor{blue}{C} & \\textcolor{blue}{C} & \\textcolor{blue}{C} & \\textcolor{blue}{C} & \\textcolor{blue}{C} \\\\\n",
        "\\end{pmatrix}\n",
        "$$\n",
        "\n",
        "- *Direct Effect:* viewers in the treatment group that are exposed to two PRAs will spend less time watching any content\n",
        "- *Indirect Effect:* some content creators might strategically reduce MRAs because of the risk of losing viewers with two PRAs (negative externality), but viewers in the control group might engage more with these content creators that are reducing MRAs (positive externality)\n",
        "\n"
      ]
    },
    {
      "cell_type": "code",
      "execution_count": null,
      "metadata": {
        "id": "dZkyAk8n481J"
      },
      "outputs": [],
      "source": [
        "# Randomize viewer treatment assignment\n",
        "pv = 0.5\n",
        "Dv = rng.binomial(1, pv, size=I)\n",
        "\n",
        "# Control group gets the premium\n",
        "Yvr_C = Y_C[Dv==0] * (1 + Premium[Dv==0])\n",
        "\n",
        "# Treatment group gets the premium and the dispersion\n",
        "Yvr_T = Y_C[Dv==1] * (1 + Premium[Dv==1] - Dispersion[Dv==1])\n",
        "\n",
        "# Average treatment effect\n",
        "ATE_vr = Yvr_T.mean() - Yvr_C.mean()\n",
        "print(f\"ATE: {ATE_vr:.4f}\")"
      ]
    },
    {
      "cell_type": "markdown",
      "metadata": {
        "id": "A5bmO5zm481K"
      },
      "source": [
        "The comparison between the treated and control viewers is overestimating (in absolute value) the effect of the treatment."
      ]
    }
  ],
  "metadata": {
    "kernelspec": {
      "display_name": "base",
      "language": "python",
      "name": "python3"
    },
    "language_info": {
      "codemirror_mode": {
        "name": "ipython",
        "version": 3
      },
      "file_extension": ".py",
      "mimetype": "text/x-python",
      "name": "python",
      "nbconvert_exporter": "python",
      "pygments_lexer": "ipython3",
      "version": "3.9.12"
    },
    "colab": {
      "provenance": [],
      "include_colab_link": true
    }
  },
  "nbformat": 4,
  "nbformat_minor": 0
}