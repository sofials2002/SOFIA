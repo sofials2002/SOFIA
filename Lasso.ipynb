{
  "cells": [
    {
      "cell_type": "markdown",
      "metadata": {
        "id": "view-in-github",
        "colab_type": "text"
      },
      "source": [
        "<a href=\"https://colab.research.google.com/github/sofials2002/SOFIA/blob/master/Lasso.ipynb\" target=\"_parent\"><img src=\"https://colab.research.google.com/assets/colab-badge.svg\" alt=\"Open In Colab\"/></a>"
      ]
    },
    {
      "cell_type": "markdown",
      "metadata": {
        "id": "pvKWP97u6jYY"
      },
      "source": [
        "# Wage Prediction using Lasso\n",
        "\n",
        "In this notebook we will answer what determines the wage of workers from a predictive perspective.\n",
        "\n",
        "This example focuses on a sample of Registered Nurses in the US collected during 2017. The hourly wage of a nurse is denoted by $Y$ and $X$ is a vector of nurses' characteristics, e.g., human capital, demographics, job-relevant characteristics. The question that we want to answer is:\n",
        "\n",
        "- How to use nurses' characteristics, such as education and experience, to best predict wages?\n"
      ]
    },
    {
      "cell_type": "code",
      "execution_count": 1,
      "metadata": {
        "id": "qb_bGht76jYb"
      },
      "outputs": [],
      "source": [
        "import numpy as np\n",
        "import pandas as pd\n",
        "import statsmodels.api as sm\n",
        "import statsmodels.formula.api as smf\n",
        "from sklearn.model_selection import train_test_split\n",
        "from sklearn.preprocessing import StandardScaler\n",
        "from sklearn.linear_model import LassoCV\n",
        "from sklearn.pipeline import Pipeline\n",
        "\n",
        "import warnings\n",
        "warnings.simplefilter('ignore')"
      ]
    },
    {
      "cell_type": "markdown",
      "metadata": {
        "id": "20qWNJ6I6jYb"
      },
      "source": [
        "## Data"
      ]
    },
    {
      "cell_type": "code",
      "execution_count": 2,
      "metadata": {
        "id": "4F3VA0NNkN_0",
        "outputId": "bf43cdba-1992-4873-bbbf-b2de101fe915",
        "colab": {
          "base_uri": "https://localhost:8080/",
          "height": 226
        }
      },
      "outputs": [
        {
          "output_type": "execute_result",
          "data": {
            "text/plain": [
              "         lwage  female  age   race  children               marital education  \\\n",
              "5617  3.496087       1   72  white         0  widowed_divorced_sep  ed_assoc   \n",
              "5618  3.678408       1   50  white         0         never_married    ed_msn   \n",
              "5619  3.952845       0   36  white         0     currently_married    ed_bsn   \n",
              "5620  3.957960       1   61  white         0     currently_married    ed_bsn   \n",
              "5621  3.100270       1   38  white         0     currently_married  ed_assoc   \n",
              "\n",
              "      RN_experience left_nursing  country_ed_US  english_only  \\\n",
              "5617             51       left_0              1             1   \n",
              "5618             14       left_0              1             1   \n",
              "5619              4       left_0              1             1   \n",
              "5620             40       left_0              1             1   \n",
              "5621              3       left_0              1             1   \n",
              "\n",
              "              military  certificates  labor_union             work_setting  \\\n",
              "5617  never_served_mil             0            0  SET_long_term_inpatient   \n",
              "5618  never_served_mil             0            0             SET_hospital   \n",
              "5619  never_served_mil             2            1             SET_hospital   \n",
              "5620  never_served_mil             0            0             SET_hospital   \n",
              "5621  never_served_mil             2            0             SET_hospital   \n",
              "\n",
              "           work_situation       level_care       care_specialty      state  \n",
              "5617    SIT_self_employed  LC_nursing_home   CC_no_patient_care  state_n13  \n",
              "5618  SIT_agency_facility     LC_education    CC_emergency_care  state_n24  \n",
              "5619  SIT_agency_facility     LC_inpatient          CC_oncology  state_n32  \n",
              "5620  SIT_agency_facility     LC_inpatient   CC_no_patient_care  state_n37  \n",
              "5621  SIT_agency_facility        LC_others  CC_medical_surgical  state_n29  "
            ],
            "text/html": [
              "\n",
              "  <div id=\"df-09ab4f3f-0e94-466d-a161-8f32b7e14550\" class=\"colab-df-container\">\n",
              "    <div>\n",
              "<style scoped>\n",
              "    .dataframe tbody tr th:only-of-type {\n",
              "        vertical-align: middle;\n",
              "    }\n",
              "\n",
              "    .dataframe tbody tr th {\n",
              "        vertical-align: top;\n",
              "    }\n",
              "\n",
              "    .dataframe thead th {\n",
              "        text-align: right;\n",
              "    }\n",
              "</style>\n",
              "<table border=\"1\" class=\"dataframe\">\n",
              "  <thead>\n",
              "    <tr style=\"text-align: right;\">\n",
              "      <th></th>\n",
              "      <th>lwage</th>\n",
              "      <th>female</th>\n",
              "      <th>age</th>\n",
              "      <th>race</th>\n",
              "      <th>children</th>\n",
              "      <th>marital</th>\n",
              "      <th>education</th>\n",
              "      <th>RN_experience</th>\n",
              "      <th>left_nursing</th>\n",
              "      <th>country_ed_US</th>\n",
              "      <th>english_only</th>\n",
              "      <th>military</th>\n",
              "      <th>certificates</th>\n",
              "      <th>labor_union</th>\n",
              "      <th>work_setting</th>\n",
              "      <th>work_situation</th>\n",
              "      <th>level_care</th>\n",
              "      <th>care_specialty</th>\n",
              "      <th>state</th>\n",
              "    </tr>\n",
              "  </thead>\n",
              "  <tbody>\n",
              "    <tr>\n",
              "      <th>5617</th>\n",
              "      <td>3.496087</td>\n",
              "      <td>1</td>\n",
              "      <td>72</td>\n",
              "      <td>white</td>\n",
              "      <td>0</td>\n",
              "      <td>widowed_divorced_sep</td>\n",
              "      <td>ed_assoc</td>\n",
              "      <td>51</td>\n",
              "      <td>left_0</td>\n",
              "      <td>1</td>\n",
              "      <td>1</td>\n",
              "      <td>never_served_mil</td>\n",
              "      <td>0</td>\n",
              "      <td>0</td>\n",
              "      <td>SET_long_term_inpatient</td>\n",
              "      <td>SIT_self_employed</td>\n",
              "      <td>LC_nursing_home</td>\n",
              "      <td>CC_no_patient_care</td>\n",
              "      <td>state_n13</td>\n",
              "    </tr>\n",
              "    <tr>\n",
              "      <th>5618</th>\n",
              "      <td>3.678408</td>\n",
              "      <td>1</td>\n",
              "      <td>50</td>\n",
              "      <td>white</td>\n",
              "      <td>0</td>\n",
              "      <td>never_married</td>\n",
              "      <td>ed_msn</td>\n",
              "      <td>14</td>\n",
              "      <td>left_0</td>\n",
              "      <td>1</td>\n",
              "      <td>1</td>\n",
              "      <td>never_served_mil</td>\n",
              "      <td>0</td>\n",
              "      <td>0</td>\n",
              "      <td>SET_hospital</td>\n",
              "      <td>SIT_agency_facility</td>\n",
              "      <td>LC_education</td>\n",
              "      <td>CC_emergency_care</td>\n",
              "      <td>state_n24</td>\n",
              "    </tr>\n",
              "    <tr>\n",
              "      <th>5619</th>\n",
              "      <td>3.952845</td>\n",
              "      <td>0</td>\n",
              "      <td>36</td>\n",
              "      <td>white</td>\n",
              "      <td>0</td>\n",
              "      <td>currently_married</td>\n",
              "      <td>ed_bsn</td>\n",
              "      <td>4</td>\n",
              "      <td>left_0</td>\n",
              "      <td>1</td>\n",
              "      <td>1</td>\n",
              "      <td>never_served_mil</td>\n",
              "      <td>2</td>\n",
              "      <td>1</td>\n",
              "      <td>SET_hospital</td>\n",
              "      <td>SIT_agency_facility</td>\n",
              "      <td>LC_inpatient</td>\n",
              "      <td>CC_oncology</td>\n",
              "      <td>state_n32</td>\n",
              "    </tr>\n",
              "    <tr>\n",
              "      <th>5620</th>\n",
              "      <td>3.957960</td>\n",
              "      <td>1</td>\n",
              "      <td>61</td>\n",
              "      <td>white</td>\n",
              "      <td>0</td>\n",
              "      <td>currently_married</td>\n",
              "      <td>ed_bsn</td>\n",
              "      <td>40</td>\n",
              "      <td>left_0</td>\n",
              "      <td>1</td>\n",
              "      <td>1</td>\n",
              "      <td>never_served_mil</td>\n",
              "      <td>0</td>\n",
              "      <td>0</td>\n",
              "      <td>SET_hospital</td>\n",
              "      <td>SIT_agency_facility</td>\n",
              "      <td>LC_inpatient</td>\n",
              "      <td>CC_no_patient_care</td>\n",
              "      <td>state_n37</td>\n",
              "    </tr>\n",
              "    <tr>\n",
              "      <th>5621</th>\n",
              "      <td>3.100270</td>\n",
              "      <td>1</td>\n",
              "      <td>38</td>\n",
              "      <td>white</td>\n",
              "      <td>0</td>\n",
              "      <td>currently_married</td>\n",
              "      <td>ed_assoc</td>\n",
              "      <td>3</td>\n",
              "      <td>left_0</td>\n",
              "      <td>1</td>\n",
              "      <td>1</td>\n",
              "      <td>never_served_mil</td>\n",
              "      <td>2</td>\n",
              "      <td>0</td>\n",
              "      <td>SET_hospital</td>\n",
              "      <td>SIT_agency_facility</td>\n",
              "      <td>LC_others</td>\n",
              "      <td>CC_medical_surgical</td>\n",
              "      <td>state_n29</td>\n",
              "    </tr>\n",
              "  </tbody>\n",
              "</table>\n",
              "</div>\n",
              "    <div class=\"colab-df-buttons\">\n",
              "\n",
              "  <div class=\"colab-df-container\">\n",
              "    <button class=\"colab-df-convert\" onclick=\"convertToInteractive('df-09ab4f3f-0e94-466d-a161-8f32b7e14550')\"\n",
              "            title=\"Convert this dataframe to an interactive table.\"\n",
              "            style=\"display:none;\">\n",
              "\n",
              "  <svg xmlns=\"http://www.w3.org/2000/svg\" height=\"24px\" viewBox=\"0 -960 960 960\">\n",
              "    <path d=\"M120-120v-720h720v720H120Zm60-500h600v-160H180v160Zm220 220h160v-160H400v160Zm0 220h160v-160H400v160ZM180-400h160v-160H180v160Zm440 0h160v-160H620v160ZM180-180h160v-160H180v160Zm440 0h160v-160H620v160Z\"/>\n",
              "  </svg>\n",
              "    </button>\n",
              "\n",
              "  <style>\n",
              "    .colab-df-container {\n",
              "      display:flex;\n",
              "      gap: 12px;\n",
              "    }\n",
              "\n",
              "    .colab-df-convert {\n",
              "      background-color: #E8F0FE;\n",
              "      border: none;\n",
              "      border-radius: 50%;\n",
              "      cursor: pointer;\n",
              "      display: none;\n",
              "      fill: #1967D2;\n",
              "      height: 32px;\n",
              "      padding: 0 0 0 0;\n",
              "      width: 32px;\n",
              "    }\n",
              "\n",
              "    .colab-df-convert:hover {\n",
              "      background-color: #E2EBFA;\n",
              "      box-shadow: 0px 1px 2px rgba(60, 64, 67, 0.3), 0px 1px 3px 1px rgba(60, 64, 67, 0.15);\n",
              "      fill: #174EA6;\n",
              "    }\n",
              "\n",
              "    .colab-df-buttons div {\n",
              "      margin-bottom: 4px;\n",
              "    }\n",
              "\n",
              "    [theme=dark] .colab-df-convert {\n",
              "      background-color: #3B4455;\n",
              "      fill: #D2E3FC;\n",
              "    }\n",
              "\n",
              "    [theme=dark] .colab-df-convert:hover {\n",
              "      background-color: #434B5C;\n",
              "      box-shadow: 0px 1px 3px 1px rgba(0, 0, 0, 0.15);\n",
              "      filter: drop-shadow(0px 1px 2px rgba(0, 0, 0, 0.3));\n",
              "      fill: #FFFFFF;\n",
              "    }\n",
              "  </style>\n",
              "\n",
              "    <script>\n",
              "      const buttonEl =\n",
              "        document.querySelector('#df-09ab4f3f-0e94-466d-a161-8f32b7e14550 button.colab-df-convert');\n",
              "      buttonEl.style.display =\n",
              "        google.colab.kernel.accessAllowed ? 'block' : 'none';\n",
              "\n",
              "      async function convertToInteractive(key) {\n",
              "        const element = document.querySelector('#df-09ab4f3f-0e94-466d-a161-8f32b7e14550');\n",
              "        const dataTable =\n",
              "          await google.colab.kernel.invokeFunction('convertToInteractive',\n",
              "                                                    [key], {});\n",
              "        if (!dataTable) return;\n",
              "\n",
              "        const docLinkHtml = 'Like what you see? Visit the ' +\n",
              "          '<a target=\"_blank\" href=https://colab.research.google.com/notebooks/data_table.ipynb>data table notebook</a>'\n",
              "          + ' to learn more about interactive tables.';\n",
              "        element.innerHTML = '';\n",
              "        dataTable['output_type'] = 'display_data';\n",
              "        await google.colab.output.renderOutput(dataTable, element);\n",
              "        const docLink = document.createElement('div');\n",
              "        docLink.innerHTML = docLinkHtml;\n",
              "        element.appendChild(docLink);\n",
              "      }\n",
              "    </script>\n",
              "  </div>\n",
              "\n",
              "\n",
              "<div id=\"df-8f7975d6-587e-490a-a332-d15fc7f07d8e\">\n",
              "  <button class=\"colab-df-quickchart\" onclick=\"quickchart('df-8f7975d6-587e-490a-a332-d15fc7f07d8e')\"\n",
              "            title=\"Suggest charts\"\n",
              "            style=\"display:none;\">\n",
              "\n",
              "<svg xmlns=\"http://www.w3.org/2000/svg\" height=\"24px\"viewBox=\"0 0 24 24\"\n",
              "     width=\"24px\">\n",
              "    <g>\n",
              "        <path d=\"M19 3H5c-1.1 0-2 .9-2 2v14c0 1.1.9 2 2 2h14c1.1 0 2-.9 2-2V5c0-1.1-.9-2-2-2zM9 17H7v-7h2v7zm4 0h-2V7h2v10zm4 0h-2v-4h2v4z\"/>\n",
              "    </g>\n",
              "</svg>\n",
              "  </button>\n",
              "\n",
              "<style>\n",
              "  .colab-df-quickchart {\n",
              "      --bg-color: #E8F0FE;\n",
              "      --fill-color: #1967D2;\n",
              "      --hover-bg-color: #E2EBFA;\n",
              "      --hover-fill-color: #174EA6;\n",
              "      --disabled-fill-color: #AAA;\n",
              "      --disabled-bg-color: #DDD;\n",
              "  }\n",
              "\n",
              "  [theme=dark] .colab-df-quickchart {\n",
              "      --bg-color: #3B4455;\n",
              "      --fill-color: #D2E3FC;\n",
              "      --hover-bg-color: #434B5C;\n",
              "      --hover-fill-color: #FFFFFF;\n",
              "      --disabled-bg-color: #3B4455;\n",
              "      --disabled-fill-color: #666;\n",
              "  }\n",
              "\n",
              "  .colab-df-quickchart {\n",
              "    background-color: var(--bg-color);\n",
              "    border: none;\n",
              "    border-radius: 50%;\n",
              "    cursor: pointer;\n",
              "    display: none;\n",
              "    fill: var(--fill-color);\n",
              "    height: 32px;\n",
              "    padding: 0;\n",
              "    width: 32px;\n",
              "  }\n",
              "\n",
              "  .colab-df-quickchart:hover {\n",
              "    background-color: var(--hover-bg-color);\n",
              "    box-shadow: 0 1px 2px rgba(60, 64, 67, 0.3), 0 1px 3px 1px rgba(60, 64, 67, 0.15);\n",
              "    fill: var(--button-hover-fill-color);\n",
              "  }\n",
              "\n",
              "  .colab-df-quickchart-complete:disabled,\n",
              "  .colab-df-quickchart-complete:disabled:hover {\n",
              "    background-color: var(--disabled-bg-color);\n",
              "    fill: var(--disabled-fill-color);\n",
              "    box-shadow: none;\n",
              "  }\n",
              "\n",
              "  .colab-df-spinner {\n",
              "    border: 2px solid var(--fill-color);\n",
              "    border-color: transparent;\n",
              "    border-bottom-color: var(--fill-color);\n",
              "    animation:\n",
              "      spin 1s steps(1) infinite;\n",
              "  }\n",
              "\n",
              "  @keyframes spin {\n",
              "    0% {\n",
              "      border-color: transparent;\n",
              "      border-bottom-color: var(--fill-color);\n",
              "      border-left-color: var(--fill-color);\n",
              "    }\n",
              "    20% {\n",
              "      border-color: transparent;\n",
              "      border-left-color: var(--fill-color);\n",
              "      border-top-color: var(--fill-color);\n",
              "    }\n",
              "    30% {\n",
              "      border-color: transparent;\n",
              "      border-left-color: var(--fill-color);\n",
              "      border-top-color: var(--fill-color);\n",
              "      border-right-color: var(--fill-color);\n",
              "    }\n",
              "    40% {\n",
              "      border-color: transparent;\n",
              "      border-right-color: var(--fill-color);\n",
              "      border-top-color: var(--fill-color);\n",
              "    }\n",
              "    60% {\n",
              "      border-color: transparent;\n",
              "      border-right-color: var(--fill-color);\n",
              "    }\n",
              "    80% {\n",
              "      border-color: transparent;\n",
              "      border-right-color: var(--fill-color);\n",
              "      border-bottom-color: var(--fill-color);\n",
              "    }\n",
              "    90% {\n",
              "      border-color: transparent;\n",
              "      border-bottom-color: var(--fill-color);\n",
              "    }\n",
              "  }\n",
              "</style>\n",
              "\n",
              "  <script>\n",
              "    async function quickchart(key) {\n",
              "      const quickchartButtonEl =\n",
              "        document.querySelector('#' + key + ' button');\n",
              "      quickchartButtonEl.disabled = true;  // To prevent multiple clicks.\n",
              "      quickchartButtonEl.classList.add('colab-df-spinner');\n",
              "      try {\n",
              "        const charts = await google.colab.kernel.invokeFunction(\n",
              "            'suggestCharts', [key], {});\n",
              "      } catch (error) {\n",
              "        console.error('Error during call to suggestCharts:', error);\n",
              "      }\n",
              "      quickchartButtonEl.classList.remove('colab-df-spinner');\n",
              "      quickchartButtonEl.classList.add('colab-df-quickchart-complete');\n",
              "    }\n",
              "    (() => {\n",
              "      let quickchartButtonEl =\n",
              "        document.querySelector('#df-8f7975d6-587e-490a-a332-d15fc7f07d8e button');\n",
              "      quickchartButtonEl.style.display =\n",
              "        google.colab.kernel.accessAllowed ? 'block' : 'none';\n",
              "    })();\n",
              "  </script>\n",
              "</div>\n",
              "\n",
              "    </div>\n",
              "  </div>\n"
            ],
            "application/vnd.google.colaboratory.intrinsic+json": {
              "type": "dataframe",
              "summary": "{\n  \"name\": \"df\",\n  \"rows\": 5,\n  \"fields\": [\n    {\n      \"column\": \"lwage\",\n      \"properties\": {\n        \"dtype\": \"number\",\n        \"std\": 0.35791885661472633,\n        \"min\": 3.10027,\n        \"max\": 3.9579601,\n        \"num_unique_values\": 5,\n        \"samples\": [\n          3.6784081,\n          3.10027,\n          3.9528449\n        ],\n        \"semantic_type\": \"\",\n        \"description\": \"\"\n      }\n    },\n    {\n      \"column\": \"female\",\n      \"properties\": {\n        \"dtype\": \"number\",\n        \"std\": 0,\n        \"min\": 0,\n        \"max\": 1,\n        \"num_unique_values\": 2,\n        \"samples\": [\n          0,\n          1\n        ],\n        \"semantic_type\": \"\",\n        \"description\": \"\"\n      }\n    },\n    {\n      \"column\": \"age\",\n      \"properties\": {\n        \"dtype\": \"number\",\n        \"std\": 15,\n        \"min\": 36,\n        \"max\": 72,\n        \"num_unique_values\": 5,\n        \"samples\": [\n          50,\n          38\n        ],\n        \"semantic_type\": \"\",\n        \"description\": \"\"\n      }\n    },\n    {\n      \"column\": \"race\",\n      \"properties\": {\n        \"dtype\": \"category\",\n        \"num_unique_values\": 1,\n        \"samples\": [\n          \"white\"\n        ],\n        \"semantic_type\": \"\",\n        \"description\": \"\"\n      }\n    },\n    {\n      \"column\": \"children\",\n      \"properties\": {\n        \"dtype\": \"number\",\n        \"std\": 0,\n        \"min\": 0,\n        \"max\": 0,\n        \"num_unique_values\": 1,\n        \"samples\": [\n          0\n        ],\n        \"semantic_type\": \"\",\n        \"description\": \"\"\n      }\n    },\n    {\n      \"column\": \"marital\",\n      \"properties\": {\n        \"dtype\": \"string\",\n        \"num_unique_values\": 3,\n        \"samples\": [\n          \"widowed_divorced_sep\"\n        ],\n        \"semantic_type\": \"\",\n        \"description\": \"\"\n      }\n    },\n    {\n      \"column\": \"education\",\n      \"properties\": {\n        \"dtype\": \"string\",\n        \"num_unique_values\": 3,\n        \"samples\": [\n          \"ed_assoc\"\n        ],\n        \"semantic_type\": \"\",\n        \"description\": \"\"\n      }\n    },\n    {\n      \"column\": \"RN_experience\",\n      \"properties\": {\n        \"dtype\": \"number\",\n        \"std\": 21,\n        \"min\": 3,\n        \"max\": 51,\n        \"num_unique_values\": 5,\n        \"samples\": [\n          14\n        ],\n        \"semantic_type\": \"\",\n        \"description\": \"\"\n      }\n    },\n    {\n      \"column\": \"left_nursing\",\n      \"properties\": {\n        \"dtype\": \"category\",\n        \"num_unique_values\": 1,\n        \"samples\": [\n          \"left_0\"\n        ],\n        \"semantic_type\": \"\",\n        \"description\": \"\"\n      }\n    },\n    {\n      \"column\": \"country_ed_US\",\n      \"properties\": {\n        \"dtype\": \"number\",\n        \"std\": 0,\n        \"min\": 1,\n        \"max\": 1,\n        \"num_unique_values\": 1,\n        \"samples\": [\n          1\n        ],\n        \"semantic_type\": \"\",\n        \"description\": \"\"\n      }\n    },\n    {\n      \"column\": \"english_only\",\n      \"properties\": {\n        \"dtype\": \"number\",\n        \"std\": 0,\n        \"min\": 1,\n        \"max\": 1,\n        \"num_unique_values\": 1,\n        \"samples\": [\n          1\n        ],\n        \"semantic_type\": \"\",\n        \"description\": \"\"\n      }\n    },\n    {\n      \"column\": \"military\",\n      \"properties\": {\n        \"dtype\": \"category\",\n        \"num_unique_values\": 1,\n        \"samples\": [\n          \"never_served_mil\"\n        ],\n        \"semantic_type\": \"\",\n        \"description\": \"\"\n      }\n    },\n    {\n      \"column\": \"certificates\",\n      \"properties\": {\n        \"dtype\": \"number\",\n        \"std\": 1,\n        \"min\": 0,\n        \"max\": 2,\n        \"num_unique_values\": 2,\n        \"samples\": [\n          2\n        ],\n        \"semantic_type\": \"\",\n        \"description\": \"\"\n      }\n    },\n    {\n      \"column\": \"labor_union\",\n      \"properties\": {\n        \"dtype\": \"number\",\n        \"std\": 0,\n        \"min\": 0,\n        \"max\": 1,\n        \"num_unique_values\": 2,\n        \"samples\": [\n          1\n        ],\n        \"semantic_type\": \"\",\n        \"description\": \"\"\n      }\n    },\n    {\n      \"column\": \"work_setting\",\n      \"properties\": {\n        \"dtype\": \"category\",\n        \"num_unique_values\": 2,\n        \"samples\": [\n          \"SET_hospital\"\n        ],\n        \"semantic_type\": \"\",\n        \"description\": \"\"\n      }\n    },\n    {\n      \"column\": \"work_situation\",\n      \"properties\": {\n        \"dtype\": \"category\",\n        \"num_unique_values\": 2,\n        \"samples\": [\n          \"SIT_agency_facility\"\n        ],\n        \"semantic_type\": \"\",\n        \"description\": \"\"\n      }\n    },\n    {\n      \"column\": \"level_care\",\n      \"properties\": {\n        \"dtype\": \"string\",\n        \"num_unique_values\": 4,\n        \"samples\": [\n          \"LC_education\"\n        ],\n        \"semantic_type\": \"\",\n        \"description\": \"\"\n      }\n    },\n    {\n      \"column\": \"care_specialty\",\n      \"properties\": {\n        \"dtype\": \"string\",\n        \"num_unique_values\": 4,\n        \"samples\": [\n          \"CC_emergency_care\"\n        ],\n        \"semantic_type\": \"\",\n        \"description\": \"\"\n      }\n    },\n    {\n      \"column\": \"state\",\n      \"properties\": {\n        \"dtype\": \"string\",\n        \"num_unique_values\": 5,\n        \"samples\": [\n          \"state_n24\"\n        ],\n        \"semantic_type\": \"\",\n        \"description\": \"\"\n      }\n    }\n  ]\n}"
            }
          },
          "metadata": {},
          "execution_count": 2
        }
      ],
      "source": [
        "# Read data\n",
        "path_data = \"https://github.com/pabloestradac/causalml-basics/raw/main/data/\"\n",
        "df = pd.read_csv(path_data + 'wages_nurses.csv')\n",
        "df.tail()"
      ]
    },
    {
      "cell_type": "markdown",
      "metadata": {
        "id": "eqPNtBFR6jYh"
      },
      "source": [
        "Construct a prediction rule for hourly (log) wage $Y$, which depends linearly on relevant characteristics $X$:\n",
        "\n",
        "$$\n",
        "\\log(\\text{wage}) = \\beta' X + e\n",
        "$$\n",
        "\n",
        "Then, assess the predictive performance of a given model using the (adjusted) sample MSE (how many mistakes you're making on average), the (adjusted) sample $R^2$ and the out-of-sample MSE and $R^2$. Thus, we measure the prediction quality of the models via data splitting.\n"
      ]
    },
    {
      "cell_type": "markdown",
      "metadata": {
        "id": "Xe3ecrBwvIf8"
      },
      "source": [
        "## Basic vs Flexible Model\n",
        "\n",
        "We employ two different specifications for prediction:\n",
        "\n",
        "1. Basic Model: $X$ consists of a set of raw regressors\n",
        "\n",
        "2. Flexible Model: $X$ consists of all raw regressors from the basic model plus a dictionary of transformations.\n",
        "\n",
        "Let's start with OLS."
      ]
    },
    {
      "cell_type": "code",
      "execution_count": 7,
      "metadata": {
        "id": "Ww9XEg9q6jYh"
      },
      "outputs": [],
      "source": [
        "# 0. Traditional Model\n",
        "model_base = ('lwage ~ female + age + race + children + marital + education + RN_experience')\n",
        "base = smf.ols(model_base, data=df)\n",
        "results_base = base.fit()"
      ]
    },
    {
      "cell_type": "code",
      "source": [
        "# prompt: describe the experience variable. If it was categorical, we would have to add C() to our variables.\n",
        "\n",
        "df['RN_experience'].describe()\n",
        "df.info() #statsmodels identifies race as categorical.\n"
      ],
      "metadata": {
        "id": "-n2nSPQLu2Nz",
        "outputId": "07188cd7-8e49-4907-c8a4-338771b1b3ae",
        "colab": {
          "base_uri": "https://localhost:8080/"
        }
      },
      "execution_count": 8,
      "outputs": [
        {
          "output_type": "stream",
          "name": "stdout",
          "text": [
            "<class 'pandas.core.frame.DataFrame'>\n",
            "RangeIndex: 5622 entries, 0 to 5621\n",
            "Data columns (total 19 columns):\n",
            " #   Column          Non-Null Count  Dtype  \n",
            "---  ------          --------------  -----  \n",
            " 0   lwage           5622 non-null   float64\n",
            " 1   female          5622 non-null   int64  \n",
            " 2   age             5622 non-null   int64  \n",
            " 3   race            5622 non-null   object \n",
            " 4   children        5622 non-null   int64  \n",
            " 5   marital         5622 non-null   object \n",
            " 6   education       5622 non-null   object \n",
            " 7   RN_experience   5622 non-null   int64  \n",
            " 8   left_nursing    5622 non-null   object \n",
            " 9   country_ed_US   5622 non-null   int64  \n",
            " 10  english_only    5622 non-null   int64  \n",
            " 11  military        5622 non-null   object \n",
            " 12  certificates    5622 non-null   int64  \n",
            " 13  labor_union     5622 non-null   int64  \n",
            " 14  work_setting    5622 non-null   object \n",
            " 15  work_situation  5622 non-null   object \n",
            " 16  level_care      5622 non-null   object \n",
            " 17  care_specialty  5622 non-null   object \n",
            " 18  state           5622 non-null   object \n",
            "dtypes: float64(1), int64(8), object(10)\n",
            "memory usage: 834.6+ KB\n"
          ]
        }
      ]
    },
    {
      "cell_type": "code",
      "execution_count": 9,
      "metadata": {
        "id": "38uUus5amUnU",
        "outputId": "43c881af-17d5-403a-bde2-a521256ed1c9",
        "colab": {
          "base_uri": "https://localhost:8080/"
        }
      },
      "outputs": [
        {
          "output_type": "stream",
          "name": "stdout",
          "text": [
            "No_Features = 14\n",
            "Rsquared = 0.084\n",
            "Rsquared_adjusted = 0.082\n",
            "MSE = 0.116\n",
            "MSE_adjusted = 0.116\n"
          ]
        }
      ],
      "source": [
        "X, y = base.data.exog, base.data.endog\n",
        "rsquared_base = results_base.rsquared\n",
        "rsquared_adj_base = results_base.rsquared_adj #the total covariates that you have might change, so this adjusts for that.\n",
        "mse_base = np.mean(results_base.resid**2)\n",
        "mse_adj_base = results_base.mse_resid #these 4 statistics will tell us in different ways how well we're predicting the wages.\n",
        "print(f'No_Features = {X.shape[1]:.0f}')\n",
        "print(f'Rsquared = {rsquared_base:.3f}')\n",
        "print(f'Rsquared_adjusted = {rsquared_adj_base:.3f}')\n",
        "print(f'MSE = {mse_base:.3f}')\n",
        "print(f'MSE_adjusted = {mse_adj_base:.3f}')\n",
        "\n",
        "#Features: term used in ML. We call them covariates in econometrics."
      ]
    },
    {
      "cell_type": "code",
      "execution_count": 10,
      "metadata": {
        "id": "hyHWbx2tkN_4"
      },
      "outputs": [],
      "source": [
        "# 1. Basic Model.\n",
        "# We're adding many more variables after experience:\n",
        "model_base = ('lwage ~ female + age + race + children + marital '\n",
        "              '+ education + RN_experience + left_nursing + country_ed_US + english_only + military + certificates'\n",
        "              '+ labor_union + work_setting + work_situation + level_care + care_specialty + state') #In hopes that this will improve our predictions.\n",
        "base = smf.ols(model_base, data=df)\n",
        "results_base = base.fit()"
      ]
    },
    {
      "cell_type": "code",
      "execution_count": 12,
      "metadata": {
        "id": "zdKO7DLBkN_5",
        "outputId": "ecaebd85-2f82-424a-d461-0e0b4d0dfa07",
        "colab": {
          "base_uri": "https://localhost:8080/"
        }
      },
      "outputs": [
        {
          "output_type": "stream",
          "name": "stdout",
          "text": [
            "No_Features = 96\n",
            "Rsquared = 0.289\n",
            "Rsquared_adjusted = 0.276\n",
            "MSE = 0.090\n",
            "MSE_adjusted = 0.091\n"
          ]
        }
      ],
      "source": [
        "X, y = base.data.exog, base.data.endog\n",
        "rsquared_base = results_base.rsquared\n",
        "rsquared_adj_base = results_base.rsquared_adj\n",
        "mse_base = np.mean(results_base.resid**2)\n",
        "mse_adj_base = results_base.mse_resid\n",
        "print(f'No_Features = {X.shape[1]:.0f}')\n",
        "print(f'Rsquared = {rsquared_base:.3f}')\n",
        "print(f'Rsquared_adjusted = {rsquared_adj_base:.3f}')\n",
        "print(f'MSE = {mse_base:.3f}')\n",
        "print(f'MSE_adjusted = {mse_adj_base:.3f}')\n",
        "\n",
        "#we have many features, because when some vars become dummies, there's many.\n",
        "#this model improves the prediction, compared to the other."
      ]
    },
    {
      "cell_type": "code",
      "execution_count": 13,
      "metadata": {
        "id": "ydQNNmzs6jYi"
      },
      "outputs": [],
      "source": [
        "# 2. Flexible Model\n",
        "model_flex = ('lwage ~ female + age + race + children + marital '\n",
        "              '+ education + left_nursing + country_ed_US + english_only + military + certificates'\n",
        "              '+ labor_union + work_setting + work_situation + level_care + care_specialty + state'\n",
        "              '+ (RN_experience + RN_experience**2 + RN_experience**3 + RN_experience**4)'\n",
        "              '*(age + race + children + marital '\n",
        "              '+ education + left_nursing + country_ed_US + english_only + military + certificates'\n",
        "              '+ labor_union + work_setting + work_situation + level_care + care_specialty + state)')\n",
        "flex = smf.ols(model_flex, data=df)\n",
        "results_flex = flex.fit()"
      ]
    },
    {
      "cell_type": "code",
      "execution_count": 14,
      "metadata": {
        "id": "QqzKM5JrkN_5",
        "outputId": "82c8033e-d177-4a7c-830f-e0c83eca9196",
        "colab": {
          "base_uri": "https://localhost:8080/"
        }
      },
      "outputs": [
        {
          "output_type": "stream",
          "name": "stdout",
          "text": [
            "No_Features = 189\n",
            "Rsquared = 0.325\n",
            "Rsquared_adjusted = 0.302\n",
            "MSE = 0.085\n",
            "MSE_adjusted = 0.088\n"
          ]
        }
      ],
      "source": [
        "X, y = flex.data.exog, flex.data.endog\n",
        "rsquared_flex = results_flex.rsquared\n",
        "rsquared_adj_flex = results_flex.rsquared_adj\n",
        "mse_flex = np.mean(results_flex.resid**2)\n",
        "mse_adj_flex = results_flex.mse_resid\n",
        "print(f'No_Features = {X.shape[1]:.0f}')\n",
        "print(f'Rsquared = {rsquared_flex:.3f}')\n",
        "print(f'Rsquared_adjusted = {rsquared_adj_flex:.3f}')\n",
        "print(f'MSE = {mse_flex:.3f}')\n",
        "print(f'MSE_adjusted = {mse_adj_flex:.3f}')"
      ]
    },
    {
      "cell_type": "code",
      "source": [
        "#Exercise: try to make a model that improves the statistics from the previous ones (by modifying covariates, interactions, etc.)\n",
        "model_try = ('lwage ~ female + age + race + children + marital '\n",
        "              '+ education + left_nursing + country_ed_US + english_only + military + certificates'\n",
        "              '+ labor_union + work_setting + work_situation + level_care + care_specialty + state'\n",
        "              '+ (RN_experience + RN_experience**2 + RN_experience**3 + RN_experience**6)'\n",
        "              '*(age + race + children + marital '\n",
        "              '+ education + left_nursing + country_ed_US + english_only + military + certificates'\n",
        "              '+ labor_union + work_setting + work_situation + level_care + care_specialty + state)')\n",
        "flex = smf.ols(model_try, data=df)\n",
        "results_try = flex.fit()\n",
        "\n",
        "#When interacting one of your most important variables (the one that captures most of the variation), you can get a lower Rsquared."
      ],
      "metadata": {
        "id": "1KZB9mtnx5KP"
      },
      "execution_count": 31,
      "outputs": []
    },
    {
      "cell_type": "code",
      "source": [
        "X, y = flex.data.exog, flex.data.endog\n",
        "rsquared_flex = results_flex.rsquared\n",
        "rsquared_adj_flex = results_flex.rsquared_adj\n",
        "mse_flex = np.mean(results_flex.resid**2)\n",
        "mse_adj_flex = results_flex.mse_resid\n",
        "print(f'No_Features = {X.shape[1]:.0f}')\n",
        "print(f'Rsquared = {rsquared_flex:.3f}')\n",
        "print(f'Rsquared_adjusted = {rsquared_adj_flex:.3f}')\n",
        "print(f'MSE = {mse_flex:.3f}')\n",
        "print(f'MSE_adjusted = {mse_adj_flex:.3f}')\n",
        "\n",
        "#didn't succeed at this task! Pablo knows the data better."
      ],
      "metadata": {
        "id": "2ZTuOG-ozINE",
        "outputId": "6c3b8214-48aa-4f6f-aeea-8066685b2611",
        "colab": {
          "base_uri": "https://localhost:8080/"
        }
      },
      "execution_count": 33,
      "outputs": [
        {
          "output_type": "stream",
          "name": "stdout",
          "text": [
            "No_Features = 189\n",
            "Rsquared = 0.325\n",
            "Rsquared_adjusted = 0.302\n",
            "MSE = 0.085\n",
            "MSE_adjusted = 0.088\n"
          ]
        }
      ]
    },
    {
      "cell_type": "markdown",
      "metadata": {
        "id": "2uxr3OZT6jYj"
      },
      "source": [
        "## Flexible model using Lasso\n",
        "\n",
        "Re-estimate the flexible model using Lasso (the least absolute shrinkage and selection operator) rather than ols. Use the sklearn (one of the most used libraries in python right now, it has many ML algorithms) Lasso with cross-validation to tune the regularization hyperparameter."
      ]
    },
    {
      "cell_type": "code",
      "execution_count": 35,
      "metadata": {
        "id": "Ynf9WMhT6jYj",
        "outputId": "5401958b-79f8-420a-ee86-18136103c019",
        "colab": {
          "base_uri": "https://localhost:8080/",
          "height": 147
        }
      },
      "outputs": [
        {
          "output_type": "execute_result",
          "data": {
            "text/plain": [
              "Pipeline(steps=[('scale', StandardScaler()), ('lasso', LassoCV())])"
            ],
            "text/html": [
              "<style>#sk-container-id-2 {color: black;}#sk-container-id-2 pre{padding: 0;}#sk-container-id-2 div.sk-toggleable {background-color: white;}#sk-container-id-2 label.sk-toggleable__label {cursor: pointer;display: block;width: 100%;margin-bottom: 0;padding: 0.3em;box-sizing: border-box;text-align: center;}#sk-container-id-2 label.sk-toggleable__label-arrow:before {content: \"▸\";float: left;margin-right: 0.25em;color: #696969;}#sk-container-id-2 label.sk-toggleable__label-arrow:hover:before {color: black;}#sk-container-id-2 div.sk-estimator:hover label.sk-toggleable__label-arrow:before {color: black;}#sk-container-id-2 div.sk-toggleable__content {max-height: 0;max-width: 0;overflow: hidden;text-align: left;background-color: #f0f8ff;}#sk-container-id-2 div.sk-toggleable__content pre {margin: 0.2em;color: black;border-radius: 0.25em;background-color: #f0f8ff;}#sk-container-id-2 input.sk-toggleable__control:checked~div.sk-toggleable__content {max-height: 200px;max-width: 100%;overflow: auto;}#sk-container-id-2 input.sk-toggleable__control:checked~label.sk-toggleable__label-arrow:before {content: \"▾\";}#sk-container-id-2 div.sk-estimator input.sk-toggleable__control:checked~label.sk-toggleable__label {background-color: #d4ebff;}#sk-container-id-2 div.sk-label input.sk-toggleable__control:checked~label.sk-toggleable__label {background-color: #d4ebff;}#sk-container-id-2 input.sk-hidden--visually {border: 0;clip: rect(1px 1px 1px 1px);clip: rect(1px, 1px, 1px, 1px);height: 1px;margin: -1px;overflow: hidden;padding: 0;position: absolute;width: 1px;}#sk-container-id-2 div.sk-estimator {font-family: monospace;background-color: #f0f8ff;border: 1px dotted black;border-radius: 0.25em;box-sizing: border-box;margin-bottom: 0.5em;}#sk-container-id-2 div.sk-estimator:hover {background-color: #d4ebff;}#sk-container-id-2 div.sk-parallel-item::after {content: \"\";width: 100%;border-bottom: 1px solid gray;flex-grow: 1;}#sk-container-id-2 div.sk-label:hover label.sk-toggleable__label {background-color: #d4ebff;}#sk-container-id-2 div.sk-serial::before {content: \"\";position: absolute;border-left: 1px solid gray;box-sizing: border-box;top: 0;bottom: 0;left: 50%;z-index: 0;}#sk-container-id-2 div.sk-serial {display: flex;flex-direction: column;align-items: center;background-color: white;padding-right: 0.2em;padding-left: 0.2em;position: relative;}#sk-container-id-2 div.sk-item {position: relative;z-index: 1;}#sk-container-id-2 div.sk-parallel {display: flex;align-items: stretch;justify-content: center;background-color: white;position: relative;}#sk-container-id-2 div.sk-item::before, #sk-container-id-2 div.sk-parallel-item::before {content: \"\";position: absolute;border-left: 1px solid gray;box-sizing: border-box;top: 0;bottom: 0;left: 50%;z-index: -1;}#sk-container-id-2 div.sk-parallel-item {display: flex;flex-direction: column;z-index: 1;position: relative;background-color: white;}#sk-container-id-2 div.sk-parallel-item:first-child::after {align-self: flex-end;width: 50%;}#sk-container-id-2 div.sk-parallel-item:last-child::after {align-self: flex-start;width: 50%;}#sk-container-id-2 div.sk-parallel-item:only-child::after {width: 0;}#sk-container-id-2 div.sk-dashed-wrapped {border: 1px dashed gray;margin: 0 0.4em 0.5em 0.4em;box-sizing: border-box;padding-bottom: 0.4em;background-color: white;}#sk-container-id-2 div.sk-label label {font-family: monospace;font-weight: bold;display: inline-block;line-height: 1.2em;}#sk-container-id-2 div.sk-label-container {text-align: center;}#sk-container-id-2 div.sk-container {/* jupyter's `normalize.less` sets `[hidden] { display: none; }` but bootstrap.min.css set `[hidden] { display: none !important; }` so we also need the `!important` here to be able to override the default hidden behavior on the sphinx rendered scikit-learn.org. See: https://github.com/scikit-learn/scikit-learn/issues/21755 */display: inline-block !important;position: relative;}#sk-container-id-2 div.sk-text-repr-fallback {display: none;}</style><div id=\"sk-container-id-2\" class=\"sk-top-container\"><div class=\"sk-text-repr-fallback\"><pre>Pipeline(steps=[(&#x27;scale&#x27;, StandardScaler()), (&#x27;lasso&#x27;, LassoCV())])</pre><b>In a Jupyter environment, please rerun this cell to show the HTML representation or trust the notebook. <br />On GitHub, the HTML representation is unable to render, please try loading this page with nbviewer.org.</b></div><div class=\"sk-container\" hidden><div class=\"sk-item sk-dashed-wrapped\"><div class=\"sk-label-container\"><div class=\"sk-label sk-toggleable\"><input class=\"sk-toggleable__control sk-hidden--visually\" id=\"sk-estimator-id-4\" type=\"checkbox\" ><label for=\"sk-estimator-id-4\" class=\"sk-toggleable__label sk-toggleable__label-arrow\">Pipeline</label><div class=\"sk-toggleable__content\"><pre>Pipeline(steps=[(&#x27;scale&#x27;, StandardScaler()), (&#x27;lasso&#x27;, LassoCV())])</pre></div></div></div><div class=\"sk-serial\"><div class=\"sk-item\"><div class=\"sk-estimator sk-toggleable\"><input class=\"sk-toggleable__control sk-hidden--visually\" id=\"sk-estimator-id-5\" type=\"checkbox\" ><label for=\"sk-estimator-id-5\" class=\"sk-toggleable__label sk-toggleable__label-arrow\">StandardScaler</label><div class=\"sk-toggleable__content\"><pre>StandardScaler()</pre></div></div></div><div class=\"sk-item\"><div class=\"sk-estimator sk-toggleable\"><input class=\"sk-toggleable__control sk-hidden--visually\" id=\"sk-estimator-id-6\" type=\"checkbox\" ><label for=\"sk-estimator-id-6\" class=\"sk-toggleable__label sk-toggleable__label-arrow\">LassoCV</label><div class=\"sk-toggleable__content\"><pre>LassoCV()</pre></div></div></div></div></div></div></div>"
            ]
          },
          "metadata": {},
          "execution_count": 35
        }
      ],
      "source": [
        "X = flex.data.exog[:, 1:] # exclude the intercept\n",
        "y = flex.data.endog\n",
        "\n",
        "# 3. Train model using Lasso with cross validation and variable normalization\n",
        "lasso = Pipeline([('scale', StandardScaler()), #standarizing is a good practice.\n",
        "                  ('lasso', LassoCV())]) #CV stands for cross validation. The lower the number, the less penalization on the betas.\n",
        "lasso.fit(X, y)"
      ]
    },
    {
      "cell_type": "code",
      "execution_count": 36,
      "metadata": {
        "id": "5RQc_tT1mUnV",
        "outputId": "c2111492-e041-47b8-b8c7-4c9e817d44dd",
        "colab": {
          "base_uri": "https://localhost:8080/"
        }
      },
      "outputs": [
        {
          "output_type": "stream",
          "name": "stdout",
          "text": [
            "No_Features = 189\n",
            "Rsquared = 0.316\n",
            "Rsquared_adjusted = 0.292\n",
            "MSE = 0.086\n",
            "MSE_adjusted = 0.089\n"
          ]
        }
      ],
      "source": [
        "n, p = X.shape\n",
        "p += 1\n",
        "mse_lasso = np.mean((y - lasso.predict(X))**2)\n",
        "mse_adj_lasso = mse_lasso * n / (n - p)\n",
        "rsquared_lasso = 1 - mse_lasso / np.var(y)\n",
        "rsquared_adj_lasso = 1 - mse_adj_lasso / np.var(y)\n",
        "print(f'No_Features = {p:.0f}')\n",
        "print(f'Rsquared = {rsquared_lasso:.3f}')\n",
        "print(f'Rsquared_adjusted = {rsquared_adj_lasso:.3f}')\n",
        "print(f'MSE = {mse_lasso:.3f}')\n",
        "print(f'MSE_adjusted = {mse_adj_lasso:.3f}')"
      ]
    },
    {
      "cell_type": "code",
      "execution_count": null,
      "metadata": {
        "id": "slxv2Km-6jYm"
      },
      "outputs": [],
      "source": [
        "# Store results\n",
        "res_df = pd.DataFrame()\n",
        "\n",
        "res_df['Model'] = ['Basic reg', 'Flexible reg', 'Flexible Lasso']\n",
        "res_df['p'] = [results_base.params.shape[0],\n",
        "               results_flex.params.shape[0],\n",
        "               results_flex.params.shape[0]]\n",
        "res_df['R2'] = [rsquared_base, rsquared_flex, rsquared_lasso]\n",
        "res_df['MSE'] = [mse_base, mse_flex, mse_lasso]\n",
        "res_df['adj_R2'] = [rsquared_adj_base, rsquared_adj_flex, rsquared_adj_lasso]\n",
        "res_df['adj_MSE'] = [mse_adj_base, mse_adj_flex, mse_adj_lasso]\n",
        "\n",
        "res_df"
      ]
    },
    {
      "cell_type": "markdown",
      "metadata": {
        "id": "tXtA8vw9waQ1"
      },
      "source": [
        "The flexible model performs slightly better than the basic model.\n",
        "\n",
        "Let's now use sample splitting."
      ]
    },
    {
      "cell_type": "markdown",
      "metadata": {
        "id": "bZIdxq3X6jYn"
      },
      "source": [
        "## Out-of-sample performance\n",
        "\n",
        "Now that we have seen in-sample fit, we evaluate our models on the out-of-sample performance.\n"
      ]
    },
    {
      "cell_type": "code",
      "execution_count": null,
      "metadata": {
        "id": "xsJsIKetx3Rp"
      },
      "outputs": [],
      "source": [
        "# Use smf.ols just to get the full data frame and sm.OLS to test out of sample for convenience\n",
        "tmp = smf.ols(model_base, data=df)\n",
        "X_full = tmp.data.exog\n",
        "y_full = tmp.data.endog\n",
        "X_train, X_test, y_train, y_test = train_test_split(X_full, y_full, test_size=.2, random_state=42)\n",
        "\n",
        "# Predict out of sample\n",
        "reg_basic = sm.OLS(y_train, X_train).fit()\n",
        "yhat_reg_base = reg_basic.predict(X_test)\n",
        "\n",
        "# Calculate out-of-sample MSE\n",
        "MSE_test1 = sum((y_test-yhat_reg_base)**2)/y_test.shape[0]\n",
        "R2_test1 = 1. - MSE_test1/np.var(y_test)\n",
        "\n",
        "print(\"Test MSE for the basic model: \"+ str(MSE_test1))\n",
        "print(\"Test R2 for the basic model: \"+ str(R2_test1))"
      ]
    },
    {
      "cell_type": "code",
      "execution_count": null,
      "metadata": {
        "id": "B9b9XAix6jYo"
      },
      "outputs": [],
      "source": [
        "# Use smf.ols just to get the full data frame and sm.OLS to test out of sample for convenience\n",
        "tmp = smf.ols(model_flex, data=df)\n",
        "X_full = tmp.data.exog\n",
        "y_full = tmp.data.endog\n",
        "X_train, X_test, y_train, y_test = train_test_split(X_full, y_full, test_size=.2, random_state=42)\n",
        "\n",
        "# Predict out of sample\n",
        "reg_flex = sm.OLS(y_train, X_train).fit()\n",
        "yhat_reg_flex = reg_flex.predict(X_test)\n",
        "\n",
        "# Calculate out-of-sample MSE\n",
        "MSE_test2 = np.mean((y_test - yhat_reg_flex)**2)\n",
        "R2_test2 = 1. - MSE_test2 / np.var(y_test)\n",
        "\n",
        "print(\"Test MSE for the flexible model: \"+ str(MSE_test2))\n",
        "print(\"Test R2 for the flexible model: \"+ str(R2_test2))"
      ]
    },
    {
      "cell_type": "code",
      "execution_count": null,
      "metadata": {
        "id": "05auay496jYp"
      },
      "outputs": [],
      "source": [
        "# Predict out of sample\n",
        "lasso = Pipeline([('scale', StandardScaler()),\n",
        "                  ('lasso', LassoCV())])\n",
        "lasso.fit(X_train[:, 1:], y_train)\n",
        "yhat_test_lasso = lasso.predict(X_test[:, 1:])\n",
        "\n",
        "# Calculate out-of-sample MSE\n",
        "MSE_test3 = np.mean((y_test - yhat_test_lasso)**2)\n",
        "R2_test3 = 1. - MSE_test3 / np.var(y_test)\n",
        "\n",
        "print(\"Test MSE for the lasso model: \"+ str(MSE_test3))\n",
        "print(\"Test R2 for the lasso model: \"+ str(R2_test3))"
      ]
    },
    {
      "cell_type": "code",
      "execution_count": null,
      "metadata": {
        "id": "uO6YxpPw6jYp"
      },
      "outputs": [],
      "source": [
        "# Store results\n",
        "res_df2 = pd.DataFrame()\n",
        "\n",
        "res_df2['Model'] = ['Basic Reg', 'Flexible Reg', 'Flexible Lasso']\n",
        "res_df2['MSE_test'] = [MSE_test1, MSE_test2, MSE_test3]\n",
        "res_df2['R2_test'] = [R2_test1, R2_test2, R2_test3]\n",
        "\n",
        "res_df2"
      ]
    },
    {
      "cell_type": "markdown",
      "metadata": {
        "id": "Cq5ZEW1k3b4N"
      },
      "source": [
        "## Extra flexible model\n",
        "\n"
      ]
    },
    {
      "cell_type": "code",
      "execution_count": null,
      "metadata": {
        "id": "3JVlk3Lg3ujb"
      },
      "outputs": [],
      "source": [
        "# Extra Flexible Model\n",
        "model_extra = ('lwage ~ (female + age + race + children + marital '\n",
        "              '+ education + RN_experience + RN_experience**2 + RN_experience**3 + RN_experience**4'\n",
        "              '+ left_nursing + country_ed_US + english_only + military + certificates'\n",
        "              '+ labor_union + work_setting + work_situation + level_care + care_specialty + state)**2')\n",
        "tmp = smf.ols(model_extra, data=df) # just to extract df, not actually using this model\n",
        "print(f'No_Features = {tmp.data.exog.shape[1]:.0f}')\n",
        "\n",
        "# In-sample fit\n",
        "insamplefit = tmp.fit()\n",
        "rsquared_ex = insamplefit.rsquared\n",
        "rsquared_adj_ex = insamplefit.rsquared_adj\n",
        "mse_ex = np.mean(insamplefit.resid**2)\n",
        "mse_adj_ex = insamplefit.mse_resid\n",
        "print(f'(In-sample) Rsquared = {rsquared_ex :.3f}')\n",
        "print(f'(In-sample) Rsquared_adjusted = {rsquared_adj_ex :.3f}')\n",
        "print(f'(In-sample) MSE = {mse_ex :.3f}')\n",
        "print(f'(In-sample) MSE_adjusted = {mse_adj_ex:.3f}')\n",
        "\n",
        "# Train test Split\n",
        "X_full = tmp.data.exog\n",
        "y_full = tmp.data.endog\n",
        "X_train, X_test, y_train, y_test = train_test_split(X_full, y_full, test_size=.2, random_state=42)\n",
        "\n",
        "# Predict out of sample\n",
        "reg_extra = sm.OLS(y_train, X_train).fit()\n",
        "yhat_reg_extra = reg_extra.predict(X_test)\n",
        "\n",
        "# Calculate out-of-sample MSE\n",
        "MSE_test4 = np.mean((y_test - yhat_reg_extra)**2)\n",
        "R2_test4 = 1. - MSE_test4 / np.var(y_test)\n",
        "\n",
        "print(f'(Out-of-sample) MSE = {MSE_test4:.3f}')\n",
        "print(f'(Out-of-sample) R2 = {R2_test4:.3f}')"
      ]
    },
    {
      "cell_type": "markdown",
      "metadata": {
        "id": "UkZBMW3o40GV"
      },
      "source": [
        "A simple OLS overfits when the dimensionality of covariates is high, while the out-of-sample performance suffers dramatically."
      ]
    },
    {
      "cell_type": "code",
      "execution_count": null,
      "metadata": {
        "id": "dUsSUi0H3ct3"
      },
      "outputs": [],
      "source": [
        "# Train model using Lasso\n",
        "lasso = Pipeline([('scale', StandardScaler()),\n",
        "                  ('lasso', LassoCV())])\n",
        "lasso.fit(X_train[:, 1:], y_train)\n",
        "\n",
        "# In-sample fit\n",
        "yhat_train_lasso = lasso.predict(X_train[:, 1:])\n",
        "R2_L = 1 - np.sum((yhat_train_lasso - y_train)**2) / np.sum((y_train - np.mean(y_train))**2)\n",
        "pL = np.sum(lasso.named_steps['lasso'].coef_ != 0)\n",
        "ntrain = len(X_train)\n",
        "R2_adjL = 1 - (np.sum((yhat_train_lasso - y_train)**2) / (ntrain - pL - 1)) / (np.sum((y_train- np.mean(y_train))**2) / (ntrain - 1))\n",
        "lasso_res = y_train - yhat_train_lasso\n",
        "MSEL = np.mean(lasso_res**2)\n",
        "MSE_adjL = (ntrain / (ntrain - pL - 1)) * MSEL\n",
        "print(f'No_Nonzero_Features = {pL:.0f}')\n",
        "print(f'(In-sample) Rsquared = {R2_L:.3f}')\n",
        "print(f'(In-sample) Rsquared_adjusted = {R2_adjL:.3f}')\n",
        "print(f'(In-sample) MSE = {MSEL:.3f}')\n",
        "print(f'(In-sample) MSE_adjusted = {MSE_adjL:.3f}')\n",
        "\n",
        "# Out-of-sample fit\n",
        "yhat_test_lasso = lasso.predict(X_test[:, 1:])\n",
        "MSE_test5 = np.mean((y_test - yhat_test_lasso)**2)\n",
        "R2_test5 = 1. - MSE_test5 / np.var(y_test)\n",
        "\n",
        "print(f'(Out-of-sample) MSE = {MSE_test5:.3f}')\n",
        "print(f'(Out-of-sample) R2 = {R2_test5:.3f}')"
      ]
    },
    {
      "cell_type": "markdown",
      "metadata": {
        "id": "1DmQoTrH5OUV"
      },
      "source": [
        "Overfitting is mitigated with the penalized regression model."
      ]
    },
    {
      "cell_type": "markdown",
      "metadata": {
        "id": "VF7y2xPlkN_9"
      },
      "source": []
    }
  ],
  "metadata": {
    "colab": {
      "provenance": [],
      "include_colab_link": true
    },
    "kernelspec": {
      "display_name": "Python 3 (ipykernel)",
      "language": "python",
      "name": "python3"
    },
    "language_info": {
      "codemirror_mode": {
        "name": "ipython",
        "version": 3
      },
      "file_extension": ".py",
      "mimetype": "text/x-python",
      "name": "python",
      "nbconvert_exporter": "python",
      "pygments_lexer": "ipython3",
      "version": "3.9.12"
    }
  },
  "nbformat": 4,
  "nbformat_minor": 0
}