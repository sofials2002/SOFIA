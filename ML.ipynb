{
  "cells": [
    {
      "cell_type": "markdown",
      "metadata": {
        "id": "view-in-github",
        "colab_type": "text"
      },
      "source": [
        "<a href=\"https://colab.research.google.com/github/sofials2002/SOFIA/blob/master/ML.ipynb\" target=\"_parent\"><img src=\"https://colab.research.google.com/assets/colab-badge.svg\" alt=\"Open In Colab\"/></a>"
      ]
    },
    {
      "cell_type": "markdown",
      "metadata": {
        "id": "yE-ctzsnNDpc"
      },
      "source": [
        "# Wage Prediction using Machine Learning\n",
        "\n",
        "In this notebook we will answer what determines the wage of workers from a predictive perspective.\n",
        "\n",
        "This example focuses on a sample of Registered Nurses in the US collected during 2017. The hourly wage of a nurse is denoted by $Y$ and $X$ is a vector of nurses' characteristics, e.g., human capital, demographics, job-relevant characteristics. The question that we want to answer is:\n",
        "\n",
        "- How to use nurses' characteristics, such as education and experience, to best predict wages?\n"
      ]
    },
    {
      "cell_type": "code",
      "execution_count": 1,
      "metadata": {
        "id": "kvq-lXHgNDpg"
      },
      "outputs": [],
      "source": [
        "import numpy as np\n",
        "import pandas as pd\n",
        "import patsy\n",
        "from sklearn.model_selection import train_test_split, KFold\n",
        "from sklearn.preprocessing import StandardScaler\n",
        "from sklearn.linear_model import LassoCV, RidgeCV, ElasticNetCV, LinearRegression\n",
        "from sklearn.tree import DecisionTreeRegressor\n",
        "from sklearn.ensemble import RandomForestRegressor, GradientBoostingRegressor, StackingRegressor\n",
        "from sklearn.neural_network import MLPRegressor\n",
        "from sklearn.base import TransformerMixin, RegressorMixin, BaseEstimator\n",
        "from sklearn.pipeline import make_pipeline\n",
        "\n",
        "import warnings\n",
        "warnings.simplefilter('ignore')"
      ]
    },
    {
      "cell_type": "markdown",
      "metadata": {
        "id": "yYmcd6mN7VCV"
      },
      "source": [
        "## Data"
      ]
    },
    {
      "cell_type": "code",
      "execution_count": 2,
      "metadata": {
        "id": "B9jOqtf0NDpi",
        "outputId": "8b01d470-7698-48b5-d9d7-45e9511d8071",
        "colab": {
          "base_uri": "https://localhost:8080/",
          "height": 226
        }
      },
      "outputs": [
        {
          "output_type": "execute_result",
          "data": {
            "text/plain": [
              "         lwage  female  age   race  children               marital education  \\\n",
              "5617  3.496087       1   72  white         0  widowed_divorced_sep  ed_assoc   \n",
              "5618  3.678408       1   50  white         0         never_married    ed_msn   \n",
              "5619  3.952845       0   36  white         0     currently_married    ed_bsn   \n",
              "5620  3.957960       1   61  white         0     currently_married    ed_bsn   \n",
              "5621  3.100270       1   38  white         0     currently_married  ed_assoc   \n",
              "\n",
              "      RN_experience left_nursing  country_ed_US  english_only  \\\n",
              "5617             51       left_0              1             1   \n",
              "5618             14       left_0              1             1   \n",
              "5619              4       left_0              1             1   \n",
              "5620             40       left_0              1             1   \n",
              "5621              3       left_0              1             1   \n",
              "\n",
              "              military  certificates  labor_union             work_setting  \\\n",
              "5617  never_served_mil             0            0  SET_long_term_inpatient   \n",
              "5618  never_served_mil             0            0             SET_hospital   \n",
              "5619  never_served_mil             2            1             SET_hospital   \n",
              "5620  never_served_mil             0            0             SET_hospital   \n",
              "5621  never_served_mil             2            0             SET_hospital   \n",
              "\n",
              "           work_situation       level_care       care_specialty      state  \n",
              "5617    SIT_self_employed  LC_nursing_home   CC_no_patient_care  state_n13  \n",
              "5618  SIT_agency_facility     LC_education    CC_emergency_care  state_n24  \n",
              "5619  SIT_agency_facility     LC_inpatient          CC_oncology  state_n32  \n",
              "5620  SIT_agency_facility     LC_inpatient   CC_no_patient_care  state_n37  \n",
              "5621  SIT_agency_facility        LC_others  CC_medical_surgical  state_n29  "
            ],
            "text/html": [
              "\n",
              "  <div id=\"df-e1e82149-ac61-473a-bb32-bab1a007b328\" class=\"colab-df-container\">\n",
              "    <div>\n",
              "<style scoped>\n",
              "    .dataframe tbody tr th:only-of-type {\n",
              "        vertical-align: middle;\n",
              "    }\n",
              "\n",
              "    .dataframe tbody tr th {\n",
              "        vertical-align: top;\n",
              "    }\n",
              "\n",
              "    .dataframe thead th {\n",
              "        text-align: right;\n",
              "    }\n",
              "</style>\n",
              "<table border=\"1\" class=\"dataframe\">\n",
              "  <thead>\n",
              "    <tr style=\"text-align: right;\">\n",
              "      <th></th>\n",
              "      <th>lwage</th>\n",
              "      <th>female</th>\n",
              "      <th>age</th>\n",
              "      <th>race</th>\n",
              "      <th>children</th>\n",
              "      <th>marital</th>\n",
              "      <th>education</th>\n",
              "      <th>RN_experience</th>\n",
              "      <th>left_nursing</th>\n",
              "      <th>country_ed_US</th>\n",
              "      <th>english_only</th>\n",
              "      <th>military</th>\n",
              "      <th>certificates</th>\n",
              "      <th>labor_union</th>\n",
              "      <th>work_setting</th>\n",
              "      <th>work_situation</th>\n",
              "      <th>level_care</th>\n",
              "      <th>care_specialty</th>\n",
              "      <th>state</th>\n",
              "    </tr>\n",
              "  </thead>\n",
              "  <tbody>\n",
              "    <tr>\n",
              "      <th>5617</th>\n",
              "      <td>3.496087</td>\n",
              "      <td>1</td>\n",
              "      <td>72</td>\n",
              "      <td>white</td>\n",
              "      <td>0</td>\n",
              "      <td>widowed_divorced_sep</td>\n",
              "      <td>ed_assoc</td>\n",
              "      <td>51</td>\n",
              "      <td>left_0</td>\n",
              "      <td>1</td>\n",
              "      <td>1</td>\n",
              "      <td>never_served_mil</td>\n",
              "      <td>0</td>\n",
              "      <td>0</td>\n",
              "      <td>SET_long_term_inpatient</td>\n",
              "      <td>SIT_self_employed</td>\n",
              "      <td>LC_nursing_home</td>\n",
              "      <td>CC_no_patient_care</td>\n",
              "      <td>state_n13</td>\n",
              "    </tr>\n",
              "    <tr>\n",
              "      <th>5618</th>\n",
              "      <td>3.678408</td>\n",
              "      <td>1</td>\n",
              "      <td>50</td>\n",
              "      <td>white</td>\n",
              "      <td>0</td>\n",
              "      <td>never_married</td>\n",
              "      <td>ed_msn</td>\n",
              "      <td>14</td>\n",
              "      <td>left_0</td>\n",
              "      <td>1</td>\n",
              "      <td>1</td>\n",
              "      <td>never_served_mil</td>\n",
              "      <td>0</td>\n",
              "      <td>0</td>\n",
              "      <td>SET_hospital</td>\n",
              "      <td>SIT_agency_facility</td>\n",
              "      <td>LC_education</td>\n",
              "      <td>CC_emergency_care</td>\n",
              "      <td>state_n24</td>\n",
              "    </tr>\n",
              "    <tr>\n",
              "      <th>5619</th>\n",
              "      <td>3.952845</td>\n",
              "      <td>0</td>\n",
              "      <td>36</td>\n",
              "      <td>white</td>\n",
              "      <td>0</td>\n",
              "      <td>currently_married</td>\n",
              "      <td>ed_bsn</td>\n",
              "      <td>4</td>\n",
              "      <td>left_0</td>\n",
              "      <td>1</td>\n",
              "      <td>1</td>\n",
              "      <td>never_served_mil</td>\n",
              "      <td>2</td>\n",
              "      <td>1</td>\n",
              "      <td>SET_hospital</td>\n",
              "      <td>SIT_agency_facility</td>\n",
              "      <td>LC_inpatient</td>\n",
              "      <td>CC_oncology</td>\n",
              "      <td>state_n32</td>\n",
              "    </tr>\n",
              "    <tr>\n",
              "      <th>5620</th>\n",
              "      <td>3.957960</td>\n",
              "      <td>1</td>\n",
              "      <td>61</td>\n",
              "      <td>white</td>\n",
              "      <td>0</td>\n",
              "      <td>currently_married</td>\n",
              "      <td>ed_bsn</td>\n",
              "      <td>40</td>\n",
              "      <td>left_0</td>\n",
              "      <td>1</td>\n",
              "      <td>1</td>\n",
              "      <td>never_served_mil</td>\n",
              "      <td>0</td>\n",
              "      <td>0</td>\n",
              "      <td>SET_hospital</td>\n",
              "      <td>SIT_agency_facility</td>\n",
              "      <td>LC_inpatient</td>\n",
              "      <td>CC_no_patient_care</td>\n",
              "      <td>state_n37</td>\n",
              "    </tr>\n",
              "    <tr>\n",
              "      <th>5621</th>\n",
              "      <td>3.100270</td>\n",
              "      <td>1</td>\n",
              "      <td>38</td>\n",
              "      <td>white</td>\n",
              "      <td>0</td>\n",
              "      <td>currently_married</td>\n",
              "      <td>ed_assoc</td>\n",
              "      <td>3</td>\n",
              "      <td>left_0</td>\n",
              "      <td>1</td>\n",
              "      <td>1</td>\n",
              "      <td>never_served_mil</td>\n",
              "      <td>2</td>\n",
              "      <td>0</td>\n",
              "      <td>SET_hospital</td>\n",
              "      <td>SIT_agency_facility</td>\n",
              "      <td>LC_others</td>\n",
              "      <td>CC_medical_surgical</td>\n",
              "      <td>state_n29</td>\n",
              "    </tr>\n",
              "  </tbody>\n",
              "</table>\n",
              "</div>\n",
              "    <div class=\"colab-df-buttons\">\n",
              "\n",
              "  <div class=\"colab-df-container\">\n",
              "    <button class=\"colab-df-convert\" onclick=\"convertToInteractive('df-e1e82149-ac61-473a-bb32-bab1a007b328')\"\n",
              "            title=\"Convert this dataframe to an interactive table.\"\n",
              "            style=\"display:none;\">\n",
              "\n",
              "  <svg xmlns=\"http://www.w3.org/2000/svg\" height=\"24px\" viewBox=\"0 -960 960 960\">\n",
              "    <path d=\"M120-120v-720h720v720H120Zm60-500h600v-160H180v160Zm220 220h160v-160H400v160Zm0 220h160v-160H400v160ZM180-400h160v-160H180v160Zm440 0h160v-160H620v160ZM180-180h160v-160H180v160Zm440 0h160v-160H620v160Z\"/>\n",
              "  </svg>\n",
              "    </button>\n",
              "\n",
              "  <style>\n",
              "    .colab-df-container {\n",
              "      display:flex;\n",
              "      gap: 12px;\n",
              "    }\n",
              "\n",
              "    .colab-df-convert {\n",
              "      background-color: #E8F0FE;\n",
              "      border: none;\n",
              "      border-radius: 50%;\n",
              "      cursor: pointer;\n",
              "      display: none;\n",
              "      fill: #1967D2;\n",
              "      height: 32px;\n",
              "      padding: 0 0 0 0;\n",
              "      width: 32px;\n",
              "    }\n",
              "\n",
              "    .colab-df-convert:hover {\n",
              "      background-color: #E2EBFA;\n",
              "      box-shadow: 0px 1px 2px rgba(60, 64, 67, 0.3), 0px 1px 3px 1px rgba(60, 64, 67, 0.15);\n",
              "      fill: #174EA6;\n",
              "    }\n",
              "\n",
              "    .colab-df-buttons div {\n",
              "      margin-bottom: 4px;\n",
              "    }\n",
              "\n",
              "    [theme=dark] .colab-df-convert {\n",
              "      background-color: #3B4455;\n",
              "      fill: #D2E3FC;\n",
              "    }\n",
              "\n",
              "    [theme=dark] .colab-df-convert:hover {\n",
              "      background-color: #434B5C;\n",
              "      box-shadow: 0px 1px 3px 1px rgba(0, 0, 0, 0.15);\n",
              "      filter: drop-shadow(0px 1px 2px rgba(0, 0, 0, 0.3));\n",
              "      fill: #FFFFFF;\n",
              "    }\n",
              "  </style>\n",
              "\n",
              "    <script>\n",
              "      const buttonEl =\n",
              "        document.querySelector('#df-e1e82149-ac61-473a-bb32-bab1a007b328 button.colab-df-convert');\n",
              "      buttonEl.style.display =\n",
              "        google.colab.kernel.accessAllowed ? 'block' : 'none';\n",
              "\n",
              "      async function convertToInteractive(key) {\n",
              "        const element = document.querySelector('#df-e1e82149-ac61-473a-bb32-bab1a007b328');\n",
              "        const dataTable =\n",
              "          await google.colab.kernel.invokeFunction('convertToInteractive',\n",
              "                                                    [key], {});\n",
              "        if (!dataTable) return;\n",
              "\n",
              "        const docLinkHtml = 'Like what you see? Visit the ' +\n",
              "          '<a target=\"_blank\" href=https://colab.research.google.com/notebooks/data_table.ipynb>data table notebook</a>'\n",
              "          + ' to learn more about interactive tables.';\n",
              "        element.innerHTML = '';\n",
              "        dataTable['output_type'] = 'display_data';\n",
              "        await google.colab.output.renderOutput(dataTable, element);\n",
              "        const docLink = document.createElement('div');\n",
              "        docLink.innerHTML = docLinkHtml;\n",
              "        element.appendChild(docLink);\n",
              "      }\n",
              "    </script>\n",
              "  </div>\n",
              "\n",
              "\n",
              "<div id=\"df-b33bf19d-9b4d-4afa-b06c-689fa2c20f36\">\n",
              "  <button class=\"colab-df-quickchart\" onclick=\"quickchart('df-b33bf19d-9b4d-4afa-b06c-689fa2c20f36')\"\n",
              "            title=\"Suggest charts\"\n",
              "            style=\"display:none;\">\n",
              "\n",
              "<svg xmlns=\"http://www.w3.org/2000/svg\" height=\"24px\"viewBox=\"0 0 24 24\"\n",
              "     width=\"24px\">\n",
              "    <g>\n",
              "        <path d=\"M19 3H5c-1.1 0-2 .9-2 2v14c0 1.1.9 2 2 2h14c1.1 0 2-.9 2-2V5c0-1.1-.9-2-2-2zM9 17H7v-7h2v7zm4 0h-2V7h2v10zm4 0h-2v-4h2v4z\"/>\n",
              "    </g>\n",
              "</svg>\n",
              "  </button>\n",
              "\n",
              "<style>\n",
              "  .colab-df-quickchart {\n",
              "      --bg-color: #E8F0FE;\n",
              "      --fill-color: #1967D2;\n",
              "      --hover-bg-color: #E2EBFA;\n",
              "      --hover-fill-color: #174EA6;\n",
              "      --disabled-fill-color: #AAA;\n",
              "      --disabled-bg-color: #DDD;\n",
              "  }\n",
              "\n",
              "  [theme=dark] .colab-df-quickchart {\n",
              "      --bg-color: #3B4455;\n",
              "      --fill-color: #D2E3FC;\n",
              "      --hover-bg-color: #434B5C;\n",
              "      --hover-fill-color: #FFFFFF;\n",
              "      --disabled-bg-color: #3B4455;\n",
              "      --disabled-fill-color: #666;\n",
              "  }\n",
              "\n",
              "  .colab-df-quickchart {\n",
              "    background-color: var(--bg-color);\n",
              "    border: none;\n",
              "    border-radius: 50%;\n",
              "    cursor: pointer;\n",
              "    display: none;\n",
              "    fill: var(--fill-color);\n",
              "    height: 32px;\n",
              "    padding: 0;\n",
              "    width: 32px;\n",
              "  }\n",
              "\n",
              "  .colab-df-quickchart:hover {\n",
              "    background-color: var(--hover-bg-color);\n",
              "    box-shadow: 0 1px 2px rgba(60, 64, 67, 0.3), 0 1px 3px 1px rgba(60, 64, 67, 0.15);\n",
              "    fill: var(--button-hover-fill-color);\n",
              "  }\n",
              "\n",
              "  .colab-df-quickchart-complete:disabled,\n",
              "  .colab-df-quickchart-complete:disabled:hover {\n",
              "    background-color: var(--disabled-bg-color);\n",
              "    fill: var(--disabled-fill-color);\n",
              "    box-shadow: none;\n",
              "  }\n",
              "\n",
              "  .colab-df-spinner {\n",
              "    border: 2px solid var(--fill-color);\n",
              "    border-color: transparent;\n",
              "    border-bottom-color: var(--fill-color);\n",
              "    animation:\n",
              "      spin 1s steps(1) infinite;\n",
              "  }\n",
              "\n",
              "  @keyframes spin {\n",
              "    0% {\n",
              "      border-color: transparent;\n",
              "      border-bottom-color: var(--fill-color);\n",
              "      border-left-color: var(--fill-color);\n",
              "    }\n",
              "    20% {\n",
              "      border-color: transparent;\n",
              "      border-left-color: var(--fill-color);\n",
              "      border-top-color: var(--fill-color);\n",
              "    }\n",
              "    30% {\n",
              "      border-color: transparent;\n",
              "      border-left-color: var(--fill-color);\n",
              "      border-top-color: var(--fill-color);\n",
              "      border-right-color: var(--fill-color);\n",
              "    }\n",
              "    40% {\n",
              "      border-color: transparent;\n",
              "      border-right-color: var(--fill-color);\n",
              "      border-top-color: var(--fill-color);\n",
              "    }\n",
              "    60% {\n",
              "      border-color: transparent;\n",
              "      border-right-color: var(--fill-color);\n",
              "    }\n",
              "    80% {\n",
              "      border-color: transparent;\n",
              "      border-right-color: var(--fill-color);\n",
              "      border-bottom-color: var(--fill-color);\n",
              "    }\n",
              "    90% {\n",
              "      border-color: transparent;\n",
              "      border-bottom-color: var(--fill-color);\n",
              "    }\n",
              "  }\n",
              "</style>\n",
              "\n",
              "  <script>\n",
              "    async function quickchart(key) {\n",
              "      const quickchartButtonEl =\n",
              "        document.querySelector('#' + key + ' button');\n",
              "      quickchartButtonEl.disabled = true;  // To prevent multiple clicks.\n",
              "      quickchartButtonEl.classList.add('colab-df-spinner');\n",
              "      try {\n",
              "        const charts = await google.colab.kernel.invokeFunction(\n",
              "            'suggestCharts', [key], {});\n",
              "      } catch (error) {\n",
              "        console.error('Error during call to suggestCharts:', error);\n",
              "      }\n",
              "      quickchartButtonEl.classList.remove('colab-df-spinner');\n",
              "      quickchartButtonEl.classList.add('colab-df-quickchart-complete');\n",
              "    }\n",
              "    (() => {\n",
              "      let quickchartButtonEl =\n",
              "        document.querySelector('#df-b33bf19d-9b4d-4afa-b06c-689fa2c20f36 button');\n",
              "      quickchartButtonEl.style.display =\n",
              "        google.colab.kernel.accessAllowed ? 'block' : 'none';\n",
              "    })();\n",
              "  </script>\n",
              "</div>\n",
              "\n",
              "    </div>\n",
              "  </div>\n"
            ],
            "application/vnd.google.colaboratory.intrinsic+json": {
              "type": "dataframe",
              "summary": "{\n  \"name\": \"df\",\n  \"rows\": 5,\n  \"fields\": [\n    {\n      \"column\": \"lwage\",\n      \"properties\": {\n        \"dtype\": \"number\",\n        \"std\": 0.35791885661472633,\n        \"min\": 3.10027,\n        \"max\": 3.9579601,\n        \"num_unique_values\": 5,\n        \"samples\": [\n          3.6784081,\n          3.10027,\n          3.9528449\n        ],\n        \"semantic_type\": \"\",\n        \"description\": \"\"\n      }\n    },\n    {\n      \"column\": \"female\",\n      \"properties\": {\n        \"dtype\": \"number\",\n        \"std\": 0,\n        \"min\": 0,\n        \"max\": 1,\n        \"num_unique_values\": 2,\n        \"samples\": [\n          0,\n          1\n        ],\n        \"semantic_type\": \"\",\n        \"description\": \"\"\n      }\n    },\n    {\n      \"column\": \"age\",\n      \"properties\": {\n        \"dtype\": \"number\",\n        \"std\": 15,\n        \"min\": 36,\n        \"max\": 72,\n        \"num_unique_values\": 5,\n        \"samples\": [\n          50,\n          38\n        ],\n        \"semantic_type\": \"\",\n        \"description\": \"\"\n      }\n    },\n    {\n      \"column\": \"race\",\n      \"properties\": {\n        \"dtype\": \"category\",\n        \"num_unique_values\": 1,\n        \"samples\": [\n          \"white\"\n        ],\n        \"semantic_type\": \"\",\n        \"description\": \"\"\n      }\n    },\n    {\n      \"column\": \"children\",\n      \"properties\": {\n        \"dtype\": \"number\",\n        \"std\": 0,\n        \"min\": 0,\n        \"max\": 0,\n        \"num_unique_values\": 1,\n        \"samples\": [\n          0\n        ],\n        \"semantic_type\": \"\",\n        \"description\": \"\"\n      }\n    },\n    {\n      \"column\": \"marital\",\n      \"properties\": {\n        \"dtype\": \"string\",\n        \"num_unique_values\": 3,\n        \"samples\": [\n          \"widowed_divorced_sep\"\n        ],\n        \"semantic_type\": \"\",\n        \"description\": \"\"\n      }\n    },\n    {\n      \"column\": \"education\",\n      \"properties\": {\n        \"dtype\": \"string\",\n        \"num_unique_values\": 3,\n        \"samples\": [\n          \"ed_assoc\"\n        ],\n        \"semantic_type\": \"\",\n        \"description\": \"\"\n      }\n    },\n    {\n      \"column\": \"RN_experience\",\n      \"properties\": {\n        \"dtype\": \"number\",\n        \"std\": 21,\n        \"min\": 3,\n        \"max\": 51,\n        \"num_unique_values\": 5,\n        \"samples\": [\n          14\n        ],\n        \"semantic_type\": \"\",\n        \"description\": \"\"\n      }\n    },\n    {\n      \"column\": \"left_nursing\",\n      \"properties\": {\n        \"dtype\": \"category\",\n        \"num_unique_values\": 1,\n        \"samples\": [\n          \"left_0\"\n        ],\n        \"semantic_type\": \"\",\n        \"description\": \"\"\n      }\n    },\n    {\n      \"column\": \"country_ed_US\",\n      \"properties\": {\n        \"dtype\": \"number\",\n        \"std\": 0,\n        \"min\": 1,\n        \"max\": 1,\n        \"num_unique_values\": 1,\n        \"samples\": [\n          1\n        ],\n        \"semantic_type\": \"\",\n        \"description\": \"\"\n      }\n    },\n    {\n      \"column\": \"english_only\",\n      \"properties\": {\n        \"dtype\": \"number\",\n        \"std\": 0,\n        \"min\": 1,\n        \"max\": 1,\n        \"num_unique_values\": 1,\n        \"samples\": [\n          1\n        ],\n        \"semantic_type\": \"\",\n        \"description\": \"\"\n      }\n    },\n    {\n      \"column\": \"military\",\n      \"properties\": {\n        \"dtype\": \"category\",\n        \"num_unique_values\": 1,\n        \"samples\": [\n          \"never_served_mil\"\n        ],\n        \"semantic_type\": \"\",\n        \"description\": \"\"\n      }\n    },\n    {\n      \"column\": \"certificates\",\n      \"properties\": {\n        \"dtype\": \"number\",\n        \"std\": 1,\n        \"min\": 0,\n        \"max\": 2,\n        \"num_unique_values\": 2,\n        \"samples\": [\n          2\n        ],\n        \"semantic_type\": \"\",\n        \"description\": \"\"\n      }\n    },\n    {\n      \"column\": \"labor_union\",\n      \"properties\": {\n        \"dtype\": \"number\",\n        \"std\": 0,\n        \"min\": 0,\n        \"max\": 1,\n        \"num_unique_values\": 2,\n        \"samples\": [\n          1\n        ],\n        \"semantic_type\": \"\",\n        \"description\": \"\"\n      }\n    },\n    {\n      \"column\": \"work_setting\",\n      \"properties\": {\n        \"dtype\": \"category\",\n        \"num_unique_values\": 2,\n        \"samples\": [\n          \"SET_hospital\"\n        ],\n        \"semantic_type\": \"\",\n        \"description\": \"\"\n      }\n    },\n    {\n      \"column\": \"work_situation\",\n      \"properties\": {\n        \"dtype\": \"category\",\n        \"num_unique_values\": 2,\n        \"samples\": [\n          \"SIT_agency_facility\"\n        ],\n        \"semantic_type\": \"\",\n        \"description\": \"\"\n      }\n    },\n    {\n      \"column\": \"level_care\",\n      \"properties\": {\n        \"dtype\": \"string\",\n        \"num_unique_values\": 4,\n        \"samples\": [\n          \"LC_education\"\n        ],\n        \"semantic_type\": \"\",\n        \"description\": \"\"\n      }\n    },\n    {\n      \"column\": \"care_specialty\",\n      \"properties\": {\n        \"dtype\": \"string\",\n        \"num_unique_values\": 4,\n        \"samples\": [\n          \"CC_emergency_care\"\n        ],\n        \"semantic_type\": \"\",\n        \"description\": \"\"\n      }\n    },\n    {\n      \"column\": \"state\",\n      \"properties\": {\n        \"dtype\": \"string\",\n        \"num_unique_values\": 5,\n        \"samples\": [\n          \"state_n24\"\n        ],\n        \"semantic_type\": \"\",\n        \"description\": \"\"\n      }\n    }\n  ]\n}"
            }
          },
          "metadata": {},
          "execution_count": 2
        }
      ],
      "source": [
        "# Read data\n",
        "path_data = \"https://github.com/pabloestradac/causalml-basics/raw/main/data/\"\n",
        "df = pd.read_csv(path_data + 'wages_nurses.csv')\n",
        "df.tail()"
      ]
    },
    {
      "cell_type": "code",
      "execution_count": 3,
      "metadata": {
        "id": "fUxf95F1B2EE",
        "outputId": "c9c912bb-5d2a-4ad9-d0f4-62c6cfbfbe1b",
        "colab": {
          "base_uri": "https://localhost:8080/"
        }
      },
      "outputs": [
        {
          "output_type": "execute_result",
          "data": {
            "text/plain": [
              "(5622, 18)"
            ]
          },
          "metadata": {},
          "execution_count": 3
        }
      ],
      "source": [
        "# Outcome and regressors\n",
        "y = np.log(df['lwage']).values\n",
        "Z = df.drop(['lwage'], axis=1)\n",
        "Z.shape"
      ]
    },
    {
      "cell_type": "markdown",
      "metadata": {
        "id": "RoAYX9ZyNDpj"
      },
      "source": [
        "Construct a prediction rule for hourly (log) wage $y$, which depends linearly on relevant characteristics $Z$:\n",
        "\n",
        "$$\n",
        "y = g(Z) + e\n",
        "$$\n",
        "\n",
        "Then, assess the predictive performance of a given model using the (adjusted) sample MSE, the (adjusted) sample $R^2$ and the out-of-sample MSE and $R^2$. Thus, we measure the prediction quality of the models via data splitting.\n"
      ]
    },
    {
      "cell_type": "code",
      "execution_count": 5,
      "metadata": {
        "id": "ryZHJc40NDpk"
      },
      "outputs": [],
      "source": [
        "# Obtain train_idx and test_idx to divide y_train and y_test\n",
        "train_idx, test_idx = train_test_split(np.arange(len(y)), test_size=0.3, random_state=42) #creates an array of integers from 0 to len(y)-1.\n",
        "#these are then split into training and testing indices.\n",
        "\n",
        "y_train, y_test = y[train_idx], y[test_idx] #it's good to have indexes because we'll be applying a lot of transformations to this data."
      ]
    },
    {
      "cell_type": "markdown",
      "metadata": {
        "id": "ZMPoAOhnNDpk"
      },
      "source": [
        "## Linear Models\n",
        "\n",
        "We employ two different specifications for prediction:\n",
        "\n",
        "1. Basic Model: $X$ consists of a set of raw regressors\n",
        "\n",
        "2. Flexible Model: $X$ consists of all raw regressors from the basic model plus a dictionary of transformations.\n"
      ]
    },
    {
      "cell_type": "code",
      "execution_count": 6,
      "metadata": {
        "id": "d8D89aBZXzEF"
      },
      "outputs": [],
      "source": [
        "model_base = ('0 + female + age + race + children + marital '\n",
        "              '+ education + RN_experience + RN_experience**2 + RN_experience**3 + RN_experience**4 '\n",
        "              '+ left_nursing + country_ed_US + english_only + military + certificates'\n",
        "              '+ labor_union + work_setting + work_situation + level_care + care_specialty + state')\n",
        "#we add the zero because with scikit learn we don't want an intercept.\n",
        "Zbase = patsy.dmatrix(model_base, Z, return_type='dataframe').values\n",
        "X_train, X_test = Zbase[train_idx], Zbase[test_idx]"
      ]
    },
    {
      "cell_type": "code",
      "execution_count": 7,
      "metadata": {
        "id": "rlMPubjEXzEG"
      },
      "outputs": [],
      "source": [
        "def metrics(X_test, y_test, estimator):\n",
        "    mse = np.mean((y_test - estimator.predict(X_test))**2)\n",
        "    semse = np.std((y_test - estimator.predict(X_test))**2) / np.sqrt(len(y_test))\n",
        "    r2 = 1 - mse / np.var(y_test)\n",
        "    print(f'{mse:.4f}, {semse:.4f}, {r2:.4f}')\n",
        "    return mse, semse, r2\n",
        "\n",
        "results = {}"
      ]
    },
    {
      "cell_type": "markdown",
      "metadata": {
        "id": "PPt0pZtgOMSn"
      },
      "source": [
        "Let's start by running a simple OLS regression."
      ]
    },
    {
      "cell_type": "code",
      "execution_count": 8,
      "metadata": {
        "id": "DcTekwMGXzEG",
        "outputId": "f05bcab2-3704-40a3-a84d-416c151a710b",
        "colab": {
          "base_uri": "https://localhost:8080/"
        }
      },
      "outputs": [
        {
          "output_type": "stream",
          "name": "stdout",
          "text": [
            "0.0079, 0.0005, 0.2313\n"
          ]
        }
      ],
      "source": [
        "# OLS using LinearRegression\n",
        "lr = LinearRegression()\n",
        "ypred_ols = lr.fit(X_train, y_train).predict(X_test) #always use X_test for prediction.\n",
        "results['ols'] = metrics(X_test, y_test, lr)"
      ]
    },
    {
      "cell_type": "code",
      "execution_count": 9,
      "metadata": {
        "id": "Yb3ov7yPXzEH",
        "outputId": "3ea729c7-dd11-4b31-eb04-b88a6f8d8bb2",
        "colab": {
          "base_uri": "https://localhost:8080/"
        }
      },
      "outputs": [
        {
          "output_type": "stream",
          "name": "stdout",
          "text": [
            "0.0078, 0.0005, 0.2321\n"
          ]
        }
      ],
      "source": [
        "cv = KFold(n_splits=10, shuffle=True, random_state=42)\n",
        "\n",
        "# Lasso\n",
        "lcv = make_pipeline(StandardScaler(), LassoCV(cv=cv, random_state=42)) #we use LASSO cv, because otherwise we'd have to define a Lambda.\n",
        "lcv.fit(X_train, y_train) #we fit the lasso model on the training set.\n",
        "ypred_lcv = lcv.predict(X_test) #now we predict.\n",
        "results['lassocv'] = metrics(X_test, y_test, lcv)"
      ]
    },
    {
      "cell_type": "code",
      "execution_count": 12,
      "metadata": {
        "id": "9QIH9QmPXzEH",
        "outputId": "0cebd96b-10ef-48eb-ae42-ca8d20557cff",
        "colab": {
          "base_uri": "https://localhost:8080/"
        }
      },
      "outputs": [
        {
          "output_type": "stream",
          "name": "stdout",
          "text": [
            "0.0078, 0.0005, 0.2316\n"
          ]
        }
      ],
      "source": [
        "# Ridge\n",
        "rcv = make_pipeline(StandardScaler(), RidgeCV(cv=cv))\n",
        "rcv.fit(X_train, y_train)\n",
        "ypred_rcv = rcv.predict(X_test)\n",
        "results['ridgecv'] = metrics(X_test, y_test, rcv)"
      ]
    },
    {
      "cell_type": "code",
      "execution_count": 13,
      "metadata": {
        "id": "_9rY6AfzXzEH",
        "outputId": "1cb40df8-327a-4040-fc51-2bcf9792d2c3",
        "colab": {
          "base_uri": "https://localhost:8080/"
        }
      },
      "outputs": [
        {
          "output_type": "stream",
          "name": "stdout",
          "text": [
            "0.0078, 0.0005, 0.2321\n"
          ]
        }
      ],
      "source": [
        "# Elastic Net\n",
        "ecv = make_pipeline(StandardScaler(), ElasticNetCV(cv=cv, random_state=42))\n",
        "ecv.fit(X_train, y_train)\n",
        "ypred_ecv = ecv.predict(X_test)\n",
        "results['elanetcv'] = metrics(X_test, y_test, ecv)"
      ]
    },
    {
      "cell_type": "code",
      "source": [
        "X_train.shape"
      ],
      "metadata": {
        "id": "ld6sFauVd8-O",
        "outputId": "e4b9b570-d724-40bf-c755-dd22c49b0b14",
        "colab": {
          "base_uri": "https://localhost:8080/"
        }
      },
      "execution_count": 14,
      "outputs": [
        {
          "output_type": "execute_result",
          "data": {
            "text/plain": [
              "(3935, 96)"
            ]
          },
          "metadata": {},
          "execution_count": 14
        }
      ]
    },
    {
      "cell_type": "markdown",
      "metadata": {
        "id": "iv7sJhnOXzEH"
      },
      "source": [
        "Use theoretical-optimal $\\lambda$ for lasso.\n",
        "\n",
        "This is a based on a Python implementation made by [Max Huppertz](https://maxhuppertz.github.io/code/). His library is this [repository](https://github.com/maxhuppertz/hdmpy).\n",
        "\n",
        "Run the following code to install the library:\n",
        "\n",
        "```python\n",
        "!git clone https://github.com/maxhuppertz/hdmpy.git\n",
        "!pip install multiprocess\n",
        "```"
      ]
    },
    {
      "cell_type": "code",
      "source": [
        "!git clone https://github.com/maxhuppertz/hdmpy.git\n",
        "!pip install multiprocess"
      ],
      "metadata": {
        "collapsed": true,
        "id": "Or-ioabRekuc",
        "outputId": "c51e7a9e-4ca3-45b3-e1ea-0746ce7f59a5",
        "colab": {
          "base_uri": "https://localhost:8080/"
        }
      },
      "execution_count": 16,
      "outputs": [
        {
          "output_type": "stream",
          "name": "stdout",
          "text": [
            "Cloning into 'hdmpy'...\n",
            "remote: Enumerating objects: 70, done.\u001b[K\n",
            "remote: Counting objects: 100% (70/70), done.\u001b[K\n",
            "remote: Compressing objects: 100% (49/49), done.\u001b[K\n",
            "remote: Total 70 (delta 39), reused 52 (delta 21), pack-reused 0 (from 0)\u001b[K\n",
            "Receiving objects: 100% (70/70), 25.30 KiB | 2.53 MiB/s, done.\n",
            "Resolving deltas: 100% (39/39), done.\n",
            "Collecting multiprocess\n",
            "  Downloading multiprocess-0.70.17-py310-none-any.whl.metadata (7.2 kB)\n",
            "Collecting dill>=0.3.9 (from multiprocess)\n",
            "  Downloading dill-0.3.9-py3-none-any.whl.metadata (10 kB)\n",
            "Downloading multiprocess-0.70.17-py310-none-any.whl (134 kB)\n",
            "\u001b[2K   \u001b[90m━━━━━━━━━━━━━━━━━━━━━━━━━━━━━━━━━━━━━━━━\u001b[0m \u001b[32m134.8/134.8 kB\u001b[0m \u001b[31m2.1 MB/s\u001b[0m eta \u001b[36m0:00:00\u001b[0m\n",
            "\u001b[?25hDownloading dill-0.3.9-py3-none-any.whl (119 kB)\n",
            "\u001b[2K   \u001b[90m━━━━━━━━━━━━━━━━━━━━━━━━━━━━━━━━━━━━━━━━\u001b[0m \u001b[32m119.4/119.4 kB\u001b[0m \u001b[31m5.1 MB/s\u001b[0m eta \u001b[36m0:00:00\u001b[0m\n",
            "\u001b[?25hInstalling collected packages: dill, multiprocess\n",
            "Successfully installed dill-0.3.9 multiprocess-0.70.17\n"
          ]
        }
      ]
    },
    {
      "cell_type": "code",
      "execution_count": 17,
      "metadata": {
        "id": "dLOYDwPtXzEL"
      },
      "outputs": [],
      "source": [
        "import hdmpy #python version of r's HDM (high dimensional models)\n",
        "\n",
        "# Wrap the package so that it has the familiar sklearn API\n",
        "class RLasso(BaseEstimator, RegressorMixin):\n",
        "\n",
        "    def __init__(self, *, post=True):\n",
        "        self.post = post\n",
        "\n",
        "    def fit(self, X, y):\n",
        "        self.rlasso_ = hdmpy.rlasso(X, y, post=self.post)\n",
        "        return self\n",
        "\n",
        "    @property\n",
        "    def coef_(self):\n",
        "        return np.array(self.rlasso_.est['beta']).flatten()\n",
        "\n",
        "    @property\n",
        "    def intercept_(self):\n",
        "        return np.array(self.rlasso_.est['intercept'])\n",
        "\n",
        "    def predict(self, X):\n",
        "        return X @ self.coef_ + self.intercept_"
      ]
    },
    {
      "cell_type": "code",
      "execution_count": 19,
      "metadata": {
        "id": "gr5y5MdrXzEM",
        "outputId": "d497b338-005f-4c19-d93e-ab0f5a2a5792",
        "colab": {
          "base_uri": "https://localhost:8080/"
        }
      },
      "outputs": [
        {
          "output_type": "stream",
          "name": "stdout",
          "text": [
            "0.0082, 0.0005, 0.2006\n"
          ]
        }
      ],
      "source": [
        "# Optimal lasso\n",
        "lasso = make_pipeline(StandardScaler(), RLasso(post=False))\n",
        "lasso.fit(X_train, y_train)\n",
        "ypred_lasso = lasso.predict(X_test)\n",
        "results['lasso'] = metrics(X_test, y_test, lasso)"
      ]
    },
    {
      "cell_type": "code",
      "execution_count": 20,
      "metadata": {
        "id": "JwgiRcnOXzEM",
        "outputId": "56acca86-7898-4e2a-9296-c5231dd7e5f2",
        "colab": {
          "base_uri": "https://localhost:8080/"
        }
      },
      "outputs": [
        {
          "output_type": "stream",
          "name": "stdout",
          "text": [
            "0.0084, 0.0006, 0.1749\n"
          ]
        }
      ],
      "source": [
        "# Optimal post-lasso\n",
        "postlasso = make_pipeline(StandardScaler(), RLasso(post=True))\n",
        "postlasso.fit(X_train, y_train)\n",
        "ypred_postlasso = postlasso.predict(X_test)\n",
        "results['postlasso'] = metrics(X_test, y_test, postlasso)"
      ]
    },
    {
      "cell_type": "code",
      "source": [
        "pd.DataFrame(results).T #by looking at this table we can see that every model performs kind of the same as OLS."
      ],
      "metadata": {
        "id": "zA6cGIuQf10t",
        "outputId": "814de497-f7d3-4077-d311-53c729434071",
        "colab": {
          "base_uri": "https://localhost:8080/",
          "height": 238
        }
      },
      "execution_count": 22,
      "outputs": [
        {
          "output_type": "execute_result",
          "data": {
            "text/plain": [
              "                  0         1         2\n",
              "ols        0.007852  0.000513  0.231310\n",
              "lassocv    0.007843  0.000515  0.232147\n",
              "ridgecv    0.007849  0.000513  0.231600\n",
              "elanetcv   0.007844  0.000515  0.232127\n",
              "lasso      0.008165  0.000533  0.200628\n",
              "postlasso  0.008428  0.000556  0.174893"
            ],
            "text/html": [
              "\n",
              "  <div id=\"df-7621abdb-fe76-4573-ad96-85766a93324f\" class=\"colab-df-container\">\n",
              "    <div>\n",
              "<style scoped>\n",
              "    .dataframe tbody tr th:only-of-type {\n",
              "        vertical-align: middle;\n",
              "    }\n",
              "\n",
              "    .dataframe tbody tr th {\n",
              "        vertical-align: top;\n",
              "    }\n",
              "\n",
              "    .dataframe thead th {\n",
              "        text-align: right;\n",
              "    }\n",
              "</style>\n",
              "<table border=\"1\" class=\"dataframe\">\n",
              "  <thead>\n",
              "    <tr style=\"text-align: right;\">\n",
              "      <th></th>\n",
              "      <th>0</th>\n",
              "      <th>1</th>\n",
              "      <th>2</th>\n",
              "    </tr>\n",
              "  </thead>\n",
              "  <tbody>\n",
              "    <tr>\n",
              "      <th>ols</th>\n",
              "      <td>0.007852</td>\n",
              "      <td>0.000513</td>\n",
              "      <td>0.231310</td>\n",
              "    </tr>\n",
              "    <tr>\n",
              "      <th>lassocv</th>\n",
              "      <td>0.007843</td>\n",
              "      <td>0.000515</td>\n",
              "      <td>0.232147</td>\n",
              "    </tr>\n",
              "    <tr>\n",
              "      <th>ridgecv</th>\n",
              "      <td>0.007849</td>\n",
              "      <td>0.000513</td>\n",
              "      <td>0.231600</td>\n",
              "    </tr>\n",
              "    <tr>\n",
              "      <th>elanetcv</th>\n",
              "      <td>0.007844</td>\n",
              "      <td>0.000515</td>\n",
              "      <td>0.232127</td>\n",
              "    </tr>\n",
              "    <tr>\n",
              "      <th>lasso</th>\n",
              "      <td>0.008165</td>\n",
              "      <td>0.000533</td>\n",
              "      <td>0.200628</td>\n",
              "    </tr>\n",
              "    <tr>\n",
              "      <th>postlasso</th>\n",
              "      <td>0.008428</td>\n",
              "      <td>0.000556</td>\n",
              "      <td>0.174893</td>\n",
              "    </tr>\n",
              "  </tbody>\n",
              "</table>\n",
              "</div>\n",
              "    <div class=\"colab-df-buttons\">\n",
              "\n",
              "  <div class=\"colab-df-container\">\n",
              "    <button class=\"colab-df-convert\" onclick=\"convertToInteractive('df-7621abdb-fe76-4573-ad96-85766a93324f')\"\n",
              "            title=\"Convert this dataframe to an interactive table.\"\n",
              "            style=\"display:none;\">\n",
              "\n",
              "  <svg xmlns=\"http://www.w3.org/2000/svg\" height=\"24px\" viewBox=\"0 -960 960 960\">\n",
              "    <path d=\"M120-120v-720h720v720H120Zm60-500h600v-160H180v160Zm220 220h160v-160H400v160Zm0 220h160v-160H400v160ZM180-400h160v-160H180v160Zm440 0h160v-160H620v160ZM180-180h160v-160H180v160Zm440 0h160v-160H620v160Z\"/>\n",
              "  </svg>\n",
              "    </button>\n",
              "\n",
              "  <style>\n",
              "    .colab-df-container {\n",
              "      display:flex;\n",
              "      gap: 12px;\n",
              "    }\n",
              "\n",
              "    .colab-df-convert {\n",
              "      background-color: #E8F0FE;\n",
              "      border: none;\n",
              "      border-radius: 50%;\n",
              "      cursor: pointer;\n",
              "      display: none;\n",
              "      fill: #1967D2;\n",
              "      height: 32px;\n",
              "      padding: 0 0 0 0;\n",
              "      width: 32px;\n",
              "    }\n",
              "\n",
              "    .colab-df-convert:hover {\n",
              "      background-color: #E2EBFA;\n",
              "      box-shadow: 0px 1px 2px rgba(60, 64, 67, 0.3), 0px 1px 3px 1px rgba(60, 64, 67, 0.15);\n",
              "      fill: #174EA6;\n",
              "    }\n",
              "\n",
              "    .colab-df-buttons div {\n",
              "      margin-bottom: 4px;\n",
              "    }\n",
              "\n",
              "    [theme=dark] .colab-df-convert {\n",
              "      background-color: #3B4455;\n",
              "      fill: #D2E3FC;\n",
              "    }\n",
              "\n",
              "    [theme=dark] .colab-df-convert:hover {\n",
              "      background-color: #434B5C;\n",
              "      box-shadow: 0px 1px 3px 1px rgba(0, 0, 0, 0.15);\n",
              "      filter: drop-shadow(0px 1px 2px rgba(0, 0, 0, 0.3));\n",
              "      fill: #FFFFFF;\n",
              "    }\n",
              "  </style>\n",
              "\n",
              "    <script>\n",
              "      const buttonEl =\n",
              "        document.querySelector('#df-7621abdb-fe76-4573-ad96-85766a93324f button.colab-df-convert');\n",
              "      buttonEl.style.display =\n",
              "        google.colab.kernel.accessAllowed ? 'block' : 'none';\n",
              "\n",
              "      async function convertToInteractive(key) {\n",
              "        const element = document.querySelector('#df-7621abdb-fe76-4573-ad96-85766a93324f');\n",
              "        const dataTable =\n",
              "          await google.colab.kernel.invokeFunction('convertToInteractive',\n",
              "                                                    [key], {});\n",
              "        if (!dataTable) return;\n",
              "\n",
              "        const docLinkHtml = 'Like what you see? Visit the ' +\n",
              "          '<a target=\"_blank\" href=https://colab.research.google.com/notebooks/data_table.ipynb>data table notebook</a>'\n",
              "          + ' to learn more about interactive tables.';\n",
              "        element.innerHTML = '';\n",
              "        dataTable['output_type'] = 'display_data';\n",
              "        await google.colab.output.renderOutput(dataTable, element);\n",
              "        const docLink = document.createElement('div');\n",
              "        docLink.innerHTML = docLinkHtml;\n",
              "        element.appendChild(docLink);\n",
              "      }\n",
              "    </script>\n",
              "  </div>\n",
              "\n",
              "\n",
              "<div id=\"df-27d031ae-7ce0-43a0-8bcf-2f506a1d2864\">\n",
              "  <button class=\"colab-df-quickchart\" onclick=\"quickchart('df-27d031ae-7ce0-43a0-8bcf-2f506a1d2864')\"\n",
              "            title=\"Suggest charts\"\n",
              "            style=\"display:none;\">\n",
              "\n",
              "<svg xmlns=\"http://www.w3.org/2000/svg\" height=\"24px\"viewBox=\"0 0 24 24\"\n",
              "     width=\"24px\">\n",
              "    <g>\n",
              "        <path d=\"M19 3H5c-1.1 0-2 .9-2 2v14c0 1.1.9 2 2 2h14c1.1 0 2-.9 2-2V5c0-1.1-.9-2-2-2zM9 17H7v-7h2v7zm4 0h-2V7h2v10zm4 0h-2v-4h2v4z\"/>\n",
              "    </g>\n",
              "</svg>\n",
              "  </button>\n",
              "\n",
              "<style>\n",
              "  .colab-df-quickchart {\n",
              "      --bg-color: #E8F0FE;\n",
              "      --fill-color: #1967D2;\n",
              "      --hover-bg-color: #E2EBFA;\n",
              "      --hover-fill-color: #174EA6;\n",
              "      --disabled-fill-color: #AAA;\n",
              "      --disabled-bg-color: #DDD;\n",
              "  }\n",
              "\n",
              "  [theme=dark] .colab-df-quickchart {\n",
              "      --bg-color: #3B4455;\n",
              "      --fill-color: #D2E3FC;\n",
              "      --hover-bg-color: #434B5C;\n",
              "      --hover-fill-color: #FFFFFF;\n",
              "      --disabled-bg-color: #3B4455;\n",
              "      --disabled-fill-color: #666;\n",
              "  }\n",
              "\n",
              "  .colab-df-quickchart {\n",
              "    background-color: var(--bg-color);\n",
              "    border: none;\n",
              "    border-radius: 50%;\n",
              "    cursor: pointer;\n",
              "    display: none;\n",
              "    fill: var(--fill-color);\n",
              "    height: 32px;\n",
              "    padding: 0;\n",
              "    width: 32px;\n",
              "  }\n",
              "\n",
              "  .colab-df-quickchart:hover {\n",
              "    background-color: var(--hover-bg-color);\n",
              "    box-shadow: 0 1px 2px rgba(60, 64, 67, 0.3), 0 1px 3px 1px rgba(60, 64, 67, 0.15);\n",
              "    fill: var(--button-hover-fill-color);\n",
              "  }\n",
              "\n",
              "  .colab-df-quickchart-complete:disabled,\n",
              "  .colab-df-quickchart-complete:disabled:hover {\n",
              "    background-color: var(--disabled-bg-color);\n",
              "    fill: var(--disabled-fill-color);\n",
              "    box-shadow: none;\n",
              "  }\n",
              "\n",
              "  .colab-df-spinner {\n",
              "    border: 2px solid var(--fill-color);\n",
              "    border-color: transparent;\n",
              "    border-bottom-color: var(--fill-color);\n",
              "    animation:\n",
              "      spin 1s steps(1) infinite;\n",
              "  }\n",
              "\n",
              "  @keyframes spin {\n",
              "    0% {\n",
              "      border-color: transparent;\n",
              "      border-bottom-color: var(--fill-color);\n",
              "      border-left-color: var(--fill-color);\n",
              "    }\n",
              "    20% {\n",
              "      border-color: transparent;\n",
              "      border-left-color: var(--fill-color);\n",
              "      border-top-color: var(--fill-color);\n",
              "    }\n",
              "    30% {\n",
              "      border-color: transparent;\n",
              "      border-left-color: var(--fill-color);\n",
              "      border-top-color: var(--fill-color);\n",
              "      border-right-color: var(--fill-color);\n",
              "    }\n",
              "    40% {\n",
              "      border-color: transparent;\n",
              "      border-right-color: var(--fill-color);\n",
              "      border-top-color: var(--fill-color);\n",
              "    }\n",
              "    60% {\n",
              "      border-color: transparent;\n",
              "      border-right-color: var(--fill-color);\n",
              "    }\n",
              "    80% {\n",
              "      border-color: transparent;\n",
              "      border-right-color: var(--fill-color);\n",
              "      border-bottom-color: var(--fill-color);\n",
              "    }\n",
              "    90% {\n",
              "      border-color: transparent;\n",
              "      border-bottom-color: var(--fill-color);\n",
              "    }\n",
              "  }\n",
              "</style>\n",
              "\n",
              "  <script>\n",
              "    async function quickchart(key) {\n",
              "      const quickchartButtonEl =\n",
              "        document.querySelector('#' + key + ' button');\n",
              "      quickchartButtonEl.disabled = true;  // To prevent multiple clicks.\n",
              "      quickchartButtonEl.classList.add('colab-df-spinner');\n",
              "      try {\n",
              "        const charts = await google.colab.kernel.invokeFunction(\n",
              "            'suggestCharts', [key], {});\n",
              "      } catch (error) {\n",
              "        console.error('Error during call to suggestCharts:', error);\n",
              "      }\n",
              "      quickchartButtonEl.classList.remove('colab-df-spinner');\n",
              "      quickchartButtonEl.classList.add('colab-df-quickchart-complete');\n",
              "    }\n",
              "    (() => {\n",
              "      let quickchartButtonEl =\n",
              "        document.querySelector('#df-27d031ae-7ce0-43a0-8bcf-2f506a1d2864 button');\n",
              "      quickchartButtonEl.style.display =\n",
              "        google.colab.kernel.accessAllowed ? 'block' : 'none';\n",
              "    })();\n",
              "  </script>\n",
              "</div>\n",
              "\n",
              "    </div>\n",
              "  </div>\n"
            ],
            "application/vnd.google.colaboratory.intrinsic+json": {
              "type": "dataframe",
              "summary": "{\n  \"name\": \"pd\",\n  \"rows\": 6,\n  \"fields\": [\n    {\n      \"column\": 0,\n      \"properties\": {\n        \"dtype\": \"number\",\n        \"std\": 0.0002467267104186932,\n        \"min\": 0.007843317615569962,\n        \"max\": 0.008428144203864554,\n        \"num_unique_values\": 6,\n        \"samples\": [\n          0.007851871793500147,\n          0.007843317615569962,\n          0.008428144203864554\n        ],\n        \"semantic_type\": \"\",\n        \"description\": \"\"\n      }\n    },\n    {\n      \"column\": 1,\n      \"properties\": {\n        \"dtype\": \"number\",\n        \"std\": 1.722484285073206e-05,\n        \"min\": 0.0005133870038061576,\n        \"max\": 0.0005559900164111718,\n        \"num_unique_values\": 6,\n        \"samples\": [\n          0.0005133870038061576,\n          0.0005150023366373109,\n          0.0005559900164111718\n        ],\n        \"semantic_type\": \"\",\n        \"description\": \"\"\n      }\n    },\n    {\n      \"column\": 2,\n      \"properties\": {\n        \"dtype\": \"number\",\n        \"std\": 0.024154298797597586,\n        \"min\": 0.17489309096725703,\n        \"max\": 0.23214703049603902,\n        \"num_unique_values\": 6,\n        \"samples\": [\n          0.2313095850109398,\n          0.23214703049603902,\n          0.17489309096725703\n        ],\n        \"semantic_type\": \"\",\n        \"description\": \"\"\n      }\n    }\n  ]\n}"
            }
          },
          "metadata": {},
          "execution_count": 22
        }
      ]
    },
    {
      "cell_type": "markdown",
      "metadata": {
        "id": "sy-KINKTXzEM"
      },
      "source": [
        "## Non-Linear Models"
      ]
    },
    {
      "cell_type": "markdown",
      "metadata": {
        "id": "02dJMG8WXzEM"
      },
      "source": [
        "Apply regression trees, random forests, boosted trees and neural nets to estimate the regression function $g(Z)$."
      ]
    },
    {
      "cell_type": "code",
      "execution_count": 24,
      "metadata": {
        "id": "vS7hcZ4WXzEN",
        "outputId": "25b5a1ca-af09-4db1-b90e-596341c31663",
        "colab": {
          "base_uri": "https://localhost:8080/"
        }
      },
      "outputs": [
        {
          "output_type": "stream",
          "name": "stdout",
          "text": [
            "0.0108, 0.0006, -0.0608\n"
          ]
        }
      ],
      "source": [
        "dtr = DecisionTreeRegressor(min_samples_leaf=5)\n",
        "dtr.fit(X_train, y_train)\n",
        "ypred_dtr = dtr.predict(X_test)\n",
        "results['trees'] = metrics(X_test, y_test, dtr)"
      ]
    },
    {
      "cell_type": "code",
      "execution_count": 25,
      "metadata": {
        "id": "xcDIsHugXzEN",
        "outputId": "5a2cbf2c-3a94-431d-dab7-5a2db501f69d",
        "colab": {
          "base_uri": "https://localhost:8080/"
        }
      },
      "outputs": [
        {
          "output_type": "stream",
          "name": "stdout",
          "text": [
            "0.0082, 0.0005, 0.2021\n"
          ]
        }
      ],
      "source": [
        "rf = RandomForestRegressor(n_estimators=5000, min_samples_leaf=5)\n",
        "rf.fit(X_train, y_train)\n",
        "ypred_rf = rf.predict(X_test)\n",
        "results['randforest'] = metrics(X_test, y_test, rf)"
      ]
    },
    {
      "cell_type": "code",
      "execution_count": null,
      "metadata": {
        "id": "riShnZGtXzEN"
      },
      "outputs": [],
      "source": [
        "gbf =\n",
        "gbf.fit(X_train, y_train)\n",
        "ypred_gbf = gbf.predict(X_test)\n",
        "results['gradboost'] = metrics(X_test, y_test, gbf)"
      ]
    },
    {
      "cell_type": "code",
      "execution_count": null,
      "metadata": {
        "id": "_P4V7pKqXzEO"
      },
      "outputs": [],
      "source": [
        "nnet =\n",
        "ypred_nnet =\n",
        "results['neuralnet'] = metrics(X_test, y_test, nnet)"
      ]
    },
    {
      "cell_type": "code",
      "execution_count": null,
      "metadata": {
        "id": "7Ea4BEJfXzEO"
      },
      "outputs": [],
      "source": [
        "import skorch\n",
        "from torch import nn, optim\n",
        "\n",
        "arch = nn.Sequential(nn.Linear(X_train.shape[1], 200), nn.ReLU(),\n",
        "                     nn.Linear(200, 20), nn.ReLU(),\n",
        "                     nn.Linear(20, 1))\n",
        "nnet_early = skorch.NeuralNetRegressor(arch, lr=0.01, batch_size=10,\n",
        "                                       max_epochs=100,\n",
        "                                       optimizer=optim.Adam,\n",
        "                                       callbacks=[skorch.callbacks.EarlyStopping()])\n",
        "nnet_early.fit(X_train.astype(np.float32), y_train.reshape(-1, 1).astype(np.float32))\n",
        "ypred_nnet_early = nnet_early.predict(X_test.astype(np.float32)).flatten()\n",
        "results['neuralnet_early'] = metrics(X_test.astype(np.float32),\n",
        "                                y_test.reshape(-1, 1).astype(np.float32), nnet_early)"
      ]
    },
    {
      "cell_type": "code",
      "execution_count": null,
      "metadata": {
        "id": "Il9blxMsXzEO"
      },
      "outputs": [],
      "source": [
        "df = pd.DataFrame(results).T\n",
        "df.columns = ['MSE', 'S.E. MSE', 'Rsq']\n",
        "df.sort_values('MSE', ascending=True)"
      ]
    },
    {
      "cell_type": "markdown",
      "metadata": {
        "id": "5kqZBjN-XzEO"
      },
      "source": [
        "## Stacking"
      ]
    },
    {
      "cell_type": "markdown",
      "metadata": {
        "id": "ZajLaRcAXzEP"
      },
      "source": [
        "In the final step, build a prediction model by combining the strength of each model.\n",
        "$$\n",
        "g(z) = \\sum_{k=1}^K \\alpha_k g_k(z)\n",
        "$$\n",
        "where $g_k$'s denote our prediction rules from the table above and the $\\alpha_k$'s are the corresponding weights."
      ]
    },
    {
      "cell_type": "code",
      "execution_count": null,
      "metadata": {
        "id": "mRUGKnMxXzEP"
      },
      "outputs": [],
      "source": [
        "method_name = ['OLS', 'CV Lasso', 'CV Ridge', 'CV ElasticNet', 'Lasso', 'Post-Lasso OLS',\n",
        "               'Decision Tree', 'Random Forest', 'Boosted Forest', 'Neural Net', 'Neural Net (early stopping)']\n",
        "ypreds =\n",
        "stack_ols =\n",
        "pd.DataFrame({'weight': stack_ols.coef_}, index=method_name).round(2)"
      ]
    },
    {
      "cell_type": "code",
      "execution_count": null,
      "metadata": {
        "id": "4TfZSUXUXzEP"
      },
      "outputs": [],
      "source": [
        "# Calculate the test sample MSE and Rsq\n",
        "# We should have left out a third sample to validate the performance of the stacked model\n",
        "mse = np.mean((y_test - stack_ols.predict(ypreds))**2)\n",
        "r2 = 1 - mse / np.var(y_test)\n",
        "print(f'MSE: {mse:.4f}, R^2: {r2:.4f}')"
      ]
    },
    {
      "cell_type": "markdown",
      "metadata": {
        "id": "kGj6WK3mXzEQ"
      },
      "source": [
        "## Pipelines"
      ]
    },
    {
      "cell_type": "markdown",
      "metadata": {
        "id": "7tFniD-gXzEQ"
      },
      "source": [
        "We can also do it in a more sklearn way, by defining a formula transformer and corresponding pipelines"
      ]
    },
    {
      "cell_type": "code",
      "execution_count": null,
      "metadata": {
        "id": "bBKdXAUFXzEQ"
      },
      "outputs": [],
      "source": [
        "class FormulaTransformer(TransformerMixin, BaseEstimator):\n",
        "\n",
        "    def __init__(self, formula):\n",
        "        self.formula = formula\n",
        "\n",
        "    def fit(self, X, y=None):\n",
        "        mat = patsy.dmatrix(self.formula, X, return_type='matrix')\n",
        "        self.design_info = mat.design_info\n",
        "        return self\n",
        "\n",
        "    def transform(self, X, y=None):\n",
        "        return patsy.build_design_matrices([self.design_info], X)[0]"
      ]
    },
    {
      "cell_type": "code",
      "execution_count": null,
      "metadata": {
        "id": "GWE7jPXhXzEQ"
      },
      "outputs": [],
      "source": [
        "base = FormulaTransformer(model_base)\n",
        "methods ="
      ]
    },
    {
      "cell_type": "code",
      "execution_count": null,
      "metadata": {
        "id": "OBz3vtXLXzER"
      },
      "outputs": [],
      "source": [
        "results = {}\n",
        "ypreds = np.zeros((len(test_idx), len(methods)))  # test predictions used for stacking\n",
        "\n",
        "for it, (name, estimator) in enumerate(methods):\n",
        "    estimator.fit(Z.iloc[train_idx], y[train_idx])\n",
        "    results[name] = metrics(Z.iloc[test_idx], y[test_idx], estimator)\n",
        "    ypreds[:, it] = estimator.predict(Z.iloc[test_idx])"
      ]
    },
    {
      "cell_type": "code",
      "execution_count": null,
      "metadata": {
        "id": "ytZaqT1DXzER"
      },
      "outputs": [],
      "source": [
        "df = pd.DataFrame(results).T\n",
        "df.columns = ['MSE', 'S.E. MSE', 'Rsq']\n",
        "df"
      ]
    },
    {
      "cell_type": "markdown",
      "metadata": {
        "id": "Dnk8_Xc-NDpr"
      },
      "source": [
        "1. Partition the data in k-folds\n",
        "\n",
        "2. For each fold, train each of the estimators in the `methods` parameter on all the data outside of the fold and then predict on the data in the fold\n",
        "\n",
        "3. Train a `final_estimator` predicting the true outcome using the out-of-fold predictions of each method as features\n",
        "\n",
        "4. All the base estimators are re-fitted on all the data and the final predictor will first predict based on each fitted based estimator and then aggregate based on the fitted `final_estimator`\n"
      ]
    },
    {
      "cell_type": "code",
      "execution_count": null,
      "metadata": {
        "id": "hF7Xj1IRXzES"
      },
      "outputs": [],
      "source": [
        "# Stacking with sklearn\n",
        "stack ="
      ]
    },
    {
      "cell_type": "code",
      "execution_count": null,
      "metadata": {
        "id": "8DOtieuPXzES"
      },
      "outputs": [],
      "source": [
        "# Weights of the final estimator\n",
        "pd.DataFrame({'weight': stack.final_estimator_.coef_}, index=[name for name, _ in methods])"
      ]
    },
    {
      "cell_type": "code",
      "execution_count": null,
      "metadata": {
        "id": "t6mZE3SjXzES"
      },
      "outputs": [],
      "source": [
        "# Out-of-sample performance\n",
        "mse, semse, r2 = metrics(Z.iloc[test_idx], y[test_idx], stack)"
      ]
    },
    {
      "cell_type": "markdown",
      "metadata": {
        "id": "UEB4MPK7XzES"
      },
      "source": [
        "## AutoML"
      ]
    },
    {
      "cell_type": "code",
      "execution_count": null,
      "metadata": {
        "id": "WamITPbbXzET"
      },
      "outputs": [],
      "source": [
        "from flaml import AutoML\n",
        "\n",
        "automl ="
      ]
    },
    {
      "cell_type": "code",
      "execution_count": null,
      "metadata": {
        "id": "8NXhzJOQXzET"
      },
      "outputs": [],
      "source": [
        "# Out-of-sample performance\n",
        "mse, semse, r2 = metrics(Z.iloc[test_idx], y[test_idx], automl)"
      ]
    },
    {
      "cell_type": "code",
      "execution_count": null,
      "metadata": {
        "id": "z3J6dBahXzET"
      },
      "outputs": [],
      "source": [
        "# Stacking with flaml\n",
        "automl ="
      ]
    },
    {
      "cell_type": "code",
      "execution_count": null,
      "metadata": {
        "id": "TBSQubj4XzET"
      },
      "outputs": [],
      "source": [
        "# Out-of-sample performance\n",
        "mse, semse, r2 = metrics(Z.iloc[test_idx], y[test_idx], automl)"
      ]
    },
    {
      "cell_type": "code",
      "execution_count": null,
      "metadata": {
        "id": "qjoEecFQNDpt"
      },
      "outputs": [],
      "source": []
    }
  ],
  "metadata": {
    "colab": {
      "provenance": [],
      "include_colab_link": true
    },
    "kernelspec": {
      "display_name": "Python 3 (ipykernel)",
      "language": "python",
      "name": "python3"
    },
    "language_info": {
      "codemirror_mode": {
        "name": "ipython",
        "version": 3
      },
      "file_extension": ".py",
      "mimetype": "text/x-python",
      "name": "python",
      "nbconvert_exporter": "python",
      "pygments_lexer": "ipython3",
      "version": "3.9.18"
    }
  },
  "nbformat": 4,
  "nbformat_minor": 0
}