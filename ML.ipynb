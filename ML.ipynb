{
  "cells": [
    {
      "cell_type": "markdown",
      "metadata": {
        "id": "view-in-github",
        "colab_type": "text"
      },
      "source": [
        "<a href=\"https://colab.research.google.com/github/sofials2002/SOFIA/blob/master/ML.ipynb\" target=\"_parent\"><img src=\"https://colab.research.google.com/assets/colab-badge.svg\" alt=\"Open In Colab\"/></a>"
      ]
    },
    {
      "cell_type": "markdown",
      "metadata": {
        "id": "yE-ctzsnNDpc"
      },
      "source": [
        "# Wage Prediction using Machine Learning\n",
        "\n",
        "In this notebook we will answer what determines the wage of workers from a predictive perspective.\n",
        "\n",
        "This example focuses on a sample of Registered Nurses in the US collected during 2017. The hourly wage of a nurse is denoted by $Y$ and $X$ is a vector of nurses' characteristics, e.g., human capital, demographics, job-relevant characteristics. The question that we want to answer is:\n",
        "\n",
        "- How to use nurses' characteristics, such as education and experience, to best predict wages?\n"
      ]
    },
    {
      "cell_type": "code",
      "execution_count": 1,
      "metadata": {
        "id": "kvq-lXHgNDpg"
      },
      "outputs": [],
      "source": [
        "import numpy as np\n",
        "import pandas as pd\n",
        "import patsy\n",
        "from sklearn.model_selection import train_test_split, KFold\n",
        "from sklearn.preprocessing import StandardScaler\n",
        "from sklearn.linear_model import LassoCV, RidgeCV, ElasticNetCV, LinearRegression\n",
        "from sklearn.tree import DecisionTreeRegressor\n",
        "from sklearn.ensemble import RandomForestRegressor, GradientBoostingRegressor, StackingRegressor\n",
        "from sklearn.neural_network import MLPRegressor\n",
        "from sklearn.base import TransformerMixin, RegressorMixin, BaseEstimator\n",
        "from sklearn.pipeline import make_pipeline\n",
        "\n",
        "import warnings\n",
        "warnings.simplefilter('ignore')"
      ]
    },
    {
      "cell_type": "markdown",
      "metadata": {
        "id": "yYmcd6mN7VCV"
      },
      "source": [
        "## Data"
      ]
    },
    {
      "cell_type": "code",
      "execution_count": 2,
      "metadata": {
        "id": "B9jOqtf0NDpi",
        "colab": {
          "base_uri": "https://localhost:8080/",
          "height": 221
        },
        "outputId": "cb862164-7c1c-4fdb-bf2f-1068094c21a4"
      },
      "outputs": [
        {
          "output_type": "execute_result",
          "data": {
            "text/plain": [
              "         lwage  female  age   race  children               marital education  \\\n",
              "5617  3.496087       1   72  white         0  widowed_divorced_sep  ed_assoc   \n",
              "5618  3.678408       1   50  white         0         never_married    ed_msn   \n",
              "5619  3.952845       0   36  white         0     currently_married    ed_bsn   \n",
              "5620  3.957960       1   61  white         0     currently_married    ed_bsn   \n",
              "5621  3.100270       1   38  white         0     currently_married  ed_assoc   \n",
              "\n",
              "      RN_experience left_nursing  country_ed_US  english_only  \\\n",
              "5617             51       left_0              1             1   \n",
              "5618             14       left_0              1             1   \n",
              "5619              4       left_0              1             1   \n",
              "5620             40       left_0              1             1   \n",
              "5621              3       left_0              1             1   \n",
              "\n",
              "              military  certificates  labor_union             work_setting  \\\n",
              "5617  never_served_mil             0            0  SET_long_term_inpatient   \n",
              "5618  never_served_mil             0            0             SET_hospital   \n",
              "5619  never_served_mil             2            1             SET_hospital   \n",
              "5620  never_served_mil             0            0             SET_hospital   \n",
              "5621  never_served_mil             2            0             SET_hospital   \n",
              "\n",
              "           work_situation       level_care       care_specialty      state  \n",
              "5617    SIT_self_employed  LC_nursing_home   CC_no_patient_care  state_n13  \n",
              "5618  SIT_agency_facility     LC_education    CC_emergency_care  state_n24  \n",
              "5619  SIT_agency_facility     LC_inpatient          CC_oncology  state_n32  \n",
              "5620  SIT_agency_facility     LC_inpatient   CC_no_patient_care  state_n37  \n",
              "5621  SIT_agency_facility        LC_others  CC_medical_surgical  state_n29  "
            ],
            "text/html": [
              "\n",
              "  <div id=\"df-aa29a907-3b07-468b-a4a2-d897db8fce9e\" class=\"colab-df-container\">\n",
              "    <div>\n",
              "<style scoped>\n",
              "    .dataframe tbody tr th:only-of-type {\n",
              "        vertical-align: middle;\n",
              "    }\n",
              "\n",
              "    .dataframe tbody tr th {\n",
              "        vertical-align: top;\n",
              "    }\n",
              "\n",
              "    .dataframe thead th {\n",
              "        text-align: right;\n",
              "    }\n",
              "</style>\n",
              "<table border=\"1\" class=\"dataframe\">\n",
              "  <thead>\n",
              "    <tr style=\"text-align: right;\">\n",
              "      <th></th>\n",
              "      <th>lwage</th>\n",
              "      <th>female</th>\n",
              "      <th>age</th>\n",
              "      <th>race</th>\n",
              "      <th>children</th>\n",
              "      <th>marital</th>\n",
              "      <th>education</th>\n",
              "      <th>RN_experience</th>\n",
              "      <th>left_nursing</th>\n",
              "      <th>country_ed_US</th>\n",
              "      <th>english_only</th>\n",
              "      <th>military</th>\n",
              "      <th>certificates</th>\n",
              "      <th>labor_union</th>\n",
              "      <th>work_setting</th>\n",
              "      <th>work_situation</th>\n",
              "      <th>level_care</th>\n",
              "      <th>care_specialty</th>\n",
              "      <th>state</th>\n",
              "    </tr>\n",
              "  </thead>\n",
              "  <tbody>\n",
              "    <tr>\n",
              "      <th>5617</th>\n",
              "      <td>3.496087</td>\n",
              "      <td>1</td>\n",
              "      <td>72</td>\n",
              "      <td>white</td>\n",
              "      <td>0</td>\n",
              "      <td>widowed_divorced_sep</td>\n",
              "      <td>ed_assoc</td>\n",
              "      <td>51</td>\n",
              "      <td>left_0</td>\n",
              "      <td>1</td>\n",
              "      <td>1</td>\n",
              "      <td>never_served_mil</td>\n",
              "      <td>0</td>\n",
              "      <td>0</td>\n",
              "      <td>SET_long_term_inpatient</td>\n",
              "      <td>SIT_self_employed</td>\n",
              "      <td>LC_nursing_home</td>\n",
              "      <td>CC_no_patient_care</td>\n",
              "      <td>state_n13</td>\n",
              "    </tr>\n",
              "    <tr>\n",
              "      <th>5618</th>\n",
              "      <td>3.678408</td>\n",
              "      <td>1</td>\n",
              "      <td>50</td>\n",
              "      <td>white</td>\n",
              "      <td>0</td>\n",
              "      <td>never_married</td>\n",
              "      <td>ed_msn</td>\n",
              "      <td>14</td>\n",
              "      <td>left_0</td>\n",
              "      <td>1</td>\n",
              "      <td>1</td>\n",
              "      <td>never_served_mil</td>\n",
              "      <td>0</td>\n",
              "      <td>0</td>\n",
              "      <td>SET_hospital</td>\n",
              "      <td>SIT_agency_facility</td>\n",
              "      <td>LC_education</td>\n",
              "      <td>CC_emergency_care</td>\n",
              "      <td>state_n24</td>\n",
              "    </tr>\n",
              "    <tr>\n",
              "      <th>5619</th>\n",
              "      <td>3.952845</td>\n",
              "      <td>0</td>\n",
              "      <td>36</td>\n",
              "      <td>white</td>\n",
              "      <td>0</td>\n",
              "      <td>currently_married</td>\n",
              "      <td>ed_bsn</td>\n",
              "      <td>4</td>\n",
              "      <td>left_0</td>\n",
              "      <td>1</td>\n",
              "      <td>1</td>\n",
              "      <td>never_served_mil</td>\n",
              "      <td>2</td>\n",
              "      <td>1</td>\n",
              "      <td>SET_hospital</td>\n",
              "      <td>SIT_agency_facility</td>\n",
              "      <td>LC_inpatient</td>\n",
              "      <td>CC_oncology</td>\n",
              "      <td>state_n32</td>\n",
              "    </tr>\n",
              "    <tr>\n",
              "      <th>5620</th>\n",
              "      <td>3.957960</td>\n",
              "      <td>1</td>\n",
              "      <td>61</td>\n",
              "      <td>white</td>\n",
              "      <td>0</td>\n",
              "      <td>currently_married</td>\n",
              "      <td>ed_bsn</td>\n",
              "      <td>40</td>\n",
              "      <td>left_0</td>\n",
              "      <td>1</td>\n",
              "      <td>1</td>\n",
              "      <td>never_served_mil</td>\n",
              "      <td>0</td>\n",
              "      <td>0</td>\n",
              "      <td>SET_hospital</td>\n",
              "      <td>SIT_agency_facility</td>\n",
              "      <td>LC_inpatient</td>\n",
              "      <td>CC_no_patient_care</td>\n",
              "      <td>state_n37</td>\n",
              "    </tr>\n",
              "    <tr>\n",
              "      <th>5621</th>\n",
              "      <td>3.100270</td>\n",
              "      <td>1</td>\n",
              "      <td>38</td>\n",
              "      <td>white</td>\n",
              "      <td>0</td>\n",
              "      <td>currently_married</td>\n",
              "      <td>ed_assoc</td>\n",
              "      <td>3</td>\n",
              "      <td>left_0</td>\n",
              "      <td>1</td>\n",
              "      <td>1</td>\n",
              "      <td>never_served_mil</td>\n",
              "      <td>2</td>\n",
              "      <td>0</td>\n",
              "      <td>SET_hospital</td>\n",
              "      <td>SIT_agency_facility</td>\n",
              "      <td>LC_others</td>\n",
              "      <td>CC_medical_surgical</td>\n",
              "      <td>state_n29</td>\n",
              "    </tr>\n",
              "  </tbody>\n",
              "</table>\n",
              "</div>\n",
              "    <div class=\"colab-df-buttons\">\n",
              "\n",
              "  <div class=\"colab-df-container\">\n",
              "    <button class=\"colab-df-convert\" onclick=\"convertToInteractive('df-aa29a907-3b07-468b-a4a2-d897db8fce9e')\"\n",
              "            title=\"Convert this dataframe to an interactive table.\"\n",
              "            style=\"display:none;\">\n",
              "\n",
              "  <svg xmlns=\"http://www.w3.org/2000/svg\" height=\"24px\" viewBox=\"0 -960 960 960\">\n",
              "    <path d=\"M120-120v-720h720v720H120Zm60-500h600v-160H180v160Zm220 220h160v-160H400v160Zm0 220h160v-160H400v160ZM180-400h160v-160H180v160Zm440 0h160v-160H620v160ZM180-180h160v-160H180v160Zm440 0h160v-160H620v160Z\"/>\n",
              "  </svg>\n",
              "    </button>\n",
              "\n",
              "  <style>\n",
              "    .colab-df-container {\n",
              "      display:flex;\n",
              "      gap: 12px;\n",
              "    }\n",
              "\n",
              "    .colab-df-convert {\n",
              "      background-color: #E8F0FE;\n",
              "      border: none;\n",
              "      border-radius: 50%;\n",
              "      cursor: pointer;\n",
              "      display: none;\n",
              "      fill: #1967D2;\n",
              "      height: 32px;\n",
              "      padding: 0 0 0 0;\n",
              "      width: 32px;\n",
              "    }\n",
              "\n",
              "    .colab-df-convert:hover {\n",
              "      background-color: #E2EBFA;\n",
              "      box-shadow: 0px 1px 2px rgba(60, 64, 67, 0.3), 0px 1px 3px 1px rgba(60, 64, 67, 0.15);\n",
              "      fill: #174EA6;\n",
              "    }\n",
              "\n",
              "    .colab-df-buttons div {\n",
              "      margin-bottom: 4px;\n",
              "    }\n",
              "\n",
              "    [theme=dark] .colab-df-convert {\n",
              "      background-color: #3B4455;\n",
              "      fill: #D2E3FC;\n",
              "    }\n",
              "\n",
              "    [theme=dark] .colab-df-convert:hover {\n",
              "      background-color: #434B5C;\n",
              "      box-shadow: 0px 1px 3px 1px rgba(0, 0, 0, 0.15);\n",
              "      filter: drop-shadow(0px 1px 2px rgba(0, 0, 0, 0.3));\n",
              "      fill: #FFFFFF;\n",
              "    }\n",
              "  </style>\n",
              "\n",
              "    <script>\n",
              "      const buttonEl =\n",
              "        document.querySelector('#df-aa29a907-3b07-468b-a4a2-d897db8fce9e button.colab-df-convert');\n",
              "      buttonEl.style.display =\n",
              "        google.colab.kernel.accessAllowed ? 'block' : 'none';\n",
              "\n",
              "      async function convertToInteractive(key) {\n",
              "        const element = document.querySelector('#df-aa29a907-3b07-468b-a4a2-d897db8fce9e');\n",
              "        const dataTable =\n",
              "          await google.colab.kernel.invokeFunction('convertToInteractive',\n",
              "                                                    [key], {});\n",
              "        if (!dataTable) return;\n",
              "\n",
              "        const docLinkHtml = 'Like what you see? Visit the ' +\n",
              "          '<a target=\"_blank\" href=https://colab.research.google.com/notebooks/data_table.ipynb>data table notebook</a>'\n",
              "          + ' to learn more about interactive tables.';\n",
              "        element.innerHTML = '';\n",
              "        dataTable['output_type'] = 'display_data';\n",
              "        await google.colab.output.renderOutput(dataTable, element);\n",
              "        const docLink = document.createElement('div');\n",
              "        docLink.innerHTML = docLinkHtml;\n",
              "        element.appendChild(docLink);\n",
              "      }\n",
              "    </script>\n",
              "  </div>\n",
              "\n",
              "\n",
              "<div id=\"df-f47d4db0-6afc-4e98-b130-1e9c4e87f946\">\n",
              "  <button class=\"colab-df-quickchart\" onclick=\"quickchart('df-f47d4db0-6afc-4e98-b130-1e9c4e87f946')\"\n",
              "            title=\"Suggest charts\"\n",
              "            style=\"display:none;\">\n",
              "\n",
              "<svg xmlns=\"http://www.w3.org/2000/svg\" height=\"24px\"viewBox=\"0 0 24 24\"\n",
              "     width=\"24px\">\n",
              "    <g>\n",
              "        <path d=\"M19 3H5c-1.1 0-2 .9-2 2v14c0 1.1.9 2 2 2h14c1.1 0 2-.9 2-2V5c0-1.1-.9-2-2-2zM9 17H7v-7h2v7zm4 0h-2V7h2v10zm4 0h-2v-4h2v4z\"/>\n",
              "    </g>\n",
              "</svg>\n",
              "  </button>\n",
              "\n",
              "<style>\n",
              "  .colab-df-quickchart {\n",
              "      --bg-color: #E8F0FE;\n",
              "      --fill-color: #1967D2;\n",
              "      --hover-bg-color: #E2EBFA;\n",
              "      --hover-fill-color: #174EA6;\n",
              "      --disabled-fill-color: #AAA;\n",
              "      --disabled-bg-color: #DDD;\n",
              "  }\n",
              "\n",
              "  [theme=dark] .colab-df-quickchart {\n",
              "      --bg-color: #3B4455;\n",
              "      --fill-color: #D2E3FC;\n",
              "      --hover-bg-color: #434B5C;\n",
              "      --hover-fill-color: #FFFFFF;\n",
              "      --disabled-bg-color: #3B4455;\n",
              "      --disabled-fill-color: #666;\n",
              "  }\n",
              "\n",
              "  .colab-df-quickchart {\n",
              "    background-color: var(--bg-color);\n",
              "    border: none;\n",
              "    border-radius: 50%;\n",
              "    cursor: pointer;\n",
              "    display: none;\n",
              "    fill: var(--fill-color);\n",
              "    height: 32px;\n",
              "    padding: 0;\n",
              "    width: 32px;\n",
              "  }\n",
              "\n",
              "  .colab-df-quickchart:hover {\n",
              "    background-color: var(--hover-bg-color);\n",
              "    box-shadow: 0 1px 2px rgba(60, 64, 67, 0.3), 0 1px 3px 1px rgba(60, 64, 67, 0.15);\n",
              "    fill: var(--button-hover-fill-color);\n",
              "  }\n",
              "\n",
              "  .colab-df-quickchart-complete:disabled,\n",
              "  .colab-df-quickchart-complete:disabled:hover {\n",
              "    background-color: var(--disabled-bg-color);\n",
              "    fill: var(--disabled-fill-color);\n",
              "    box-shadow: none;\n",
              "  }\n",
              "\n",
              "  .colab-df-spinner {\n",
              "    border: 2px solid var(--fill-color);\n",
              "    border-color: transparent;\n",
              "    border-bottom-color: var(--fill-color);\n",
              "    animation:\n",
              "      spin 1s steps(1) infinite;\n",
              "  }\n",
              "\n",
              "  @keyframes spin {\n",
              "    0% {\n",
              "      border-color: transparent;\n",
              "      border-bottom-color: var(--fill-color);\n",
              "      border-left-color: var(--fill-color);\n",
              "    }\n",
              "    20% {\n",
              "      border-color: transparent;\n",
              "      border-left-color: var(--fill-color);\n",
              "      border-top-color: var(--fill-color);\n",
              "    }\n",
              "    30% {\n",
              "      border-color: transparent;\n",
              "      border-left-color: var(--fill-color);\n",
              "      border-top-color: var(--fill-color);\n",
              "      border-right-color: var(--fill-color);\n",
              "    }\n",
              "    40% {\n",
              "      border-color: transparent;\n",
              "      border-right-color: var(--fill-color);\n",
              "      border-top-color: var(--fill-color);\n",
              "    }\n",
              "    60% {\n",
              "      border-color: transparent;\n",
              "      border-right-color: var(--fill-color);\n",
              "    }\n",
              "    80% {\n",
              "      border-color: transparent;\n",
              "      border-right-color: var(--fill-color);\n",
              "      border-bottom-color: var(--fill-color);\n",
              "    }\n",
              "    90% {\n",
              "      border-color: transparent;\n",
              "      border-bottom-color: var(--fill-color);\n",
              "    }\n",
              "  }\n",
              "</style>\n",
              "\n",
              "  <script>\n",
              "    async function quickchart(key) {\n",
              "      const quickchartButtonEl =\n",
              "        document.querySelector('#' + key + ' button');\n",
              "      quickchartButtonEl.disabled = true;  // To prevent multiple clicks.\n",
              "      quickchartButtonEl.classList.add('colab-df-spinner');\n",
              "      try {\n",
              "        const charts = await google.colab.kernel.invokeFunction(\n",
              "            'suggestCharts', [key], {});\n",
              "      } catch (error) {\n",
              "        console.error('Error during call to suggestCharts:', error);\n",
              "      }\n",
              "      quickchartButtonEl.classList.remove('colab-df-spinner');\n",
              "      quickchartButtonEl.classList.add('colab-df-quickchart-complete');\n",
              "    }\n",
              "    (() => {\n",
              "      let quickchartButtonEl =\n",
              "        document.querySelector('#df-f47d4db0-6afc-4e98-b130-1e9c4e87f946 button');\n",
              "      quickchartButtonEl.style.display =\n",
              "        google.colab.kernel.accessAllowed ? 'block' : 'none';\n",
              "    })();\n",
              "  </script>\n",
              "</div>\n",
              "\n",
              "    </div>\n",
              "  </div>\n"
            ],
            "application/vnd.google.colaboratory.intrinsic+json": {
              "type": "dataframe",
              "summary": "{\n  \"name\": \"df\",\n  \"rows\": 5,\n  \"fields\": [\n    {\n      \"column\": \"lwage\",\n      \"properties\": {\n        \"dtype\": \"number\",\n        \"std\": 0.35791885661472633,\n        \"min\": 3.10027,\n        \"max\": 3.9579601,\n        \"num_unique_values\": 5,\n        \"samples\": [\n          3.6784081,\n          3.10027,\n          3.9528449\n        ],\n        \"semantic_type\": \"\",\n        \"description\": \"\"\n      }\n    },\n    {\n      \"column\": \"female\",\n      \"properties\": {\n        \"dtype\": \"number\",\n        \"std\": 0,\n        \"min\": 0,\n        \"max\": 1,\n        \"num_unique_values\": 2,\n        \"samples\": [\n          0,\n          1\n        ],\n        \"semantic_type\": \"\",\n        \"description\": \"\"\n      }\n    },\n    {\n      \"column\": \"age\",\n      \"properties\": {\n        \"dtype\": \"number\",\n        \"std\": 15,\n        \"min\": 36,\n        \"max\": 72,\n        \"num_unique_values\": 5,\n        \"samples\": [\n          50,\n          38\n        ],\n        \"semantic_type\": \"\",\n        \"description\": \"\"\n      }\n    },\n    {\n      \"column\": \"race\",\n      \"properties\": {\n        \"dtype\": \"category\",\n        \"num_unique_values\": 1,\n        \"samples\": [\n          \"white\"\n        ],\n        \"semantic_type\": \"\",\n        \"description\": \"\"\n      }\n    },\n    {\n      \"column\": \"children\",\n      \"properties\": {\n        \"dtype\": \"number\",\n        \"std\": 0,\n        \"min\": 0,\n        \"max\": 0,\n        \"num_unique_values\": 1,\n        \"samples\": [\n          0\n        ],\n        \"semantic_type\": \"\",\n        \"description\": \"\"\n      }\n    },\n    {\n      \"column\": \"marital\",\n      \"properties\": {\n        \"dtype\": \"string\",\n        \"num_unique_values\": 3,\n        \"samples\": [\n          \"widowed_divorced_sep\"\n        ],\n        \"semantic_type\": \"\",\n        \"description\": \"\"\n      }\n    },\n    {\n      \"column\": \"education\",\n      \"properties\": {\n        \"dtype\": \"string\",\n        \"num_unique_values\": 3,\n        \"samples\": [\n          \"ed_assoc\"\n        ],\n        \"semantic_type\": \"\",\n        \"description\": \"\"\n      }\n    },\n    {\n      \"column\": \"RN_experience\",\n      \"properties\": {\n        \"dtype\": \"number\",\n        \"std\": 21,\n        \"min\": 3,\n        \"max\": 51,\n        \"num_unique_values\": 5,\n        \"samples\": [\n          14\n        ],\n        \"semantic_type\": \"\",\n        \"description\": \"\"\n      }\n    },\n    {\n      \"column\": \"left_nursing\",\n      \"properties\": {\n        \"dtype\": \"category\",\n        \"num_unique_values\": 1,\n        \"samples\": [\n          \"left_0\"\n        ],\n        \"semantic_type\": \"\",\n        \"description\": \"\"\n      }\n    },\n    {\n      \"column\": \"country_ed_US\",\n      \"properties\": {\n        \"dtype\": \"number\",\n        \"std\": 0,\n        \"min\": 1,\n        \"max\": 1,\n        \"num_unique_values\": 1,\n        \"samples\": [\n          1\n        ],\n        \"semantic_type\": \"\",\n        \"description\": \"\"\n      }\n    },\n    {\n      \"column\": \"english_only\",\n      \"properties\": {\n        \"dtype\": \"number\",\n        \"std\": 0,\n        \"min\": 1,\n        \"max\": 1,\n        \"num_unique_values\": 1,\n        \"samples\": [\n          1\n        ],\n        \"semantic_type\": \"\",\n        \"description\": \"\"\n      }\n    },\n    {\n      \"column\": \"military\",\n      \"properties\": {\n        \"dtype\": \"category\",\n        \"num_unique_values\": 1,\n        \"samples\": [\n          \"never_served_mil\"\n        ],\n        \"semantic_type\": \"\",\n        \"description\": \"\"\n      }\n    },\n    {\n      \"column\": \"certificates\",\n      \"properties\": {\n        \"dtype\": \"number\",\n        \"std\": 1,\n        \"min\": 0,\n        \"max\": 2,\n        \"num_unique_values\": 2,\n        \"samples\": [\n          2\n        ],\n        \"semantic_type\": \"\",\n        \"description\": \"\"\n      }\n    },\n    {\n      \"column\": \"labor_union\",\n      \"properties\": {\n        \"dtype\": \"number\",\n        \"std\": 0,\n        \"min\": 0,\n        \"max\": 1,\n        \"num_unique_values\": 2,\n        \"samples\": [\n          1\n        ],\n        \"semantic_type\": \"\",\n        \"description\": \"\"\n      }\n    },\n    {\n      \"column\": \"work_setting\",\n      \"properties\": {\n        \"dtype\": \"category\",\n        \"num_unique_values\": 2,\n        \"samples\": [\n          \"SET_hospital\"\n        ],\n        \"semantic_type\": \"\",\n        \"description\": \"\"\n      }\n    },\n    {\n      \"column\": \"work_situation\",\n      \"properties\": {\n        \"dtype\": \"category\",\n        \"num_unique_values\": 2,\n        \"samples\": [\n          \"SIT_agency_facility\"\n        ],\n        \"semantic_type\": \"\",\n        \"description\": \"\"\n      }\n    },\n    {\n      \"column\": \"level_care\",\n      \"properties\": {\n        \"dtype\": \"string\",\n        \"num_unique_values\": 4,\n        \"samples\": [\n          \"LC_education\"\n        ],\n        \"semantic_type\": \"\",\n        \"description\": \"\"\n      }\n    },\n    {\n      \"column\": \"care_specialty\",\n      \"properties\": {\n        \"dtype\": \"string\",\n        \"num_unique_values\": 4,\n        \"samples\": [\n          \"CC_emergency_care\"\n        ],\n        \"semantic_type\": \"\",\n        \"description\": \"\"\n      }\n    },\n    {\n      \"column\": \"state\",\n      \"properties\": {\n        \"dtype\": \"string\",\n        \"num_unique_values\": 5,\n        \"samples\": [\n          \"state_n24\"\n        ],\n        \"semantic_type\": \"\",\n        \"description\": \"\"\n      }\n    }\n  ]\n}"
            }
          },
          "metadata": {},
          "execution_count": 2
        }
      ],
      "source": [
        "# Read data\n",
        "path_data = \"https://github.com/pabloestradac/causalml-basics/raw/main/data/\"\n",
        "df = pd.read_csv(path_data + 'wages_nurses.csv')\n",
        "df.tail()"
      ]
    },
    {
      "cell_type": "code",
      "execution_count": 3,
      "metadata": {
        "id": "fUxf95F1B2EE",
        "colab": {
          "base_uri": "https://localhost:8080/"
        },
        "outputId": "11d4095e-eeb7-43cf-b3d5-d853b190506b"
      },
      "outputs": [
        {
          "output_type": "execute_result",
          "data": {
            "text/plain": [
              "(5622, 18)"
            ]
          },
          "metadata": {},
          "execution_count": 3
        }
      ],
      "source": [
        "# Outcome and regressors\n",
        "y = np.log(df['lwage']).values\n",
        "Z = df.drop(['lwage'], axis=1)\n",
        "Z.shape"
      ]
    },
    {
      "cell_type": "markdown",
      "metadata": {
        "id": "RoAYX9ZyNDpj"
      },
      "source": [
        "Construct a prediction rule for hourly (log) wage $y$, which depends linearly on relevant characteristics $Z$:\n",
        "\n",
        "$$\n",
        "y = g(Z) + e\n",
        "$$\n",
        "\n",
        "Then, assess the predictive performance of a given model using the (adjusted) sample MSE, the (adjusted) sample $R^2$ and the out-of-sample MSE and $R^2$. Thus, we measure the prediction quality of the models via data splitting.\n"
      ]
    },
    {
      "cell_type": "code",
      "execution_count": 4,
      "metadata": {
        "id": "ryZHJc40NDpk"
      },
      "outputs": [],
      "source": [
        "# Obtain train_idx and test_idx to divide y_train and y_test\n",
        "train_idx, test_idx = train_test_split(np.arange(len(y)), test_size=0.3, random_state=42)\n",
        "y_train, y_test = y[train_idx], y[test_idx]"
      ]
    },
    {
      "cell_type": "markdown",
      "metadata": {
        "id": "ZMPoAOhnNDpk"
      },
      "source": [
        "## Linear Models\n",
        "\n",
        "We employ this specification for prediction:\n",
        "\n",
        "1. Basic Model: $X$ consists of a set of raw regressors\n",
        "\n"
      ]
    },
    {
      "cell_type": "code",
      "execution_count": 5,
      "metadata": {
        "id": "d8D89aBZXzEF"
      },
      "outputs": [],
      "source": [
        "model_base = ('0 + female + age + race + children + marital '\n",
        "              '+ education + RN_experience + RN_experience**2 + RN_experience**3 + RN_experience**4 '\n",
        "              '+ left_nursing + country_ed_US + english_only + military + certificates'\n",
        "              '+ labor_union + work_setting + work_situation + level_care + care_specialty + state')\n",
        "Zbase = patsy.dmatrix(model_base, Z, return_type='dataframe').values\n",
        "X_train, X_test = Zbase[train_idx], Zbase[test_idx]"
      ]
    },
    {
      "cell_type": "code",
      "execution_count": 6,
      "metadata": {
        "id": "rlMPubjEXzEG"
      },
      "outputs": [],
      "source": [
        "def metrics(X_test, y_test, estimator):\n",
        "    mse = np.mean((y_test - estimator.predict(X_test))**2)\n",
        "    semse = np.std((y_test - estimator.predict(X_test))**2) / np.sqrt(len(y_test))\n",
        "    r2 = 1 - mse / np.var(y_test)\n",
        "    print(f'{mse:.4f}, {semse:.4f}, {r2:.4f}')\n",
        "    return mse, semse, r2\n",
        "\n",
        "results = {}"
      ]
    },
    {
      "cell_type": "markdown",
      "metadata": {
        "id": "PPt0pZtgOMSn"
      },
      "source": [
        "Let's start by running a simple OLS regression."
      ]
    },
    {
      "cell_type": "code",
      "execution_count": 7,
      "metadata": {
        "id": "DcTekwMGXzEG",
        "colab": {
          "base_uri": "https://localhost:8080/"
        },
        "outputId": "abb26920-dbd9-4ea9-fc40-72477b4ef8a6"
      },
      "outputs": [
        {
          "output_type": "stream",
          "name": "stdout",
          "text": [
            "0.0079, 0.0005, 0.2313\n"
          ]
        }
      ],
      "source": [
        "# OLS using LinearRegression\n",
        "lr = LinearRegression()\n",
        "lr.fit(X_train, y_train)\n",
        "ypred_ols = lr.predict(X_test)\n",
        "results['ols'] = metrics(X_test, y_test, lr)"
      ]
    },
    {
      "cell_type": "code",
      "execution_count": 8,
      "metadata": {
        "id": "Yb3ov7yPXzEH",
        "colab": {
          "base_uri": "https://localhost:8080/"
        },
        "outputId": "7f6ba151-373e-430d-fbc4-ebf457ceefea"
      },
      "outputs": [
        {
          "output_type": "stream",
          "name": "stdout",
          "text": [
            "0.0078, 0.0005, 0.2321\n"
          ]
        }
      ],
      "source": [
        "cv = KFold(n_splits=10, shuffle=True, random_state=42)\n",
        "\n",
        "# Lasso\n",
        "lcv = make_pipeline(StandardScaler(), LassoCV(cv=cv, random_state=42))\n",
        "lcv.fit(X_train, y_train)\n",
        "ypred_lcv = lcv.predict(X_test)\n",
        "results['lassocv'] = metrics(X_test, y_test, lcv)"
      ]
    },
    {
      "cell_type": "code",
      "execution_count": 9,
      "metadata": {
        "id": "9QIH9QmPXzEH",
        "colab": {
          "base_uri": "https://localhost:8080/"
        },
        "outputId": "dfe54ab1-a185-477c-be0e-a981ea1f3fbe"
      },
      "outputs": [
        {
          "output_type": "stream",
          "name": "stdout",
          "text": [
            "0.0078, 0.0005, 0.2316\n"
          ]
        }
      ],
      "source": [
        "# Ridge\n",
        "rcv = make_pipeline(StandardScaler(), RidgeCV(cv=cv))\n",
        "rcv.fit(X_train, y_train)\n",
        "ypred_rcv = rcv.predict(X_test)\n",
        "results['ridgecv'] = metrics(X_test, y_test, rcv)"
      ]
    },
    {
      "cell_type": "code",
      "execution_count": 10,
      "metadata": {
        "id": "_9rY6AfzXzEH",
        "colab": {
          "base_uri": "https://localhost:8080/"
        },
        "outputId": "46170196-0bd8-4e97-9170-a615b3e564d4"
      },
      "outputs": [
        {
          "output_type": "stream",
          "name": "stdout",
          "text": [
            "0.0078, 0.0005, 0.2321\n"
          ]
        }
      ],
      "source": [
        "# Elastic Net\n",
        "ecv = make_pipeline(StandardScaler(), ElasticNetCV(cv=cv, random_state=42))\n",
        "ecv.fit(X_train, y_train)\n",
        "ypred_ecv = ecv.predict(X_test)\n",
        "results['elanetcv'] = metrics(X_test, y_test, ecv)"
      ]
    },
    {
      "cell_type": "markdown",
      "metadata": {
        "id": "iv7sJhnOXzEH"
      },
      "source": [
        "Use theoretical-optimal $\\lambda$ for lasso.\n",
        "\n",
        "This is a based on a Python implementation made by [Max Huppertz](https://maxhuppertz.github.io/code/). His library is this [repository](https://github.com/maxhuppertz/hdmpy).\n",
        "\n",
        "Run the following code to install the library:\n",
        "\n",
        "```python\n",
        "!git clone https://github.com/maxhuppertz/hdmpy.git\n",
        "!pip install multiprocess\n",
        "```"
      ]
    },
    {
      "cell_type": "code",
      "source": [
        "!git clone https://github.com/maxhuppertz/hdmpy.git\n",
        "!pip install multiprocess"
      ],
      "metadata": {
        "collapsed": true,
        "id": "o22WJ3TiabMq",
        "outputId": "ae7c9a63-3481-4172-f619-5ac577121532",
        "colab": {
          "base_uri": "https://localhost:8080/"
        }
      },
      "execution_count": 12,
      "outputs": [
        {
          "output_type": "stream",
          "name": "stdout",
          "text": [
            "Cloning into 'hdmpy'...\n",
            "remote: Enumerating objects: 70, done.\u001b[K\n",
            "remote: Counting objects: 100% (70/70), done.\u001b[K\n",
            "remote: Compressing objects: 100% (49/49), done.\u001b[K\n",
            "remote: Total 70 (delta 39), reused 52 (delta 21), pack-reused 0 (from 0)\u001b[K\n",
            "Receiving objects: 100% (70/70), 25.30 KiB | 5.06 MiB/s, done.\n",
            "Resolving deltas: 100% (39/39), done.\n",
            "Collecting multiprocess\n",
            "  Downloading multiprocess-0.70.17-py310-none-any.whl.metadata (7.2 kB)\n",
            "Collecting dill>=0.3.9 (from multiprocess)\n",
            "  Downloading dill-0.3.9-py3-none-any.whl.metadata (10 kB)\n",
            "Downloading multiprocess-0.70.17-py310-none-any.whl (134 kB)\n",
            "\u001b[2K   \u001b[90m━━━━━━━━━━━━━━━━━━━━━━━━━━━━━━━━━━━━━━━━\u001b[0m \u001b[32m134.8/134.8 kB\u001b[0m \u001b[31m3.0 MB/s\u001b[0m eta \u001b[36m0:00:00\u001b[0m\n",
            "\u001b[?25hDownloading dill-0.3.9-py3-none-any.whl (119 kB)\n",
            "\u001b[2K   \u001b[90m━━━━━━━━━━━━━━━━━━━━━━━━━━━━━━━━━━━━━━━━\u001b[0m \u001b[32m119.4/119.4 kB\u001b[0m \u001b[31m7.6 MB/s\u001b[0m eta \u001b[36m0:00:00\u001b[0m\n",
            "\u001b[?25hInstalling collected packages: dill, multiprocess\n",
            "Successfully installed dill-0.3.9 multiprocess-0.70.17\n"
          ]
        }
      ]
    },
    {
      "cell_type": "code",
      "execution_count": 13,
      "metadata": {
        "id": "dLOYDwPtXzEL"
      },
      "outputs": [],
      "source": [
        "import hdmpy\n",
        "\n",
        "# Wrap the package so that it has the familiar sklearn API\n",
        "class RLasso(BaseEstimator, RegressorMixin):\n",
        "\n",
        "    def __init__(self, *, post=True):\n",
        "        self.post = post\n",
        "\n",
        "    def fit(self, X, y):\n",
        "        self.rlasso_ = hdmpy.rlasso(X, y, post=self.post)\n",
        "        return self\n",
        "\n",
        "    @property\n",
        "    def coef_(self):\n",
        "        return np.array(self.rlasso_.est['beta']).flatten()\n",
        "\n",
        "    @property\n",
        "    def intercept_(self):\n",
        "        return np.array(self.rlasso_.est['intercept'])\n",
        "\n",
        "    def predict(self, X):\n",
        "        return X @ self.coef_ + self.intercept_"
      ]
    },
    {
      "cell_type": "code",
      "execution_count": 14,
      "metadata": {
        "id": "gr5y5MdrXzEM",
        "colab": {
          "base_uri": "https://localhost:8080/"
        },
        "outputId": "0f214780-5ae5-47d9-995e-aac8f202b129"
      },
      "outputs": [
        {
          "output_type": "stream",
          "name": "stdout",
          "text": [
            "0.0082, 0.0005, 0.2006\n"
          ]
        }
      ],
      "source": [
        "# Optimal lasso\n",
        "lasso = make_pipeline(StandardScaler(), RLasso(post=False))\n",
        "lasso.fit(X_train, y_train)\n",
        "ypred_lasso = lasso.predict(X_test)\n",
        "results['lasso'] = metrics(X_test, y_test, lasso)"
      ]
    },
    {
      "cell_type": "code",
      "execution_count": 15,
      "metadata": {
        "id": "JwgiRcnOXzEM",
        "colab": {
          "base_uri": "https://localhost:8080/"
        },
        "outputId": "25935436-4aac-4365-b844-fa1a1cd53999"
      },
      "outputs": [
        {
          "output_type": "stream",
          "name": "stdout",
          "text": [
            "0.0084, 0.0006, 0.1749\n"
          ]
        }
      ],
      "source": [
        "# Optimal post-lasso\n",
        "postlasso = make_pipeline(StandardScaler(), RLasso(post=True))\n",
        "postlasso.fit(X_train, y_train)\n",
        "ypred_postlasso = postlasso.predict(X_test)\n",
        "results['postlasso'] = metrics(X_test, y_test, postlasso)"
      ]
    },
    {
      "cell_type": "code",
      "source": [
        "pd.DataFrame(results).T"
      ],
      "metadata": {
        "colab": {
          "base_uri": "https://localhost:8080/",
          "height": 252
        },
        "id": "HfkyBk7lfuDC",
        "outputId": "f7b2091f-f728-4778-c872-e5a19ff0b50f"
      },
      "execution_count": null,
      "outputs": [
        {
          "output_type": "execute_result",
          "data": {
            "text/plain": [
              "                  0         1         2\n",
              "ols        0.007852  0.000513  0.231310\n",
              "lassocv    0.007843  0.000515  0.232147\n",
              "ridgecv    0.007849  0.000513  0.231600\n",
              "elanetcv   0.007844  0.000515  0.232127\n",
              "lasso      0.008165  0.000533  0.200628\n",
              "postlasso  0.008428  0.000556  0.174893"
            ],
            "text/html": [
              "\n",
              "  <div id=\"df-736d85d1-4e79-4017-aab8-fcabd337d8de\" class=\"colab-df-container\">\n",
              "    <div>\n",
              "<style scoped>\n",
              "    .dataframe tbody tr th:only-of-type {\n",
              "        vertical-align: middle;\n",
              "    }\n",
              "\n",
              "    .dataframe tbody tr th {\n",
              "        vertical-align: top;\n",
              "    }\n",
              "\n",
              "    .dataframe thead th {\n",
              "        text-align: right;\n",
              "    }\n",
              "</style>\n",
              "<table border=\"1\" class=\"dataframe\">\n",
              "  <thead>\n",
              "    <tr style=\"text-align: right;\">\n",
              "      <th></th>\n",
              "      <th>0</th>\n",
              "      <th>1</th>\n",
              "      <th>2</th>\n",
              "    </tr>\n",
              "  </thead>\n",
              "  <tbody>\n",
              "    <tr>\n",
              "      <th>ols</th>\n",
              "      <td>0.007852</td>\n",
              "      <td>0.000513</td>\n",
              "      <td>0.231310</td>\n",
              "    </tr>\n",
              "    <tr>\n",
              "      <th>lassocv</th>\n",
              "      <td>0.007843</td>\n",
              "      <td>0.000515</td>\n",
              "      <td>0.232147</td>\n",
              "    </tr>\n",
              "    <tr>\n",
              "      <th>ridgecv</th>\n",
              "      <td>0.007849</td>\n",
              "      <td>0.000513</td>\n",
              "      <td>0.231600</td>\n",
              "    </tr>\n",
              "    <tr>\n",
              "      <th>elanetcv</th>\n",
              "      <td>0.007844</td>\n",
              "      <td>0.000515</td>\n",
              "      <td>0.232127</td>\n",
              "    </tr>\n",
              "    <tr>\n",
              "      <th>lasso</th>\n",
              "      <td>0.008165</td>\n",
              "      <td>0.000533</td>\n",
              "      <td>0.200628</td>\n",
              "    </tr>\n",
              "    <tr>\n",
              "      <th>postlasso</th>\n",
              "      <td>0.008428</td>\n",
              "      <td>0.000556</td>\n",
              "      <td>0.174893</td>\n",
              "    </tr>\n",
              "  </tbody>\n",
              "</table>\n",
              "</div>\n",
              "    <div class=\"colab-df-buttons\">\n",
              "\n",
              "  <div class=\"colab-df-container\">\n",
              "    <button class=\"colab-df-convert\" onclick=\"convertToInteractive('df-736d85d1-4e79-4017-aab8-fcabd337d8de')\"\n",
              "            title=\"Convert this dataframe to an interactive table.\"\n",
              "            style=\"display:none;\">\n",
              "\n",
              "  <svg xmlns=\"http://www.w3.org/2000/svg\" height=\"24px\" viewBox=\"0 -960 960 960\">\n",
              "    <path d=\"M120-120v-720h720v720H120Zm60-500h600v-160H180v160Zm220 220h160v-160H400v160Zm0 220h160v-160H400v160ZM180-400h160v-160H180v160Zm440 0h160v-160H620v160ZM180-180h160v-160H180v160Zm440 0h160v-160H620v160Z\"/>\n",
              "  </svg>\n",
              "    </button>\n",
              "\n",
              "  <style>\n",
              "    .colab-df-container {\n",
              "      display:flex;\n",
              "      gap: 12px;\n",
              "    }\n",
              "\n",
              "    .colab-df-convert {\n",
              "      background-color: #E8F0FE;\n",
              "      border: none;\n",
              "      border-radius: 50%;\n",
              "      cursor: pointer;\n",
              "      display: none;\n",
              "      fill: #1967D2;\n",
              "      height: 32px;\n",
              "      padding: 0 0 0 0;\n",
              "      width: 32px;\n",
              "    }\n",
              "\n",
              "    .colab-df-convert:hover {\n",
              "      background-color: #E2EBFA;\n",
              "      box-shadow: 0px 1px 2px rgba(60, 64, 67, 0.3), 0px 1px 3px 1px rgba(60, 64, 67, 0.15);\n",
              "      fill: #174EA6;\n",
              "    }\n",
              "\n",
              "    .colab-df-buttons div {\n",
              "      margin-bottom: 4px;\n",
              "    }\n",
              "\n",
              "    [theme=dark] .colab-df-convert {\n",
              "      background-color: #3B4455;\n",
              "      fill: #D2E3FC;\n",
              "    }\n",
              "\n",
              "    [theme=dark] .colab-df-convert:hover {\n",
              "      background-color: #434B5C;\n",
              "      box-shadow: 0px 1px 3px 1px rgba(0, 0, 0, 0.15);\n",
              "      filter: drop-shadow(0px 1px 2px rgba(0, 0, 0, 0.3));\n",
              "      fill: #FFFFFF;\n",
              "    }\n",
              "  </style>\n",
              "\n",
              "    <script>\n",
              "      const buttonEl =\n",
              "        document.querySelector('#df-736d85d1-4e79-4017-aab8-fcabd337d8de button.colab-df-convert');\n",
              "      buttonEl.style.display =\n",
              "        google.colab.kernel.accessAllowed ? 'block' : 'none';\n",
              "\n",
              "      async function convertToInteractive(key) {\n",
              "        const element = document.querySelector('#df-736d85d1-4e79-4017-aab8-fcabd337d8de');\n",
              "        const dataTable =\n",
              "          await google.colab.kernel.invokeFunction('convertToInteractive',\n",
              "                                                    [key], {});\n",
              "        if (!dataTable) return;\n",
              "\n",
              "        const docLinkHtml = 'Like what you see? Visit the ' +\n",
              "          '<a target=\"_blank\" href=https://colab.research.google.com/notebooks/data_table.ipynb>data table notebook</a>'\n",
              "          + ' to learn more about interactive tables.';\n",
              "        element.innerHTML = '';\n",
              "        dataTable['output_type'] = 'display_data';\n",
              "        await google.colab.output.renderOutput(dataTable, element);\n",
              "        const docLink = document.createElement('div');\n",
              "        docLink.innerHTML = docLinkHtml;\n",
              "        element.appendChild(docLink);\n",
              "      }\n",
              "    </script>\n",
              "  </div>\n",
              "\n",
              "\n",
              "<div id=\"df-f1e38878-d828-451a-a87e-b1e52ffb2994\">\n",
              "  <button class=\"colab-df-quickchart\" onclick=\"quickchart('df-f1e38878-d828-451a-a87e-b1e52ffb2994')\"\n",
              "            title=\"Suggest charts\"\n",
              "            style=\"display:none;\">\n",
              "\n",
              "<svg xmlns=\"http://www.w3.org/2000/svg\" height=\"24px\"viewBox=\"0 0 24 24\"\n",
              "     width=\"24px\">\n",
              "    <g>\n",
              "        <path d=\"M19 3H5c-1.1 0-2 .9-2 2v14c0 1.1.9 2 2 2h14c1.1 0 2-.9 2-2V5c0-1.1-.9-2-2-2zM9 17H7v-7h2v7zm4 0h-2V7h2v10zm4 0h-2v-4h2v4z\"/>\n",
              "    </g>\n",
              "</svg>\n",
              "  </button>\n",
              "\n",
              "<style>\n",
              "  .colab-df-quickchart {\n",
              "      --bg-color: #E8F0FE;\n",
              "      --fill-color: #1967D2;\n",
              "      --hover-bg-color: #E2EBFA;\n",
              "      --hover-fill-color: #174EA6;\n",
              "      --disabled-fill-color: #AAA;\n",
              "      --disabled-bg-color: #DDD;\n",
              "  }\n",
              "\n",
              "  [theme=dark] .colab-df-quickchart {\n",
              "      --bg-color: #3B4455;\n",
              "      --fill-color: #D2E3FC;\n",
              "      --hover-bg-color: #434B5C;\n",
              "      --hover-fill-color: #FFFFFF;\n",
              "      --disabled-bg-color: #3B4455;\n",
              "      --disabled-fill-color: #666;\n",
              "  }\n",
              "\n",
              "  .colab-df-quickchart {\n",
              "    background-color: var(--bg-color);\n",
              "    border: none;\n",
              "    border-radius: 50%;\n",
              "    cursor: pointer;\n",
              "    display: none;\n",
              "    fill: var(--fill-color);\n",
              "    height: 32px;\n",
              "    padding: 0;\n",
              "    width: 32px;\n",
              "  }\n",
              "\n",
              "  .colab-df-quickchart:hover {\n",
              "    background-color: var(--hover-bg-color);\n",
              "    box-shadow: 0 1px 2px rgba(60, 64, 67, 0.3), 0 1px 3px 1px rgba(60, 64, 67, 0.15);\n",
              "    fill: var(--button-hover-fill-color);\n",
              "  }\n",
              "\n",
              "  .colab-df-quickchart-complete:disabled,\n",
              "  .colab-df-quickchart-complete:disabled:hover {\n",
              "    background-color: var(--disabled-bg-color);\n",
              "    fill: var(--disabled-fill-color);\n",
              "    box-shadow: none;\n",
              "  }\n",
              "\n",
              "  .colab-df-spinner {\n",
              "    border: 2px solid var(--fill-color);\n",
              "    border-color: transparent;\n",
              "    border-bottom-color: var(--fill-color);\n",
              "    animation:\n",
              "      spin 1s steps(1) infinite;\n",
              "  }\n",
              "\n",
              "  @keyframes spin {\n",
              "    0% {\n",
              "      border-color: transparent;\n",
              "      border-bottom-color: var(--fill-color);\n",
              "      border-left-color: var(--fill-color);\n",
              "    }\n",
              "    20% {\n",
              "      border-color: transparent;\n",
              "      border-left-color: var(--fill-color);\n",
              "      border-top-color: var(--fill-color);\n",
              "    }\n",
              "    30% {\n",
              "      border-color: transparent;\n",
              "      border-left-color: var(--fill-color);\n",
              "      border-top-color: var(--fill-color);\n",
              "      border-right-color: var(--fill-color);\n",
              "    }\n",
              "    40% {\n",
              "      border-color: transparent;\n",
              "      border-right-color: var(--fill-color);\n",
              "      border-top-color: var(--fill-color);\n",
              "    }\n",
              "    60% {\n",
              "      border-color: transparent;\n",
              "      border-right-color: var(--fill-color);\n",
              "    }\n",
              "    80% {\n",
              "      border-color: transparent;\n",
              "      border-right-color: var(--fill-color);\n",
              "      border-bottom-color: var(--fill-color);\n",
              "    }\n",
              "    90% {\n",
              "      border-color: transparent;\n",
              "      border-bottom-color: var(--fill-color);\n",
              "    }\n",
              "  }\n",
              "</style>\n",
              "\n",
              "  <script>\n",
              "    async function quickchart(key) {\n",
              "      const quickchartButtonEl =\n",
              "        document.querySelector('#' + key + ' button');\n",
              "      quickchartButtonEl.disabled = true;  // To prevent multiple clicks.\n",
              "      quickchartButtonEl.classList.add('colab-df-spinner');\n",
              "      try {\n",
              "        const charts = await google.colab.kernel.invokeFunction(\n",
              "            'suggestCharts', [key], {});\n",
              "      } catch (error) {\n",
              "        console.error('Error during call to suggestCharts:', error);\n",
              "      }\n",
              "      quickchartButtonEl.classList.remove('colab-df-spinner');\n",
              "      quickchartButtonEl.classList.add('colab-df-quickchart-complete');\n",
              "    }\n",
              "    (() => {\n",
              "      let quickchartButtonEl =\n",
              "        document.querySelector('#df-f1e38878-d828-451a-a87e-b1e52ffb2994 button');\n",
              "      quickchartButtonEl.style.display =\n",
              "        google.colab.kernel.accessAllowed ? 'block' : 'none';\n",
              "    })();\n",
              "  </script>\n",
              "</div>\n",
              "\n",
              "    </div>\n",
              "  </div>\n"
            ],
            "application/vnd.google.colaboratory.intrinsic+json": {
              "type": "dataframe",
              "summary": "{\n  \"name\": \"pd\",\n  \"rows\": 6,\n  \"fields\": [\n    {\n      \"column\": 0,\n      \"properties\": {\n        \"dtype\": \"number\",\n        \"std\": 0.0002467267104186932,\n        \"min\": 0.007843317615569962,\n        \"max\": 0.008428144203864554,\n        \"num_unique_values\": 6,\n        \"samples\": [\n          0.007851871793500147,\n          0.007843317615569962,\n          0.008428144203864554\n        ],\n        \"semantic_type\": \"\",\n        \"description\": \"\"\n      }\n    },\n    {\n      \"column\": 1,\n      \"properties\": {\n        \"dtype\": \"number\",\n        \"std\": 1.722484285073206e-05,\n        \"min\": 0.0005133870038061576,\n        \"max\": 0.0005559900164111718,\n        \"num_unique_values\": 6,\n        \"samples\": [\n          0.0005133870038061576,\n          0.0005150023366373109,\n          0.0005559900164111718\n        ],\n        \"semantic_type\": \"\",\n        \"description\": \"\"\n      }\n    },\n    {\n      \"column\": 2,\n      \"properties\": {\n        \"dtype\": \"number\",\n        \"std\": 0.024154298797597586,\n        \"min\": 0.17489309096725703,\n        \"max\": 0.23214703049603902,\n        \"num_unique_values\": 6,\n        \"samples\": [\n          0.2313095850109398,\n          0.23214703049603902,\n          0.17489309096725703\n        ],\n        \"semantic_type\": \"\",\n        \"description\": \"\"\n      }\n    }\n  ]\n}"
            }
          },
          "metadata": {},
          "execution_count": 22
        }
      ]
    },
    {
      "cell_type": "markdown",
      "metadata": {
        "id": "sy-KINKTXzEM"
      },
      "source": [
        "## Non-Linear Models"
      ]
    },
    {
      "cell_type": "markdown",
      "metadata": {
        "id": "02dJMG8WXzEM"
      },
      "source": [
        "Apply regression trees, random forests, boosted trees and neural nets to estimate the regression function $g(Z)$."
      ]
    },
    {
      "cell_type": "code",
      "execution_count": 16,
      "metadata": {
        "id": "vS7hcZ4WXzEN",
        "colab": {
          "base_uri": "https://localhost:8080/"
        },
        "outputId": "934251d5-aec2-4d3e-8d56-2a50db05b532"
      },
      "outputs": [
        {
          "output_type": "stream",
          "name": "stdout",
          "text": [
            "0.0109, 0.0006, -0.0627\n"
          ]
        }
      ],
      "source": [
        "dtr = DecisionTreeRegressor(min_samples_leaf=5)\n",
        "dtr.fit(X_train, y_train)\n",
        "ypred_dtr = dtr.predict(X_test)\n",
        "results['trees'] = metrics(X_test, y_test, dtr)"
      ]
    },
    {
      "cell_type": "code",
      "execution_count": 17,
      "metadata": {
        "id": "xcDIsHugXzEN",
        "colab": {
          "base_uri": "https://localhost:8080/"
        },
        "outputId": "a02df053-c49f-409c-b337-c290933dbbed"
      },
      "outputs": [
        {
          "output_type": "stream",
          "name": "stdout",
          "text": [
            "0.0082, 0.0005, 0.2016\n"
          ]
        }
      ],
      "source": [
        "rf = RandomForestRegressor(n_estimators=5000, min_samples_leaf=5)\n",
        "rf.fit(X_train, y_train)\n",
        "ypred_rf = rf.predict(X_test)\n",
        "results['randforest'] = metrics(X_test, y_test, rf)"
      ]
    },
    {
      "cell_type": "code",
      "execution_count": 20,
      "metadata": {
        "id": "riShnZGtXzEN",
        "outputId": "94e0eca7-a61c-4f41-9792-23f9750c4a80",
        "colab": {
          "base_uri": "https://localhost:8080/"
        }
      },
      "outputs": [
        {
          "output_type": "stream",
          "name": "stdout",
          "text": [
            "0.0099, 0.0006, 0.0317\n"
          ]
        }
      ],
      "source": [
        "gbf = GradientBoostingRegressor(n_estimators=2500)\n",
        "gbf.fit(X_train, y_train)\n",
        "ypred_gbf = gbf.predict(X_test)\n",
        "results['gradboost'] = metrics(X_test, y_test, gbf)"
      ]
    },
    {
      "cell_type": "code",
      "execution_count": 32,
      "metadata": {
        "id": "_P4V7pKqXzEO",
        "outputId": "cd5eaa35-b5ff-44ca-d687-9c2e3415de99",
        "colab": {
          "base_uri": "https://localhost:8080/"
        }
      },
      "outputs": [
        {
          "output_type": "stream",
          "name": "stdout",
          "text": [
            "Iteration 1, loss = 7.49166990\n",
            "Iteration 2, loss = 0.28381746\n",
            "Iteration 3, loss = 0.12928758\n",
            "Iteration 4, loss = 0.02008098\n",
            "Iteration 5, loss = 0.01261349\n",
            "Iteration 6, loss = 0.00913144\n",
            "Iteration 7, loss = 0.00665508\n",
            "Iteration 8, loss = 0.00574887\n",
            "Iteration 9, loss = 0.00541616\n",
            "Iteration 10, loss = 0.00518999\n",
            "Iteration 11, loss = 0.00494119\n",
            "Iteration 12, loss = 0.00483220\n",
            "Iteration 13, loss = 0.00474113\n",
            "Iteration 14, loss = 0.00459127\n",
            "Iteration 15, loss = 0.00460573\n",
            "Iteration 16, loss = 0.00457317\n",
            "Iteration 17, loss = 0.00451058\n",
            "Iteration 18, loss = 0.00447765\n",
            "Iteration 19, loss = 0.00433670\n",
            "Iteration 20, loss = 0.00453871\n",
            "0.0112, 0.0005, -0.0968\n"
          ]
        }
      ],
      "source": [
        "nnet = MLPRegressor(hidden_layer_sizes=(200, 20, ),\n",
        "                    max_iter=20,\n",
        "                    alpha=1e-4,\n",
        "                    learning_rate_init=0.01,\n",
        "                    verbose=True,\n",
        "                    random_state=42)\n",
        "\n",
        "nnet.fit(X_train, y_train)\n",
        "ypred_nnet = nnet.predict(X_test)\n",
        "results['neuralnet'] = metrics(X_test, y_test, nnet)"
      ]
    },
    {
      "cell_type": "code",
      "execution_count": 34,
      "metadata": {
        "id": "7Ea4BEJfXzEO",
        "outputId": "27cb4690-65a4-4f1e-910f-b16585c7d82c",
        "colab": {
          "base_uri": "https://localhost:8080/"
        }
      },
      "outputs": [
        {
          "output_type": "stream",
          "name": "stdout",
          "text": [
            "Collecting skorch\n",
            "  Downloading skorch-1.0.0-py3-none-any.whl.metadata (11 kB)\n",
            "Requirement already satisfied: numpy>=1.13.3 in /usr/local/lib/python3.10/dist-packages (from skorch) (1.26.4)\n",
            "Requirement already satisfied: scikit-learn>=0.22.0 in /usr/local/lib/python3.10/dist-packages (from skorch) (1.5.2)\n",
            "Requirement already satisfied: scipy>=1.1.0 in /usr/local/lib/python3.10/dist-packages (from skorch) (1.13.1)\n",
            "Requirement already satisfied: tabulate>=0.7.7 in /usr/local/lib/python3.10/dist-packages (from skorch) (0.9.0)\n",
            "Requirement already satisfied: tqdm>=4.14.0 in /usr/local/lib/python3.10/dist-packages (from skorch) (4.66.6)\n",
            "Requirement already satisfied: joblib>=1.2.0 in /usr/local/lib/python3.10/dist-packages (from scikit-learn>=0.22.0->skorch) (1.4.2)\n",
            "Requirement already satisfied: threadpoolctl>=3.1.0 in /usr/local/lib/python3.10/dist-packages (from scikit-learn>=0.22.0->skorch) (3.5.0)\n",
            "Downloading skorch-1.0.0-py3-none-any.whl (239 kB)\n",
            "\u001b[?25l   \u001b[90m━━━━━━━━━━━━━━━━━━━━━━━━━━━━━━━━━━━━━━━━\u001b[0m \u001b[32m0.0/239.4 kB\u001b[0m \u001b[31m?\u001b[0m eta \u001b[36m-:--:--\u001b[0m\r\u001b[2K   \u001b[91m━━━━━━━━━━━━━━━━━━━━━━━━━━━━━━━━━━━━━━━\u001b[0m\u001b[90m╺\u001b[0m \u001b[32m235.5/239.4 kB\u001b[0m \u001b[31m7.0 MB/s\u001b[0m eta \u001b[36m0:00:01\u001b[0m\r\u001b[2K   \u001b[90m━━━━━━━━━━━━━━━━━━━━━━━━━━━━━━━━━━━━━━━━\u001b[0m \u001b[32m239.4/239.4 kB\u001b[0m \u001b[31m4.7 MB/s\u001b[0m eta \u001b[36m0:00:00\u001b[0m\n",
            "\u001b[?25hInstalling collected packages: skorch\n",
            "Successfully installed skorch-1.0.0\n",
            "  epoch    train_loss    valid_loss     dur\n",
            "-------  ------------  ------------  ------\n",
            "      1        \u001b[36m0.0486\u001b[0m        \u001b[32m0.0179\u001b[0m  0.9148\n",
            "      2        \u001b[36m0.0173\u001b[0m        0.0186  0.7591\n",
            "      3        \u001b[36m0.0121\u001b[0m        \u001b[32m0.0170\u001b[0m  1.0163\n",
            "      4        \u001b[36m0.0104\u001b[0m        \u001b[32m0.0161\u001b[0m  1.1240\n",
            "      5        \u001b[36m0.0096\u001b[0m        \u001b[32m0.0132\u001b[0m  1.1511\n",
            "      6        \u001b[36m0.0091\u001b[0m        \u001b[32m0.0109\u001b[0m  0.9321\n",
            "      7        \u001b[36m0.0086\u001b[0m        0.0110  0.7904\n",
            "      8        \u001b[36m0.0083\u001b[0m        0.0109  0.8464\n",
            "      9        \u001b[36m0.0080\u001b[0m        \u001b[32m0.0103\u001b[0m  0.7813\n",
            "     10        \u001b[36m0.0080\u001b[0m        \u001b[32m0.0097\u001b[0m  0.8132\n",
            "     11        \u001b[36m0.0079\u001b[0m        \u001b[32m0.0093\u001b[0m  0.8537\n",
            "     12        \u001b[36m0.0078\u001b[0m        0.0093  0.9027\n",
            "     13        \u001b[36m0.0076\u001b[0m        \u001b[32m0.0092\u001b[0m  0.8104\n",
            "     14        0.0077        0.0093  0.8263\n",
            "     15        \u001b[36m0.0076\u001b[0m        0.0102  0.8426\n",
            "     16        \u001b[36m0.0076\u001b[0m        0.0093  0.7828\n",
            "     17        \u001b[36m0.0076\u001b[0m        0.0093  0.7631\n",
            "Stopping since valid_loss has not improved in the last 5 epochs.\n",
            "0.0085, 0.0005, 0.1649\n"
          ]
        }
      ],
      "source": [
        "!pip install skorch\n",
        "import skorch\n",
        "from torch import nn, optim\n",
        "\n",
        "arch = nn.Sequential(nn.Linear(X_train.shape[1], 200), nn.ReLU(),\n",
        "                     nn.Linear(200, 20), nn.ReLU(),\n",
        "                     nn.Linear(20, 1))\n",
        "nnet_early = skorch.NeuralNetRegressor(arch, lr=0.01, batch_size=10,\n",
        "                                       max_epochs=100,\n",
        "                                       optimizer=optim.Adam,\n",
        "                                       callbacks=[skorch.callbacks.EarlyStopping()])\n",
        "nnet_early.fit(X_train.astype(np.float32), y_train.reshape(-1, 1).astype(np.float32))\n",
        "ypred_nnet_early = nnet_early.predict(X_test.astype(np.float32)).flatten()\n",
        "results['neuralnet_early'] = metrics(X_test.astype(np.float32),\n",
        "                                y_test.reshape(-1, 1).astype(np.float32), nnet_early)"
      ]
    },
    {
      "cell_type": "code",
      "execution_count": 35,
      "metadata": {
        "id": "Il9blxMsXzEO",
        "outputId": "128798d4-adf5-499f-dd51-fa08d91cedfd",
        "colab": {
          "base_uri": "https://localhost:8080/",
          "height": 383
        }
      },
      "outputs": [
        {
          "output_type": "execute_result",
          "data": {
            "text/plain": [
              "                      MSE  S.E. MSE       Rsq\n",
              "lassocv          0.007843  0.000515  0.232147\n",
              "elanetcv         0.007844  0.000515  0.232127\n",
              "ridgecv          0.007849  0.000513  0.231600\n",
              "ols              0.007852  0.000513  0.231310\n",
              "randforest       0.008155  0.000499  0.201607\n",
              "lasso            0.008165  0.000533  0.200628\n",
              "postlasso        0.008428  0.000556  0.174893\n",
              "neuralnet_early  0.008530  0.000536  0.164941\n",
              "gradboost        0.009890  0.000601  0.031730\n",
              "trees            0.010856  0.000614 -0.062744\n",
              "neuralnet        0.011203  0.000522 -0.096777"
            ],
            "text/html": [
              "\n",
              "  <div id=\"df-06afebdf-7e10-4798-ac63-03e486b194a4\" class=\"colab-df-container\">\n",
              "    <div>\n",
              "<style scoped>\n",
              "    .dataframe tbody tr th:only-of-type {\n",
              "        vertical-align: middle;\n",
              "    }\n",
              "\n",
              "    .dataframe tbody tr th {\n",
              "        vertical-align: top;\n",
              "    }\n",
              "\n",
              "    .dataframe thead th {\n",
              "        text-align: right;\n",
              "    }\n",
              "</style>\n",
              "<table border=\"1\" class=\"dataframe\">\n",
              "  <thead>\n",
              "    <tr style=\"text-align: right;\">\n",
              "      <th></th>\n",
              "      <th>MSE</th>\n",
              "      <th>S.E. MSE</th>\n",
              "      <th>Rsq</th>\n",
              "    </tr>\n",
              "  </thead>\n",
              "  <tbody>\n",
              "    <tr>\n",
              "      <th>lassocv</th>\n",
              "      <td>0.007843</td>\n",
              "      <td>0.000515</td>\n",
              "      <td>0.232147</td>\n",
              "    </tr>\n",
              "    <tr>\n",
              "      <th>elanetcv</th>\n",
              "      <td>0.007844</td>\n",
              "      <td>0.000515</td>\n",
              "      <td>0.232127</td>\n",
              "    </tr>\n",
              "    <tr>\n",
              "      <th>ridgecv</th>\n",
              "      <td>0.007849</td>\n",
              "      <td>0.000513</td>\n",
              "      <td>0.231600</td>\n",
              "    </tr>\n",
              "    <tr>\n",
              "      <th>ols</th>\n",
              "      <td>0.007852</td>\n",
              "      <td>0.000513</td>\n",
              "      <td>0.231310</td>\n",
              "    </tr>\n",
              "    <tr>\n",
              "      <th>randforest</th>\n",
              "      <td>0.008155</td>\n",
              "      <td>0.000499</td>\n",
              "      <td>0.201607</td>\n",
              "    </tr>\n",
              "    <tr>\n",
              "      <th>lasso</th>\n",
              "      <td>0.008165</td>\n",
              "      <td>0.000533</td>\n",
              "      <td>0.200628</td>\n",
              "    </tr>\n",
              "    <tr>\n",
              "      <th>postlasso</th>\n",
              "      <td>0.008428</td>\n",
              "      <td>0.000556</td>\n",
              "      <td>0.174893</td>\n",
              "    </tr>\n",
              "    <tr>\n",
              "      <th>neuralnet_early</th>\n",
              "      <td>0.008530</td>\n",
              "      <td>0.000536</td>\n",
              "      <td>0.164941</td>\n",
              "    </tr>\n",
              "    <tr>\n",
              "      <th>gradboost</th>\n",
              "      <td>0.009890</td>\n",
              "      <td>0.000601</td>\n",
              "      <td>0.031730</td>\n",
              "    </tr>\n",
              "    <tr>\n",
              "      <th>trees</th>\n",
              "      <td>0.010856</td>\n",
              "      <td>0.000614</td>\n",
              "      <td>-0.062744</td>\n",
              "    </tr>\n",
              "    <tr>\n",
              "      <th>neuralnet</th>\n",
              "      <td>0.011203</td>\n",
              "      <td>0.000522</td>\n",
              "      <td>-0.096777</td>\n",
              "    </tr>\n",
              "  </tbody>\n",
              "</table>\n",
              "</div>\n",
              "    <div class=\"colab-df-buttons\">\n",
              "\n",
              "  <div class=\"colab-df-container\">\n",
              "    <button class=\"colab-df-convert\" onclick=\"convertToInteractive('df-06afebdf-7e10-4798-ac63-03e486b194a4')\"\n",
              "            title=\"Convert this dataframe to an interactive table.\"\n",
              "            style=\"display:none;\">\n",
              "\n",
              "  <svg xmlns=\"http://www.w3.org/2000/svg\" height=\"24px\" viewBox=\"0 -960 960 960\">\n",
              "    <path d=\"M120-120v-720h720v720H120Zm60-500h600v-160H180v160Zm220 220h160v-160H400v160Zm0 220h160v-160H400v160ZM180-400h160v-160H180v160Zm440 0h160v-160H620v160ZM180-180h160v-160H180v160Zm440 0h160v-160H620v160Z\"/>\n",
              "  </svg>\n",
              "    </button>\n",
              "\n",
              "  <style>\n",
              "    .colab-df-container {\n",
              "      display:flex;\n",
              "      gap: 12px;\n",
              "    }\n",
              "\n",
              "    .colab-df-convert {\n",
              "      background-color: #E8F0FE;\n",
              "      border: none;\n",
              "      border-radius: 50%;\n",
              "      cursor: pointer;\n",
              "      display: none;\n",
              "      fill: #1967D2;\n",
              "      height: 32px;\n",
              "      padding: 0 0 0 0;\n",
              "      width: 32px;\n",
              "    }\n",
              "\n",
              "    .colab-df-convert:hover {\n",
              "      background-color: #E2EBFA;\n",
              "      box-shadow: 0px 1px 2px rgba(60, 64, 67, 0.3), 0px 1px 3px 1px rgba(60, 64, 67, 0.15);\n",
              "      fill: #174EA6;\n",
              "    }\n",
              "\n",
              "    .colab-df-buttons div {\n",
              "      margin-bottom: 4px;\n",
              "    }\n",
              "\n",
              "    [theme=dark] .colab-df-convert {\n",
              "      background-color: #3B4455;\n",
              "      fill: #D2E3FC;\n",
              "    }\n",
              "\n",
              "    [theme=dark] .colab-df-convert:hover {\n",
              "      background-color: #434B5C;\n",
              "      box-shadow: 0px 1px 3px 1px rgba(0, 0, 0, 0.15);\n",
              "      filter: drop-shadow(0px 1px 2px rgba(0, 0, 0, 0.3));\n",
              "      fill: #FFFFFF;\n",
              "    }\n",
              "  </style>\n",
              "\n",
              "    <script>\n",
              "      const buttonEl =\n",
              "        document.querySelector('#df-06afebdf-7e10-4798-ac63-03e486b194a4 button.colab-df-convert');\n",
              "      buttonEl.style.display =\n",
              "        google.colab.kernel.accessAllowed ? 'block' : 'none';\n",
              "\n",
              "      async function convertToInteractive(key) {\n",
              "        const element = document.querySelector('#df-06afebdf-7e10-4798-ac63-03e486b194a4');\n",
              "        const dataTable =\n",
              "          await google.colab.kernel.invokeFunction('convertToInteractive',\n",
              "                                                    [key], {});\n",
              "        if (!dataTable) return;\n",
              "\n",
              "        const docLinkHtml = 'Like what you see? Visit the ' +\n",
              "          '<a target=\"_blank\" href=https://colab.research.google.com/notebooks/data_table.ipynb>data table notebook</a>'\n",
              "          + ' to learn more about interactive tables.';\n",
              "        element.innerHTML = '';\n",
              "        dataTable['output_type'] = 'display_data';\n",
              "        await google.colab.output.renderOutput(dataTable, element);\n",
              "        const docLink = document.createElement('div');\n",
              "        docLink.innerHTML = docLinkHtml;\n",
              "        element.appendChild(docLink);\n",
              "      }\n",
              "    </script>\n",
              "  </div>\n",
              "\n",
              "\n",
              "<div id=\"df-80f45319-9215-4aaa-9a70-c429d0b457ec\">\n",
              "  <button class=\"colab-df-quickchart\" onclick=\"quickchart('df-80f45319-9215-4aaa-9a70-c429d0b457ec')\"\n",
              "            title=\"Suggest charts\"\n",
              "            style=\"display:none;\">\n",
              "\n",
              "<svg xmlns=\"http://www.w3.org/2000/svg\" height=\"24px\"viewBox=\"0 0 24 24\"\n",
              "     width=\"24px\">\n",
              "    <g>\n",
              "        <path d=\"M19 3H5c-1.1 0-2 .9-2 2v14c0 1.1.9 2 2 2h14c1.1 0 2-.9 2-2V5c0-1.1-.9-2-2-2zM9 17H7v-7h2v7zm4 0h-2V7h2v10zm4 0h-2v-4h2v4z\"/>\n",
              "    </g>\n",
              "</svg>\n",
              "  </button>\n",
              "\n",
              "<style>\n",
              "  .colab-df-quickchart {\n",
              "      --bg-color: #E8F0FE;\n",
              "      --fill-color: #1967D2;\n",
              "      --hover-bg-color: #E2EBFA;\n",
              "      --hover-fill-color: #174EA6;\n",
              "      --disabled-fill-color: #AAA;\n",
              "      --disabled-bg-color: #DDD;\n",
              "  }\n",
              "\n",
              "  [theme=dark] .colab-df-quickchart {\n",
              "      --bg-color: #3B4455;\n",
              "      --fill-color: #D2E3FC;\n",
              "      --hover-bg-color: #434B5C;\n",
              "      --hover-fill-color: #FFFFFF;\n",
              "      --disabled-bg-color: #3B4455;\n",
              "      --disabled-fill-color: #666;\n",
              "  }\n",
              "\n",
              "  .colab-df-quickchart {\n",
              "    background-color: var(--bg-color);\n",
              "    border: none;\n",
              "    border-radius: 50%;\n",
              "    cursor: pointer;\n",
              "    display: none;\n",
              "    fill: var(--fill-color);\n",
              "    height: 32px;\n",
              "    padding: 0;\n",
              "    width: 32px;\n",
              "  }\n",
              "\n",
              "  .colab-df-quickchart:hover {\n",
              "    background-color: var(--hover-bg-color);\n",
              "    box-shadow: 0 1px 2px rgba(60, 64, 67, 0.3), 0 1px 3px 1px rgba(60, 64, 67, 0.15);\n",
              "    fill: var(--button-hover-fill-color);\n",
              "  }\n",
              "\n",
              "  .colab-df-quickchart-complete:disabled,\n",
              "  .colab-df-quickchart-complete:disabled:hover {\n",
              "    background-color: var(--disabled-bg-color);\n",
              "    fill: var(--disabled-fill-color);\n",
              "    box-shadow: none;\n",
              "  }\n",
              "\n",
              "  .colab-df-spinner {\n",
              "    border: 2px solid var(--fill-color);\n",
              "    border-color: transparent;\n",
              "    border-bottom-color: var(--fill-color);\n",
              "    animation:\n",
              "      spin 1s steps(1) infinite;\n",
              "  }\n",
              "\n",
              "  @keyframes spin {\n",
              "    0% {\n",
              "      border-color: transparent;\n",
              "      border-bottom-color: var(--fill-color);\n",
              "      border-left-color: var(--fill-color);\n",
              "    }\n",
              "    20% {\n",
              "      border-color: transparent;\n",
              "      border-left-color: var(--fill-color);\n",
              "      border-top-color: var(--fill-color);\n",
              "    }\n",
              "    30% {\n",
              "      border-color: transparent;\n",
              "      border-left-color: var(--fill-color);\n",
              "      border-top-color: var(--fill-color);\n",
              "      border-right-color: var(--fill-color);\n",
              "    }\n",
              "    40% {\n",
              "      border-color: transparent;\n",
              "      border-right-color: var(--fill-color);\n",
              "      border-top-color: var(--fill-color);\n",
              "    }\n",
              "    60% {\n",
              "      border-color: transparent;\n",
              "      border-right-color: var(--fill-color);\n",
              "    }\n",
              "    80% {\n",
              "      border-color: transparent;\n",
              "      border-right-color: var(--fill-color);\n",
              "      border-bottom-color: var(--fill-color);\n",
              "    }\n",
              "    90% {\n",
              "      border-color: transparent;\n",
              "      border-bottom-color: var(--fill-color);\n",
              "    }\n",
              "  }\n",
              "</style>\n",
              "\n",
              "  <script>\n",
              "    async function quickchart(key) {\n",
              "      const quickchartButtonEl =\n",
              "        document.querySelector('#' + key + ' button');\n",
              "      quickchartButtonEl.disabled = true;  // To prevent multiple clicks.\n",
              "      quickchartButtonEl.classList.add('colab-df-spinner');\n",
              "      try {\n",
              "        const charts = await google.colab.kernel.invokeFunction(\n",
              "            'suggestCharts', [key], {});\n",
              "      } catch (error) {\n",
              "        console.error('Error during call to suggestCharts:', error);\n",
              "      }\n",
              "      quickchartButtonEl.classList.remove('colab-df-spinner');\n",
              "      quickchartButtonEl.classList.add('colab-df-quickchart-complete');\n",
              "    }\n",
              "    (() => {\n",
              "      let quickchartButtonEl =\n",
              "        document.querySelector('#df-80f45319-9215-4aaa-9a70-c429d0b457ec button');\n",
              "      quickchartButtonEl.style.display =\n",
              "        google.colab.kernel.accessAllowed ? 'block' : 'none';\n",
              "    })();\n",
              "  </script>\n",
              "</div>\n",
              "\n",
              "    </div>\n",
              "  </div>\n"
            ],
            "application/vnd.google.colaboratory.intrinsic+json": {
              "type": "dataframe",
              "summary": "{\n  \"name\": \"df\",\n  \"rows\": 11,\n  \"fields\": [\n    {\n      \"column\": \"MSE\",\n      \"properties\": {\n        \"dtype\": \"number\",\n        \"std\": 0.0012589616316614168,\n        \"min\": 0.007843317615569962,\n        \"max\": 0.011203152494014984,\n        \"num_unique_values\": 11,\n        \"samples\": [\n          0.00816527232999548,\n          0.007843317615569962,\n          0.010855516413425262\n        ],\n        \"semantic_type\": \"\",\n        \"description\": \"\"\n      }\n    },\n    {\n      \"column\": \"S.E. MSE\",\n      \"properties\": {\n        \"dtype\": \"number\",\n        \"std\": 3.7636621154478185e-05,\n        \"min\": 0.0004989784838599499,\n        \"max\": 0.0006143658458146453,\n        \"num_unique_values\": 11,\n        \"samples\": [\n          0.0005326593029231422,\n          0.0005150023366373109,\n          0.0006143658458146453\n        ],\n        \"semantic_type\": \"\",\n        \"description\": \"\"\n      }\n    },\n    {\n      \"column\": \"Rsq\",\n      \"properties\": {\n        \"dtype\": \"number\",\n        \"std\": 0.12325108670224162,\n        \"min\": -0.09677745208970356,\n        \"max\": 0.23214703049603902,\n        \"num_unique_values\": 11,\n        \"samples\": [\n          0.20062798515906533,\n          0.23214703049603902,\n          -0.06274422662684076\n        ],\n        \"semantic_type\": \"\",\n        \"description\": \"\"\n      }\n    }\n  ]\n}"
            }
          },
          "metadata": {},
          "execution_count": 35
        }
      ],
      "source": [
        "df = pd.DataFrame(results).T\n",
        "df.columns = ['MSE', 'S.E. MSE', 'Rsq']\n",
        "df.sort_values('MSE', ascending=True)"
      ]
    },
    {
      "cell_type": "markdown",
      "metadata": {
        "id": "5kqZBjN-XzEO"
      },
      "source": [
        "## Stacking"
      ]
    },
    {
      "cell_type": "markdown",
      "metadata": {
        "id": "ZajLaRcAXzEP"
      },
      "source": [
        "In the final step, build a prediction model by combining the strength of each model.\n",
        "$$\n",
        "g(z) = \\sum_{k=1}^K \\alpha_k g_k(z)\n",
        "$$\n",
        "where $g_k$'s denote our prediction rules from the table above and the $\\alpha_k$'s are the corresponding weights."
      ]
    },
    {
      "cell_type": "code",
      "source": [
        "np.stack([ypred_ols, ypred_lcv, ypred_rcv, ypred_ecv, ypred_lasso, ypred_postlasso,\n",
        "                   ypred_dtr, ypred_rf, ypred_gbf, ypred_nnet, ypred_nnet_early], axis=-1).shape"
      ],
      "metadata": {
        "id": "6BMzfRJAg1RP",
        "outputId": "b4b1e882-8011-44dd-923e-eb0190d8c431",
        "colab": {
          "base_uri": "https://localhost:8080/"
        }
      },
      "execution_count": 39,
      "outputs": [
        {
          "output_type": "execute_result",
          "data": {
            "text/plain": [
              "(1687, 11)"
            ]
          },
          "metadata": {},
          "execution_count": 39
        }
      ]
    },
    {
      "cell_type": "code",
      "execution_count": 40,
      "metadata": {
        "id": "mRUGKnMxXzEP",
        "outputId": "307249a3-f417-4acb-9738-6ec9dde35414",
        "colab": {
          "base_uri": "https://localhost:8080/",
          "height": 383
        }
      },
      "outputs": [
        {
          "output_type": "execute_result",
          "data": {
            "text/plain": [
              "                             weight\n",
              "OLS                            1.22\n",
              "CV Lasso                     193.86\n",
              "CV Ridge                      -0.82\n",
              "CV ElasticNet               -193.54\n",
              "Lasso                         -0.31\n",
              "Post-Lasso OLS                -0.02\n",
              "Decision Tree                 -0.01\n",
              "Random Forest                  0.48\n",
              "Boosted Forest                -0.03\n",
              "Neural Net                    -0.12\n",
              "Neural Net (early stopping)    0.17"
            ],
            "text/html": [
              "\n",
              "  <div id=\"df-608b42ce-816b-469f-ba13-06a2396ce09a\" class=\"colab-df-container\">\n",
              "    <div>\n",
              "<style scoped>\n",
              "    .dataframe tbody tr th:only-of-type {\n",
              "        vertical-align: middle;\n",
              "    }\n",
              "\n",
              "    .dataframe tbody tr th {\n",
              "        vertical-align: top;\n",
              "    }\n",
              "\n",
              "    .dataframe thead th {\n",
              "        text-align: right;\n",
              "    }\n",
              "</style>\n",
              "<table border=\"1\" class=\"dataframe\">\n",
              "  <thead>\n",
              "    <tr style=\"text-align: right;\">\n",
              "      <th></th>\n",
              "      <th>weight</th>\n",
              "    </tr>\n",
              "  </thead>\n",
              "  <tbody>\n",
              "    <tr>\n",
              "      <th>OLS</th>\n",
              "      <td>1.22</td>\n",
              "    </tr>\n",
              "    <tr>\n",
              "      <th>CV Lasso</th>\n",
              "      <td>193.86</td>\n",
              "    </tr>\n",
              "    <tr>\n",
              "      <th>CV Ridge</th>\n",
              "      <td>-0.82</td>\n",
              "    </tr>\n",
              "    <tr>\n",
              "      <th>CV ElasticNet</th>\n",
              "      <td>-193.54</td>\n",
              "    </tr>\n",
              "    <tr>\n",
              "      <th>Lasso</th>\n",
              "      <td>-0.31</td>\n",
              "    </tr>\n",
              "    <tr>\n",
              "      <th>Post-Lasso OLS</th>\n",
              "      <td>-0.02</td>\n",
              "    </tr>\n",
              "    <tr>\n",
              "      <th>Decision Tree</th>\n",
              "      <td>-0.01</td>\n",
              "    </tr>\n",
              "    <tr>\n",
              "      <th>Random Forest</th>\n",
              "      <td>0.48</td>\n",
              "    </tr>\n",
              "    <tr>\n",
              "      <th>Boosted Forest</th>\n",
              "      <td>-0.03</td>\n",
              "    </tr>\n",
              "    <tr>\n",
              "      <th>Neural Net</th>\n",
              "      <td>-0.12</td>\n",
              "    </tr>\n",
              "    <tr>\n",
              "      <th>Neural Net (early stopping)</th>\n",
              "      <td>0.17</td>\n",
              "    </tr>\n",
              "  </tbody>\n",
              "</table>\n",
              "</div>\n",
              "    <div class=\"colab-df-buttons\">\n",
              "\n",
              "  <div class=\"colab-df-container\">\n",
              "    <button class=\"colab-df-convert\" onclick=\"convertToInteractive('df-608b42ce-816b-469f-ba13-06a2396ce09a')\"\n",
              "            title=\"Convert this dataframe to an interactive table.\"\n",
              "            style=\"display:none;\">\n",
              "\n",
              "  <svg xmlns=\"http://www.w3.org/2000/svg\" height=\"24px\" viewBox=\"0 -960 960 960\">\n",
              "    <path d=\"M120-120v-720h720v720H120Zm60-500h600v-160H180v160Zm220 220h160v-160H400v160Zm0 220h160v-160H400v160ZM180-400h160v-160H180v160Zm440 0h160v-160H620v160ZM180-180h160v-160H180v160Zm440 0h160v-160H620v160Z\"/>\n",
              "  </svg>\n",
              "    </button>\n",
              "\n",
              "  <style>\n",
              "    .colab-df-container {\n",
              "      display:flex;\n",
              "      gap: 12px;\n",
              "    }\n",
              "\n",
              "    .colab-df-convert {\n",
              "      background-color: #E8F0FE;\n",
              "      border: none;\n",
              "      border-radius: 50%;\n",
              "      cursor: pointer;\n",
              "      display: none;\n",
              "      fill: #1967D2;\n",
              "      height: 32px;\n",
              "      padding: 0 0 0 0;\n",
              "      width: 32px;\n",
              "    }\n",
              "\n",
              "    .colab-df-convert:hover {\n",
              "      background-color: #E2EBFA;\n",
              "      box-shadow: 0px 1px 2px rgba(60, 64, 67, 0.3), 0px 1px 3px 1px rgba(60, 64, 67, 0.15);\n",
              "      fill: #174EA6;\n",
              "    }\n",
              "\n",
              "    .colab-df-buttons div {\n",
              "      margin-bottom: 4px;\n",
              "    }\n",
              "\n",
              "    [theme=dark] .colab-df-convert {\n",
              "      background-color: #3B4455;\n",
              "      fill: #D2E3FC;\n",
              "    }\n",
              "\n",
              "    [theme=dark] .colab-df-convert:hover {\n",
              "      background-color: #434B5C;\n",
              "      box-shadow: 0px 1px 3px 1px rgba(0, 0, 0, 0.15);\n",
              "      filter: drop-shadow(0px 1px 2px rgba(0, 0, 0, 0.3));\n",
              "      fill: #FFFFFF;\n",
              "    }\n",
              "  </style>\n",
              "\n",
              "    <script>\n",
              "      const buttonEl =\n",
              "        document.querySelector('#df-608b42ce-816b-469f-ba13-06a2396ce09a button.colab-df-convert');\n",
              "      buttonEl.style.display =\n",
              "        google.colab.kernel.accessAllowed ? 'block' : 'none';\n",
              "\n",
              "      async function convertToInteractive(key) {\n",
              "        const element = document.querySelector('#df-608b42ce-816b-469f-ba13-06a2396ce09a');\n",
              "        const dataTable =\n",
              "          await google.colab.kernel.invokeFunction('convertToInteractive',\n",
              "                                                    [key], {});\n",
              "        if (!dataTable) return;\n",
              "\n",
              "        const docLinkHtml = 'Like what you see? Visit the ' +\n",
              "          '<a target=\"_blank\" href=https://colab.research.google.com/notebooks/data_table.ipynb>data table notebook</a>'\n",
              "          + ' to learn more about interactive tables.';\n",
              "        element.innerHTML = '';\n",
              "        dataTable['output_type'] = 'display_data';\n",
              "        await google.colab.output.renderOutput(dataTable, element);\n",
              "        const docLink = document.createElement('div');\n",
              "        docLink.innerHTML = docLinkHtml;\n",
              "        element.appendChild(docLink);\n",
              "      }\n",
              "    </script>\n",
              "  </div>\n",
              "\n",
              "\n",
              "<div id=\"df-64efbdad-9c64-47c2-9470-0230fcc64990\">\n",
              "  <button class=\"colab-df-quickchart\" onclick=\"quickchart('df-64efbdad-9c64-47c2-9470-0230fcc64990')\"\n",
              "            title=\"Suggest charts\"\n",
              "            style=\"display:none;\">\n",
              "\n",
              "<svg xmlns=\"http://www.w3.org/2000/svg\" height=\"24px\"viewBox=\"0 0 24 24\"\n",
              "     width=\"24px\">\n",
              "    <g>\n",
              "        <path d=\"M19 3H5c-1.1 0-2 .9-2 2v14c0 1.1.9 2 2 2h14c1.1 0 2-.9 2-2V5c0-1.1-.9-2-2-2zM9 17H7v-7h2v7zm4 0h-2V7h2v10zm4 0h-2v-4h2v4z\"/>\n",
              "    </g>\n",
              "</svg>\n",
              "  </button>\n",
              "\n",
              "<style>\n",
              "  .colab-df-quickchart {\n",
              "      --bg-color: #E8F0FE;\n",
              "      --fill-color: #1967D2;\n",
              "      --hover-bg-color: #E2EBFA;\n",
              "      --hover-fill-color: #174EA6;\n",
              "      --disabled-fill-color: #AAA;\n",
              "      --disabled-bg-color: #DDD;\n",
              "  }\n",
              "\n",
              "  [theme=dark] .colab-df-quickchart {\n",
              "      --bg-color: #3B4455;\n",
              "      --fill-color: #D2E3FC;\n",
              "      --hover-bg-color: #434B5C;\n",
              "      --hover-fill-color: #FFFFFF;\n",
              "      --disabled-bg-color: #3B4455;\n",
              "      --disabled-fill-color: #666;\n",
              "  }\n",
              "\n",
              "  .colab-df-quickchart {\n",
              "    background-color: var(--bg-color);\n",
              "    border: none;\n",
              "    border-radius: 50%;\n",
              "    cursor: pointer;\n",
              "    display: none;\n",
              "    fill: var(--fill-color);\n",
              "    height: 32px;\n",
              "    padding: 0;\n",
              "    width: 32px;\n",
              "  }\n",
              "\n",
              "  .colab-df-quickchart:hover {\n",
              "    background-color: var(--hover-bg-color);\n",
              "    box-shadow: 0 1px 2px rgba(60, 64, 67, 0.3), 0 1px 3px 1px rgba(60, 64, 67, 0.15);\n",
              "    fill: var(--button-hover-fill-color);\n",
              "  }\n",
              "\n",
              "  .colab-df-quickchart-complete:disabled,\n",
              "  .colab-df-quickchart-complete:disabled:hover {\n",
              "    background-color: var(--disabled-bg-color);\n",
              "    fill: var(--disabled-fill-color);\n",
              "    box-shadow: none;\n",
              "  }\n",
              "\n",
              "  .colab-df-spinner {\n",
              "    border: 2px solid var(--fill-color);\n",
              "    border-color: transparent;\n",
              "    border-bottom-color: var(--fill-color);\n",
              "    animation:\n",
              "      spin 1s steps(1) infinite;\n",
              "  }\n",
              "\n",
              "  @keyframes spin {\n",
              "    0% {\n",
              "      border-color: transparent;\n",
              "      border-bottom-color: var(--fill-color);\n",
              "      border-left-color: var(--fill-color);\n",
              "    }\n",
              "    20% {\n",
              "      border-color: transparent;\n",
              "      border-left-color: var(--fill-color);\n",
              "      border-top-color: var(--fill-color);\n",
              "    }\n",
              "    30% {\n",
              "      border-color: transparent;\n",
              "      border-left-color: var(--fill-color);\n",
              "      border-top-color: var(--fill-color);\n",
              "      border-right-color: var(--fill-color);\n",
              "    }\n",
              "    40% {\n",
              "      border-color: transparent;\n",
              "      border-right-color: var(--fill-color);\n",
              "      border-top-color: var(--fill-color);\n",
              "    }\n",
              "    60% {\n",
              "      border-color: transparent;\n",
              "      border-right-color: var(--fill-color);\n",
              "    }\n",
              "    80% {\n",
              "      border-color: transparent;\n",
              "      border-right-color: var(--fill-color);\n",
              "      border-bottom-color: var(--fill-color);\n",
              "    }\n",
              "    90% {\n",
              "      border-color: transparent;\n",
              "      border-bottom-color: var(--fill-color);\n",
              "    }\n",
              "  }\n",
              "</style>\n",
              "\n",
              "  <script>\n",
              "    async function quickchart(key) {\n",
              "      const quickchartButtonEl =\n",
              "        document.querySelector('#' + key + ' button');\n",
              "      quickchartButtonEl.disabled = true;  // To prevent multiple clicks.\n",
              "      quickchartButtonEl.classList.add('colab-df-spinner');\n",
              "      try {\n",
              "        const charts = await google.colab.kernel.invokeFunction(\n",
              "            'suggestCharts', [key], {});\n",
              "      } catch (error) {\n",
              "        console.error('Error during call to suggestCharts:', error);\n",
              "      }\n",
              "      quickchartButtonEl.classList.remove('colab-df-spinner');\n",
              "      quickchartButtonEl.classList.add('colab-df-quickchart-complete');\n",
              "    }\n",
              "    (() => {\n",
              "      let quickchartButtonEl =\n",
              "        document.querySelector('#df-64efbdad-9c64-47c2-9470-0230fcc64990 button');\n",
              "      quickchartButtonEl.style.display =\n",
              "        google.colab.kernel.accessAllowed ? 'block' : 'none';\n",
              "    })();\n",
              "  </script>\n",
              "</div>\n",
              "\n",
              "    </div>\n",
              "  </div>\n"
            ],
            "application/vnd.google.colaboratory.intrinsic+json": {
              "type": "dataframe",
              "summary": "{\n  \"name\": \"pd\",\n  \"rows\": 11,\n  \"fields\": [\n    {\n      \"column\": \"weight\",\n      \"properties\": {\n        \"dtype\": \"number\",\n        \"std\": 86.62672382123199,\n        \"min\": -193.54,\n        \"max\": 193.86,\n        \"num_unique_values\": 11,\n        \"samples\": [\n          -0.02,\n          1.22,\n          -0.12\n        ],\n        \"semantic_type\": \"\",\n        \"description\": \"\"\n      }\n    }\n  ]\n}"
            }
          },
          "metadata": {},
          "execution_count": 40
        }
      ],
      "source": [
        "method_name = ['OLS', 'CV Lasso', 'CV Ridge', 'CV ElasticNet', 'Lasso', 'Post-Lasso OLS',\n",
        "               'Decision Tree', 'Random Forest', 'Boosted Forest', 'Neural Net', 'Neural Net (early stopping)']\n",
        "\n",
        "ypreds = np.stack([ypred_ols, ypred_lcv, ypred_rcv, ypred_ecv, ypred_lasso, ypred_postlasso,\n",
        "                   ypred_dtr, ypred_rf, ypred_gbf, ypred_nnet, ypred_nnet_early], axis=-1)\n",
        "\n",
        "\n",
        "stack_ols = LinearRegression().fit(ypreds, y_test)\n",
        "pd.DataFrame({'weight': stack_ols.coef_}, index=method_name).round(2)"
      ]
    },
    {
      "cell_type": "code",
      "execution_count": 41,
      "metadata": {
        "id": "4TfZSUXUXzEP",
        "outputId": "c7eb6b52-c9f6-4566-db9a-f4565c6f900e",
        "colab": {
          "base_uri": "https://localhost:8080/"
        }
      },
      "outputs": [
        {
          "output_type": "stream",
          "name": "stdout",
          "text": [
            "MSE: 0.0075, R^2: 0.2665\n"
          ]
        }
      ],
      "source": [
        "# Calculate the test sample MSE and Rsq\n",
        "# We should have left out a third sample to validate the performance of the stacked model\n",
        "mse = np.mean((y_test - stack_ols.predict(ypreds))**2) #predicting using a weighted average of the other predictions.\n",
        "r2 = 1 - mse / np.var(y_test)\n",
        "print(f'MSE: {mse:.4f}, R^2: {r2:.4f}')"
      ]
    },
    {
      "cell_type": "markdown",
      "metadata": {
        "id": "kGj6WK3mXzEQ"
      },
      "source": [
        "## Pipelines"
      ]
    },
    {
      "cell_type": "markdown",
      "metadata": {
        "id": "7tFniD-gXzEQ"
      },
      "source": [
        "We can also do it in a more sklearn way, by defining a formula transformer and corresponding pipelines"
      ]
    },
    {
      "cell_type": "code",
      "execution_count": 48,
      "metadata": {
        "id": "bBKdXAUFXzEQ"
      },
      "outputs": [],
      "source": [
        "class FormulaTransformer(TransformerMixin, BaseEstimator):\n",
        "\n",
        "    def __init__(self, formula):\n",
        "        self.formula = formula\n",
        "\n",
        "    def fit(self, X, y=None):\n",
        "        mat = patsy.dmatrix(self.formula, X, return_type='matrix')\n",
        "        self.design_info = mat.design_info\n",
        "        return self\n",
        "\n",
        "    def transform(self, X, y=None):\n",
        "        return patsy.build_design_matrices([self.design_info], X)[0]"
      ]
    },
    {
      "cell_type": "code",
      "execution_count": 49,
      "metadata": {
        "id": "GWE7jPXhXzEQ"
      },
      "outputs": [],
      "source": [
        "base = FormulaTransformer(model_base)\n",
        "#methods ="
      ]
    },
    {
      "cell_type": "code",
      "execution_count": null,
      "metadata": {
        "id": "OBz3vtXLXzER"
      },
      "outputs": [],
      "source": [
        "results = {}\n",
        "ypreds = np.zeros((len(test_idx), len(methods)))  # test predictions used for stacking\n",
        "\n",
        "for it, (name, estimator) in enumerate(methods):\n",
        "    # Fit the estimator and predict\n",
        "\n",
        "    ypreds[:, it] =\n",
        "    results[name] = metrics(Z.iloc[test_idx], y[test_idx], estimator)"
      ]
    },
    {
      "cell_type": "code",
      "execution_count": null,
      "metadata": {
        "id": "ytZaqT1DXzER"
      },
      "outputs": [],
      "source": [
        "df = pd.DataFrame(results).T\n",
        "df.columns = ['MSE', 'S.E. MSE', 'Rsq']\n",
        "df"
      ]
    },
    {
      "cell_type": "markdown",
      "metadata": {
        "id": "Dnk8_Xc-NDpr"
      },
      "source": [
        "1. Partition the data in k-folds\n",
        "\n",
        "2. For each fold, train each of the estimators in the `methods` parameter on all the data outside of the fold and then predict on the data in the fold\n",
        "\n",
        "3. Train a `final_estimator` predicting the true outcome using the out-of-fold predictions of each method as features\n",
        "\n",
        "4. All the base estimators are re-fitted on all the data and the final predictor will first predict based on each fitted based estimator and then aggregate based on the fitted `final_estimator`\n"
      ]
    },
    {
      "cell_type": "code",
      "execution_count": null,
      "metadata": {
        "id": "hF7Xj1IRXzES"
      },
      "outputs": [],
      "source": [
        "# Stacking with sklearn\n",
        "stack ="
      ]
    },
    {
      "cell_type": "code",
      "execution_count": null,
      "metadata": {
        "id": "8DOtieuPXzES"
      },
      "outputs": [],
      "source": [
        "# Weights of the final estimator\n",
        "pd.DataFrame({'weight': stack.final_estimator_.coef_}, index=[name for name, _ in methods])"
      ]
    },
    {
      "cell_type": "code",
      "execution_count": null,
      "metadata": {
        "id": "t6mZE3SjXzES"
      },
      "outputs": [],
      "source": [
        "# Out-of-sample performance\n",
        "mse, semse, r2 = metrics(Z.iloc[test_idx], y[test_idx], stack)"
      ]
    },
    {
      "cell_type": "markdown",
      "metadata": {
        "id": "UEB4MPK7XzES"
      },
      "source": [
        "## AutoML"
      ]
    },
    {
      "cell_type": "code",
      "source": [
        "!pip install flaml"
      ],
      "metadata": {
        "id": "zV-7qAYEioH8",
        "outputId": "1d19ac1b-af46-4db0-fe44-ef17bd525cea",
        "colab": {
          "base_uri": "https://localhost:8080/"
        }
      },
      "execution_count": 42,
      "outputs": [
        {
          "output_type": "stream",
          "name": "stdout",
          "text": [
            "Collecting flaml\n",
            "  Downloading FLAML-2.3.2-py3-none-any.whl.metadata (16 kB)\n",
            "Requirement already satisfied: NumPy>=1.17 in /usr/local/lib/python3.10/dist-packages (from flaml) (1.26.4)\n",
            "Downloading FLAML-2.3.2-py3-none-any.whl (313 kB)\n",
            "\u001b[?25l   \u001b[90m━━━━━━━━━━━━━━━━━━━━━━━━━━━━━━━━━━━━━━━━\u001b[0m \u001b[32m0.0/313.9 kB\u001b[0m \u001b[31m?\u001b[0m eta \u001b[36m-:--:--\u001b[0m\r\u001b[2K   \u001b[91m━━━━━━━━━━━━━━━━━━━━━━━━━━━━━━━━━━━━━━━\u001b[0m\u001b[90m╺\u001b[0m \u001b[32m307.2/313.9 kB\u001b[0m \u001b[31m9.8 MB/s\u001b[0m eta \u001b[36m0:00:01\u001b[0m\r\u001b[2K   \u001b[90m━━━━━━━━━━━━━━━━━━━━━━━━━━━━━━━━━━━━━━━━\u001b[0m \u001b[32m313.9/313.9 kB\u001b[0m \u001b[31m6.5 MB/s\u001b[0m eta \u001b[36m0:00:00\u001b[0m\n",
            "\u001b[?25hInstalling collected packages: flaml\n",
            "Successfully installed flaml-2.3.2\n"
          ]
        }
      ]
    },
    {
      "cell_type": "code",
      "execution_count": null,
      "metadata": {
        "id": "WamITPbbXzET"
      },
      "outputs": [],
      "source": [
        "from flaml import AutoML\n",
        "\n",
        "automl = make_pipeline(base, AutoML(task='regression', time_budget=60, early_stop=True,\n",
        "                                    eval_methods='cv', n_splits=5, metric='r2', verbose=3))\n",
        "\n",
        "automl.fit(X_train, y_train)"
      ]
    },
    {
      "cell_type": "code",
      "execution_count": null,
      "metadata": {
        "id": "8NXhzJOQXzET"
      },
      "outputs": [],
      "source": [
        "# Out-of-sample performance\n",
        "mse, semse, r2 = metrics(Z.iloc[test_idx], y[test_idx], automl)"
      ]
    },
    {
      "cell_type": "code",
      "execution_count": null,
      "metadata": {
        "id": "z3J6dBahXzET"
      },
      "outputs": [],
      "source": [
        "# Stacking with flaml\n",
        "automl ="
      ]
    },
    {
      "cell_type": "code",
      "execution_count": null,
      "metadata": {
        "id": "TBSQubj4XzET"
      },
      "outputs": [],
      "source": [
        "# Out-of-sample performance\n",
        "mse, semse, r2 = metrics(Z.iloc[test_idx], y[test_idx], automl)"
      ]
    },
    {
      "cell_type": "code",
      "execution_count": null,
      "metadata": {
        "id": "qjoEecFQNDpt"
      },
      "outputs": [],
      "source": []
    }
  ],
  "metadata": {
    "colab": {
      "provenance": [],
      "include_colab_link": true
    },
    "kernelspec": {
      "display_name": "Python 3 (ipykernel)",
      "language": "python",
      "name": "python3"
    },
    "language_info": {
      "codemirror_mode": {
        "name": "ipython",
        "version": 3
      },
      "file_extension": ".py",
      "mimetype": "text/x-python",
      "name": "python",
      "nbconvert_exporter": "python",
      "pygments_lexer": "ipython3",
      "version": "3.9.18"
    }
  },
  "nbformat": 4,
  "nbformat_minor": 0
}