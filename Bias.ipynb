{
  "cells": [
    {
      "cell_type": "markdown",
      "metadata": {
        "id": "view-in-github",
        "colab_type": "text"
      },
      "source": [
        "<a href=\"https://colab.research.google.com/github/sofials2002/SOFIA/blob/master/Bias.ipynb\" target=\"_parent\"><img src=\"https://colab.research.google.com/assets/colab-badge.svg\" alt=\"Open In Colab\"/></a>"
      ]
    },
    {
      "cell_type": "markdown",
      "metadata": {
        "id": "nEMxtsE2jIo-"
      },
      "source": [
        "# Selection Bias in Observational Data\n",
        "\n",
        "Imagine we want to study the effect of a new recommendation algorithm on user engagement, which increases user engagement by 10% on average.\n",
        "\n",
        "Consider two data scientists:\n",
        "\n",
        "1. **Bad Data Scientist**: Rolls out the algorithm to everyone in a market and measures the effect. Users can opt in to the algorithm, and this opt-in behavior is associated with higher user engagement (e.g., heavy users are eager to try the new algorithm to the old one).\n",
        "\n",
        "2. **Good Data Scientist**: Rolls out the algorithm to a random 50% of the users in this market and measures the effect.\n",
        "\n",
        "The potential outcomes can be described as:\n",
        "\n",
        "$$\n",
        "Y(1) = Y(0) + \\delta, \\quad \\delta \\sim \\text{Normal}(0.1, 1)\n",
        "$$\n",
        "\n",
        "where $Y(1)$ is the *potential* time spent with the **new** algorithm, $Y(0)$ is the *potential* time spent with the **old** algorithm, and $\\delta$ is the effect.\n",
        "\n",
        "The action of opting in to the algorithm is denoted by $D$, which is not assigned in an experimental study. The chosen \"treatment\" variable $D$ is potentially positively associated with the user engagement outcome, inducing selection bias - the difference between the predictive effect and the causal effect.\n",
        "\n",
        "Why does this happen? If users that opt in are more likely to be heavy users (experts on your platform), then the effect of the algorithm will be overestimated.\n",
        "\n",
        "In contrast, the good data scientist uses a randomized controlled trial (RCT) to measure the effect of the algorithm, assigning the treatment $T$ randomly."
      ]
    },
    {
      "cell_type": "code",
      "execution_count": null,
      "metadata": {
        "id": "1FWcXbu6jIpA"
      },
      "outputs": [],
      "source": [
        "import numpy as np\n",
        "import matplotlib.pyplot as plt\n",
        "\n",
        "np.random.seed(42)\n",
        "\n",
        "%config InlineBackend.figure_format = \"retina\""
      ]
    },
    {
      "cell_type": "code",
      "execution_count": null,
      "metadata": {
        "id": "PQCu_zhbjIpC"
      },
      "outputs": [],
      "source": [
        "# Multivariate normal distribution of three variables with mean 0 and covariance sigma\n",
        "sigma = np.array([[1, 0.5, 0.25],\n",
        "                  [0.5, 1, 0.25],\n",
        "                  [0.25, 0.25, 1]])\n",
        "mu = np.array([0, 0, 0])\n",
        "n = 100000\n",
        "delta = np.random.normal(0.1, 1, n)\n",
        "E = np.random.multivariate_normal(mu, sigma, n)\n",
        "e0 = E[:, 0]\n",
        "e1 = E[:, 1]\n",
        "v = E[:, 2]\n",
        "\n",
        "# Individuals choose treatment based on unobserved variable v\n",
        "D = (v > 0) * 1\n",
        "\n",
        "# Randomized individuals using binomial distribution\n",
        "T = np.random.binomial(1, 0.5, n)\n",
        "\n",
        "# Potential outcomes\n",
        "y0 = e0\n",
        "y1 = e1 + delta"
      ]
    },
    {
      "cell_type": "code",
      "execution_count": null,
      "metadata": {
        "id": "Mme6aJRJjIpC"
      },
      "outputs": [],
      "source": [
        "# Observed outcomes with observational data\n",
        "yD = D*y1 + (1-D)*y0\n",
        "# Observed outcomes with randomized data\n",
        "yT = T*y1 + (1-T)*y0\n",
        "\n",
        "print('SDO:', (yD[D == 1].mean() - yD[D == 0].mean()).round(3))\n",
        "print('ATE:', (yT[T == 1].mean() - yT[T == 0].mean()).round(3))"
      ]
    },
    {
      "cell_type": "markdown",
      "metadata": {
        "id": "WLuF4--yjIpD"
      },
      "source": [
        "Let's do this 10K times and compare the results"
      ]
    },
    {
      "cell_type": "code",
      "execution_count": null,
      "metadata": {
        "id": "cBUTpaRpjIpD"
      },
      "outputs": [],
      "source": [
        "# create a multivariate normal distribution of three variables with mean 0 and covariance sigma\n",
        "nsample = 1000\n",
        "nsim = 10000\n",
        "ate = []\n",
        "sdo = []\n",
        "\n",
        "for i in range(nsim):\n",
        "    delta = np.random.normal(0.1, 1, nsample)\n",
        "    E = np.random.multivariate_normal(mu, sigma, nsample)\n",
        "    e0 = E[:, 0]\n",
        "    e1 = E[:, 1]\n",
        "    v = E[:, 2]\n",
        "    D = (v > 0) * 1\n",
        "    T = np.random.binomial(1, 0.5, nsample)\n",
        "    y0 = e0\n",
        "    y1 = e1 + delta\n",
        "    yD = D*y1 + (1-D)*y0\n",
        "    yT = T*y1 + (1-T)*y0\n",
        "    sdo.append(yD[D == 1].mean() - yD[D == 0].mean())\n",
        "    ate.append(yT[T == 1].mean() - yT[T == 0].mean())"
      ]
    },
    {
      "cell_type": "code",
      "execution_count": null,
      "metadata": {
        "id": "dzqPvxypjIpE"
      },
      "outputs": [],
      "source": [
        "# Plot the distribution of the SDO and ATE\n",
        "\n",
        "fig, ax = plt.subplots(1, 2, figsize=(12, 6))\n",
        "\n",
        "ax[0].hist(sdo, bins=50, color='tab:blue')\n",
        "ax[0].axvline(np.mean(ate), color='black', linestyle='--')\n",
        "ax[0].set_title('SDO')\n",
        "ax[0].set_xlabel('Value')\n",
        "ax[0].set_ylabel('Frequency')\n",
        "ax[0].set_xlim(0, 1)\n",
        "\n",
        "ax[1].hist(ate, bins=50, color='tab:red')\n",
        "ax[1].axvline(np.mean(ate), color='black', linestyle='--')\n",
        "ax[1].set_title('ATE')\n",
        "ax[1].set_xlabel('Value')\n",
        "ax[1].set_ylabel('Frequency')\n",
        "ax[1].set_xlim(0, 1)\n",
        "\n",
        "plt.show()"
      ]
    },
    {
      "cell_type": "code",
      "execution_count": null,
      "metadata": {
        "id": "AraA_ld0jIpF"
      },
      "outputs": [],
      "source": []
    }
  ],
  "metadata": {
    "kernelspec": {
      "display_name": "base",
      "language": "python",
      "name": "python3"
    },
    "language_info": {
      "codemirror_mode": {
        "name": "ipython",
        "version": 3
      },
      "file_extension": ".py",
      "mimetype": "text/x-python",
      "name": "python",
      "nbconvert_exporter": "python",
      "pygments_lexer": "ipython3",
      "version": "3.9.12"
    },
    "colab": {
      "provenance": [],
      "include_colab_link": true
    }
  },
  "nbformat": 4,
  "nbformat_minor": 0
}